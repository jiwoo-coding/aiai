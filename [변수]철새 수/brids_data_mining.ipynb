{
 "cells": [
  {
   "cell_type": "markdown",
   "metadata": {},
   "source": [
    "### 철새 수 가설검정 과정"
   ]
  },
  {
   "cell_type": "markdown",
   "metadata": {},
   "source": [
    "철새가 자주 나타나는 월-1월,2월,3월,10월,11월,12월\n",
    "\n",
    "철새가 자주 나타나지 않는 월-4월,5월,6월,7월,8월,9월\n",
    "\n",
    "\n",
    "가정: 철새가 자주 나타나는 월과 철새가 자주 나타나지 않는 월의 발생건수 차이가 있을 것이다.\n",
    "\n",
    "귀무가설: 철새가 나타나는 월의 발생건수와 철새가 나타나지 않는 월의 발생건수 차이는 0이다.\n",
    "\n",
    "대립가설: 철새가 나타나는 월의 발생건수와 철새가 나타나지 않는 월의 발생건수 차이는 0이 아니다."
   ]
  },
  {
   "cell_type": "code",
   "execution_count": 1,
   "metadata": {},
   "outputs": [],
   "source": [
    "import pandas as pd\n",
    "import numpy as np\n",
    "import datetime\n",
    "import pandas as pd\n",
    "import seaborn as sns\n",
    "import scipy as sp\n",
    "from scipy import stats\n",
    "from matplotlib import pyplot as plt\n"
   ]
  },
  {
   "cell_type": "code",
   "execution_count": 2,
   "metadata": {},
   "outputs": [],
   "source": [
    "#2015년~2020년 웝 별 발생건수 데이터 파일\n",
    "\n",
    "brids_count=pd.read_csv(\"년월_발생건수.csv\", encoding='utf-8-sig')"
   ]
  },
  {
   "cell_type": "code",
   "execution_count": 3,
   "metadata": {},
   "outputs": [
    {
     "data": {
      "text/html": [
       "<div>\n",
       "<style scoped>\n",
       "    .dataframe tbody tr th:only-of-type {\n",
       "        vertical-align: middle;\n",
       "    }\n",
       "\n",
       "    .dataframe tbody tr th {\n",
       "        vertical-align: top;\n",
       "    }\n",
       "\n",
       "    .dataframe thead th {\n",
       "        text-align: right;\n",
       "    }\n",
       "</style>\n",
       "<table border=\"1\" class=\"dataframe\">\n",
       "  <thead>\n",
       "    <tr style=\"text-align: right;\">\n",
       "      <th></th>\n",
       "      <th>발생일</th>\n",
       "    </tr>\n",
       "    <tr>\n",
       "      <th>month</th>\n",
       "      <th></th>\n",
       "    </tr>\n",
       "  </thead>\n",
       "  <tbody>\n",
       "    <tr>\n",
       "      <th>1</th>\n",
       "      <td>25.000000</td>\n",
       "    </tr>\n",
       "    <tr>\n",
       "      <th>2</th>\n",
       "      <td>16.666667</td>\n",
       "    </tr>\n",
       "    <tr>\n",
       "      <th>3</th>\n",
       "      <td>15.750000</td>\n",
       "    </tr>\n",
       "    <tr>\n",
       "      <th>4</th>\n",
       "      <td>5.666667</td>\n",
       "    </tr>\n",
       "    <tr>\n",
       "      <th>5</th>\n",
       "      <td>6.000000</td>\n",
       "    </tr>\n",
       "  </tbody>\n",
       "</table>\n",
       "</div>"
      ],
      "text/plain": [
       "             발생일\n",
       "month           \n",
       "1      25.000000\n",
       "2      16.666667\n",
       "3      15.750000\n",
       "4       5.666667\n",
       "5       6.000000"
      ]
     },
     "execution_count": 3,
     "metadata": {},
     "output_type": "execute_result"
    }
   ],
   "source": [
    "#월 별로 발생건수 평균값 데이터프레임 생성\n",
    "brids_count=brids_count.groupby(['month'])['발생일'].mean()\n",
    "brids_count=brids_count.to_frame()\n",
    "brids_count.head()"
   ]
  },
  {
   "cell_type": "code",
   "execution_count": 4,
   "metadata": {},
   "outputs": [
    {
     "data": {
      "text/html": [
       "<div>\n",
       "<style scoped>\n",
       "    .dataframe tbody tr th:only-of-type {\n",
       "        vertical-align: middle;\n",
       "    }\n",
       "\n",
       "    .dataframe tbody tr th {\n",
       "        vertical-align: top;\n",
       "    }\n",
       "\n",
       "    .dataframe thead th {\n",
       "        text-align: right;\n",
       "    }\n",
       "</style>\n",
       "<table border=\"1\" class=\"dataframe\">\n",
       "  <thead>\n",
       "    <tr style=\"text-align: right;\">\n",
       "      <th></th>\n",
       "      <th>발생일</th>\n",
       "    </tr>\n",
       "    <tr>\n",
       "      <th>month</th>\n",
       "      <th></th>\n",
       "    </tr>\n",
       "  </thead>\n",
       "  <tbody>\n",
       "    <tr>\n",
       "      <th>1</th>\n",
       "      <td>25.000000</td>\n",
       "    </tr>\n",
       "    <tr>\n",
       "      <th>2</th>\n",
       "      <td>16.666667</td>\n",
       "    </tr>\n",
       "    <tr>\n",
       "      <th>3</th>\n",
       "      <td>15.750000</td>\n",
       "    </tr>\n",
       "    <tr>\n",
       "      <th>4</th>\n",
       "      <td>5.666667</td>\n",
       "    </tr>\n",
       "    <tr>\n",
       "      <th>5</th>\n",
       "      <td>6.000000</td>\n",
       "    </tr>\n",
       "    <tr>\n",
       "      <th>6</th>\n",
       "      <td>19.000000</td>\n",
       "    </tr>\n",
       "    <tr>\n",
       "      <th>9</th>\n",
       "      <td>7.000000</td>\n",
       "    </tr>\n",
       "    <tr>\n",
       "      <th>10</th>\n",
       "      <td>7.000000</td>\n",
       "    </tr>\n",
       "    <tr>\n",
       "      <th>11</th>\n",
       "      <td>18.000000</td>\n",
       "    </tr>\n",
       "    <tr>\n",
       "      <th>12</th>\n",
       "      <td>98.333333</td>\n",
       "    </tr>\n",
       "  </tbody>\n",
       "</table>\n",
       "</div>"
      ],
      "text/plain": [
       "             발생일\n",
       "month           \n",
       "1      25.000000\n",
       "2      16.666667\n",
       "3      15.750000\n",
       "4       5.666667\n",
       "5       6.000000\n",
       "6      19.000000\n",
       "9       7.000000\n",
       "10      7.000000\n",
       "11     18.000000\n",
       "12     98.333333"
      ]
     },
     "execution_count": 4,
     "metadata": {},
     "output_type": "execute_result"
    }
   ],
   "source": [
    "brids_count\n",
    "#7,8월은 발생건수 0건 ."
   ]
  },
  {
   "cell_type": "code",
   "execution_count": 5,
   "metadata": {},
   "outputs": [
    {
     "data": {
      "text/html": [
       "<div>\n",
       "<style scoped>\n",
       "    .dataframe tbody tr th:only-of-type {\n",
       "        vertical-align: middle;\n",
       "    }\n",
       "\n",
       "    .dataframe tbody tr th {\n",
       "        vertical-align: top;\n",
       "    }\n",
       "\n",
       "    .dataframe thead th {\n",
       "        text-align: right;\n",
       "    }\n",
       "</style>\n",
       "<table border=\"1\" class=\"dataframe\">\n",
       "  <thead>\n",
       "    <tr style=\"text-align: right;\">\n",
       "      <th></th>\n",
       "      <th>발생일</th>\n",
       "    </tr>\n",
       "    <tr>\n",
       "      <th>month</th>\n",
       "      <th></th>\n",
       "    </tr>\n",
       "  </thead>\n",
       "  <tbody>\n",
       "    <tr>\n",
       "      <th>1</th>\n",
       "      <td>25.000000</td>\n",
       "    </tr>\n",
       "    <tr>\n",
       "      <th>2</th>\n",
       "      <td>16.666667</td>\n",
       "    </tr>\n",
       "    <tr>\n",
       "      <th>3</th>\n",
       "      <td>15.750000</td>\n",
       "    </tr>\n",
       "    <tr>\n",
       "      <th>4</th>\n",
       "      <td>5.666667</td>\n",
       "    </tr>\n",
       "    <tr>\n",
       "      <th>5</th>\n",
       "      <td>6.000000</td>\n",
       "    </tr>\n",
       "    <tr>\n",
       "      <th>6</th>\n",
       "      <td>19.000000</td>\n",
       "    </tr>\n",
       "    <tr>\n",
       "      <th>9</th>\n",
       "      <td>7.000000</td>\n",
       "    </tr>\n",
       "    <tr>\n",
       "      <th>10</th>\n",
       "      <td>7.000000</td>\n",
       "    </tr>\n",
       "    <tr>\n",
       "      <th>11</th>\n",
       "      <td>18.000000</td>\n",
       "    </tr>\n",
       "    <tr>\n",
       "      <th>12</th>\n",
       "      <td>98.333333</td>\n",
       "    </tr>\n",
       "    <tr>\n",
       "      <th>7</th>\n",
       "      <td>12.500000</td>\n",
       "    </tr>\n",
       "    <tr>\n",
       "      <th>8</th>\n",
       "      <td>15.750000</td>\n",
       "    </tr>\n",
       "  </tbody>\n",
       "</table>\n",
       "</div>"
      ],
      "text/plain": [
       "             발생일\n",
       "month           \n",
       "1      25.000000\n",
       "2      16.666667\n",
       "3      15.750000\n",
       "4       5.666667\n",
       "5       6.000000\n",
       "6      19.000000\n",
       "9       7.000000\n",
       "10      7.000000\n",
       "11     18.000000\n",
       "12     98.333333\n",
       "7      12.500000\n",
       "8      15.750000"
      ]
     },
     "execution_count": 5,
     "metadata": {},
     "output_type": "execute_result"
    }
   ],
   "source": [
    "#7월, 8월 전 월 평균으로 대체하는 코드\n",
    "brids_count.loc[7,'발생일']=0\n",
    "brids_count.loc[8,'발생일']=0\n",
    "brids_count.loc[7,'발생일']=(brids_count.loc[5,'발생일']+brids_count.loc[6,'발생일'])/2\n",
    "brids_count.loc[8,'발생일']=(brids_count.loc[6,'발생일']+brids_count.loc[7,'발생일'])/2\n",
    "brids_count"
   ]
  },
  {
   "cell_type": "markdown",
   "metadata": {},
   "source": [
    "#### 7월,8월은 발생건수 0건. \n",
    "#### 7월은 5,6월의 평균값으로 대체 / 8월은 6,7월의 평균값으로 대체"
   ]
  },
  {
   "cell_type": "code",
   "execution_count": 6,
   "metadata": {
    "scrolled": true
   },
   "outputs": [
    {
     "name": "stdout",
     "output_type": "stream",
     "text": [
      "             발생일\n",
      "month           \n",
      "1      25.000000\n",
      "2      16.666667\n",
      "3      15.750000\n",
      "             발생일\n",
      "month           \n",
      "10      7.000000\n",
      "11     18.000000\n",
      "12     98.333333\n"
     ]
    }
   ],
   "source": [
    "#철새가 나타나는 월 추출 (발생건수 최솟값 3월과 10월 제외한 1~2월, 11월~12월)\n",
    "brids_count_1=brids_count.loc[1:3]\n",
    "print(brids_count_1)\n",
    "brids_count_10=brids_count.loc[10:12]\n",
    "print(brids_count_10)"
   ]
  },
  {
   "cell_type": "code",
   "execution_count": 7,
   "metadata": {},
   "outputs": [
    {
     "name": "stdout",
     "output_type": "stream",
     "text": [
      "             발생일\n",
      "month           \n",
      "1      25.000000\n",
      "2      16.666667\n",
      "3      15.750000\n",
      "10      7.000000\n",
      "11     18.000000\n",
      "12     98.333333\n"
     ]
    },
    {
     "data": {
      "text/html": [
       "<div>\n",
       "<style scoped>\n",
       "    .dataframe tbody tr th:only-of-type {\n",
       "        vertical-align: middle;\n",
       "    }\n",
       "\n",
       "    .dataframe tbody tr th {\n",
       "        vertical-align: top;\n",
       "    }\n",
       "\n",
       "    .dataframe thead th {\n",
       "        text-align: right;\n",
       "    }\n",
       "</style>\n",
       "<table border=\"1\" class=\"dataframe\">\n",
       "  <thead>\n",
       "    <tr style=\"text-align: right;\">\n",
       "      <th></th>\n",
       "      <th>발생일</th>\n",
       "    </tr>\n",
       "    <tr>\n",
       "      <th>month</th>\n",
       "      <th></th>\n",
       "    </tr>\n",
       "  </thead>\n",
       "  <tbody>\n",
       "    <tr>\n",
       "      <th>10</th>\n",
       "      <td>7.000000</td>\n",
       "    </tr>\n",
       "    <tr>\n",
       "      <th>3</th>\n",
       "      <td>15.750000</td>\n",
       "    </tr>\n",
       "    <tr>\n",
       "      <th>2</th>\n",
       "      <td>16.666667</td>\n",
       "    </tr>\n",
       "    <tr>\n",
       "      <th>11</th>\n",
       "      <td>18.000000</td>\n",
       "    </tr>\n",
       "    <tr>\n",
       "      <th>1</th>\n",
       "      <td>25.000000</td>\n",
       "    </tr>\n",
       "    <tr>\n",
       "      <th>12</th>\n",
       "      <td>98.333333</td>\n",
       "    </tr>\n",
       "  </tbody>\n",
       "</table>\n",
       "</div>"
      ],
      "text/plain": [
       "             발생일\n",
       "month           \n",
       "10      7.000000\n",
       "3      15.750000\n",
       "2      16.666667\n",
       "11     18.000000\n",
       "1      25.000000\n",
       "12     98.333333"
      ]
     },
     "execution_count": 7,
     "metadata": {},
     "output_type": "execute_result"
    }
   ],
   "source": [
    "#철새가 나타나는 월(발생건수 평균값)데이터 프레임 생성\n",
    "\n",
    "brids_count_oc=pd.concat([brids_count_1,brids_count_10],axis = 0)\n",
    "print(brids_count_oc)\n",
    "\n",
    "#내림차순 정렬\n",
    "brids_count_oc=brids_count_oc.sort_values(by=\"발생일\", ascending=True)\n",
    "brids_count_oc"
   ]
  },
  {
   "cell_type": "code",
   "execution_count": 8,
   "metadata": {},
   "outputs": [
    {
     "name": "stdout",
     "output_type": "stream",
     "text": [
      "             발생일\n",
      "month           \n",
      "4       5.666667\n",
      "5       6.000000\n",
      "6      19.000000\n",
      "9       7.000000\n",
      "             발생일\n",
      "month           \n",
      "4       5.666667\n",
      "5       6.000000\n",
      "6      19.000000\n",
      "9       7.000000\n"
     ]
    }
   ],
   "source": [
    "#철새가 자주 나타나지 않는 월 추출 (4~9월)\n",
    "brids_count_4=brids_count.loc[4:9]\n",
    "print(brids_count_4)\n",
    "brids_count_7=brids_count.loc[7:8]\n",
    "print(brids_count_4)\n",
    "\n",
    "#brids_count_6=brids_count.loc[6:9]\n",
    "#print(brids_count_6)"
   ]
  },
  {
   "cell_type": "code",
   "execution_count": 9,
   "metadata": {},
   "outputs": [
    {
     "data": {
      "text/html": [
       "<div>\n",
       "<style scoped>\n",
       "    .dataframe tbody tr th:only-of-type {\n",
       "        vertical-align: middle;\n",
       "    }\n",
       "\n",
       "    .dataframe tbody tr th {\n",
       "        vertical-align: top;\n",
       "    }\n",
       "\n",
       "    .dataframe thead th {\n",
       "        text-align: right;\n",
       "    }\n",
       "</style>\n",
       "<table border=\"1\" class=\"dataframe\">\n",
       "  <thead>\n",
       "    <tr style=\"text-align: right;\">\n",
       "      <th></th>\n",
       "      <th>발생일</th>\n",
       "    </tr>\n",
       "    <tr>\n",
       "      <th>month</th>\n",
       "      <th></th>\n",
       "    </tr>\n",
       "  </thead>\n",
       "  <tbody>\n",
       "    <tr>\n",
       "      <th>4</th>\n",
       "      <td>5.666667</td>\n",
       "    </tr>\n",
       "    <tr>\n",
       "      <th>5</th>\n",
       "      <td>6.000000</td>\n",
       "    </tr>\n",
       "    <tr>\n",
       "      <th>9</th>\n",
       "      <td>7.000000</td>\n",
       "    </tr>\n",
       "    <tr>\n",
       "      <th>7</th>\n",
       "      <td>12.500000</td>\n",
       "    </tr>\n",
       "    <tr>\n",
       "      <th>8</th>\n",
       "      <td>15.750000</td>\n",
       "    </tr>\n",
       "    <tr>\n",
       "      <th>6</th>\n",
       "      <td>19.000000</td>\n",
       "    </tr>\n",
       "  </tbody>\n",
       "</table>\n",
       "</div>"
      ],
      "text/plain": [
       "             발생일\n",
       "month           \n",
       "4       5.666667\n",
       "5       6.000000\n",
       "9       7.000000\n",
       "7      12.500000\n",
       "8      15.750000\n",
       "6      19.000000"
      ]
     },
     "execution_count": 9,
     "metadata": {},
     "output_type": "execute_result"
    }
   ],
   "source": [
    "#철새가 자주 나타나지 않는 월(발생건수 평균값)데이터 프레임 생성\n",
    "\n",
    "brids_count_nc=pd.concat([brids_count_4,brids_count_7],axis = 0)\n",
    "brids_count_nc\n",
    "\n",
    "#내림차순 정렬\n",
    "brids_count_nc=brids_count_nc.sort_values(by=\"발생일\", ascending=True)\n",
    "brids_count_nc"
   ]
  },
  {
   "cell_type": "markdown",
   "metadata": {},
   "source": [
    "가정: 철새가 나타나는 월과 철새가 나타나지 않는 월보다 발생건수 차이가 있을 것이다.\n",
    "\n",
    "귀무가설: 철새가 나타나는 월의 발생건수와 철새가 나타나지 않는 월의 발생건수 평균은 0이다.\n",
    "\n",
    "대립가설: 철새가 나타나는 월의 발생건수와 철새가 나타나지 않는 월의 발생건수 평균은 0이 아니다."
   ]
  },
  {
   "cell_type": "code",
   "execution_count": 10,
   "metadata": {},
   "outputs": [
    {
     "name": "stdout",
     "output_type": "stream",
     "text": [
      "test_stat: 0.656684, pvalue=0.002092\n",
      "test_stat: 0.879138, pvalue=0.265124\n"
     ]
    }
   ],
   "source": [
    "# 정규성 검정 특정 수치 미만이면 정규성을 따른다고 판단.\n",
    "test_stat, p_value = stats.shapiro(brids_count_oc)\n",
    "print(\"test_stat: %f, pvalue=%f\"%(test_stat, p_value))\n",
    "test_stat, p_value = stats.shapiro(brids_count_nc)\n",
    "print(\"test_stat: %f, pvalue=%f\"%(test_stat, p_value))"
   ]
  },
  {
   "cell_type": "code",
   "execution_count": 11,
   "metadata": {},
   "outputs": [
    {
     "data": {
      "text/plain": [
       "LeveneResult(statistic=0.8909436225049784, pvalue=0.3674677595103576)"
      ]
     },
     "execution_count": 11,
     "metadata": {},
     "output_type": "execute_result"
    }
   ],
   "source": [
    "#Levene의 등분산 검정 2표본 T test  0.05보다 크면 두 표본의 분산이 같다.\n",
    "stats.levene(brids_count_oc.발생일,brids_count_nc.발생일)"
   ]
  },
  {
   "cell_type": "code",
   "execution_count": 12,
   "metadata": {},
   "outputs": [
    {
     "name": "stdout",
     "output_type": "stream",
     "text": [
      "t-statistics : 1.3639994704342853, p-value : 0.20247890878591698\n"
     ]
    }
   ],
   "source": [
    "#독립 표본 t-검정 등분산성 0.05이상이면 equal_var=True\n",
    "\n",
    "t_stat, p_val=stats.ttest_ind(brids_count_oc.발생일,brids_count_nc.발생일,equal_var=True)\n",
    "print(\"t-statistics : {}, p-value : {}\".format(t_stat, p_val))"
   ]
  },
  {
   "cell_type": "code",
   "execution_count": 13,
   "metadata": {},
   "outputs": [
    {
     "data": {
      "text/plain": [
       "MannwhitneyuResult(statistic=7.0, pvalue=0.04577712072791625)"
      ]
     },
     "execution_count": 13,
     "metadata": {},
     "output_type": "execute_result"
    }
   ],
   "source": [
    "#표본크기 4개 (6개 이하는 불가피하게 비모수적 방법 사용) \n",
    "# mannwhitneyu 검정\n",
    "result_brids=sp.stats.mannwhitneyu(brids_count_oc.발생일,brids_count_nc.발생일)\n",
    "result_brids"
   ]
  },
  {
   "cell_type": "code",
   "execution_count": 14,
   "metadata": {},
   "outputs": [
    {
     "name": "stdout",
     "output_type": "stream",
     "text": [
      "u검정 통계량: 7.000, pvalue=0.046\n"
     ]
    }
   ],
   "source": [
    "print(\"u검정 통계량: %.3f, pvalue=%.3f\"%(result_brids))"
   ]
  },
  {
   "cell_type": "markdown",
   "metadata": {},
   "source": [
    "## 철새 수 선형회귀식"
   ]
  },
  {
   "cell_type": "code",
   "execution_count": 35,
   "metadata": {},
   "outputs": [],
   "source": [
    "import matplotlib.pyplot as plt\n",
    "import numpy as np\n",
    "from sklearn import linear_model"
   ]
  },
  {
   "cell_type": "code",
   "execution_count": 22,
   "metadata": {},
   "outputs": [
    {
     "data": {
      "text/html": [
       "<div>\n",
       "<style scoped>\n",
       "    .dataframe tbody tr th:only-of-type {\n",
       "        vertical-align: middle;\n",
       "    }\n",
       "\n",
       "    .dataframe tbody tr th {\n",
       "        vertical-align: top;\n",
       "    }\n",
       "\n",
       "    .dataframe thead th {\n",
       "        text-align: right;\n",
       "    }\n",
       "</style>\n",
       "<table border=\"1\" class=\"dataframe\">\n",
       "  <thead>\n",
       "    <tr style=\"text-align: right;\">\n",
       "      <th></th>\n",
       "      <th>year</th>\n",
       "      <th>month</th>\n",
       "      <th>철새수</th>\n",
       "      <th>발생건수</th>\n",
       "    </tr>\n",
       "  </thead>\n",
       "  <tbody>\n",
       "    <tr>\n",
       "      <th>0</th>\n",
       "      <td>2015</td>\n",
       "      <td>1</td>\n",
       "      <td>1072942</td>\n",
       "      <td>38.0</td>\n",
       "    </tr>\n",
       "    <tr>\n",
       "      <th>1</th>\n",
       "      <td>2015</td>\n",
       "      <td>2</td>\n",
       "      <td>777717</td>\n",
       "      <td>35.0</td>\n",
       "    </tr>\n",
       "    <tr>\n",
       "      <th>2</th>\n",
       "      <td>2015</td>\n",
       "      <td>3</td>\n",
       "      <td>1212369</td>\n",
       "      <td>29.0</td>\n",
       "    </tr>\n",
       "    <tr>\n",
       "      <th>3</th>\n",
       "      <td>2015</td>\n",
       "      <td>10</td>\n",
       "      <td>529192</td>\n",
       "      <td>7.0</td>\n",
       "    </tr>\n",
       "    <tr>\n",
       "      <th>4</th>\n",
       "      <td>2015</td>\n",
       "      <td>11</td>\n",
       "      <td>870346</td>\n",
       "      <td>3.0</td>\n",
       "    </tr>\n",
       "    <tr>\n",
       "      <th>5</th>\n",
       "      <td>2015</td>\n",
       "      <td>12</td>\n",
       "      <td>1944040</td>\n",
       "      <td>0.0</td>\n",
       "    </tr>\n",
       "    <tr>\n",
       "      <th>6</th>\n",
       "      <td>2016</td>\n",
       "      <td>1</td>\n",
       "      <td>1742589</td>\n",
       "      <td>0.0</td>\n",
       "    </tr>\n",
       "    <tr>\n",
       "      <th>7</th>\n",
       "      <td>2016</td>\n",
       "      <td>2</td>\n",
       "      <td>1029590</td>\n",
       "      <td>0.0</td>\n",
       "    </tr>\n",
       "    <tr>\n",
       "      <th>8</th>\n",
       "      <td>2016</td>\n",
       "      <td>3</td>\n",
       "      <td>515353</td>\n",
       "      <td>1.0</td>\n",
       "    </tr>\n",
       "    <tr>\n",
       "      <th>9</th>\n",
       "      <td>2016</td>\n",
       "      <td>10</td>\n",
       "      <td>542767</td>\n",
       "      <td>0.0</td>\n",
       "    </tr>\n",
       "    <tr>\n",
       "      <th>10</th>\n",
       "      <td>2016</td>\n",
       "      <td>11</td>\n",
       "      <td>982244</td>\n",
       "      <td>66.0</td>\n",
       "    </tr>\n",
       "    <tr>\n",
       "      <th>11</th>\n",
       "      <td>2016</td>\n",
       "      <td>12</td>\n",
       "      <td>1343073</td>\n",
       "      <td>247.0</td>\n",
       "    </tr>\n",
       "    <tr>\n",
       "      <th>12</th>\n",
       "      <td>2017</td>\n",
       "      <td>1</td>\n",
       "      <td>1489334</td>\n",
       "      <td>29.0</td>\n",
       "    </tr>\n",
       "    <tr>\n",
       "      <th>13</th>\n",
       "      <td>2017</td>\n",
       "      <td>2</td>\n",
       "      <td>996360</td>\n",
       "      <td>13.0</td>\n",
       "    </tr>\n",
       "    <tr>\n",
       "      <th>14</th>\n",
       "      <td>2017</td>\n",
       "      <td>3</td>\n",
       "      <td>483984</td>\n",
       "      <td>29.0</td>\n",
       "    </tr>\n",
       "    <tr>\n",
       "      <th>15</th>\n",
       "      <td>2017</td>\n",
       "      <td>10</td>\n",
       "      <td>391838</td>\n",
       "      <td>0.0</td>\n",
       "    </tr>\n",
       "    <tr>\n",
       "      <th>16</th>\n",
       "      <td>2017</td>\n",
       "      <td>11</td>\n",
       "      <td>627030</td>\n",
       "      <td>1.0</td>\n",
       "    </tr>\n",
       "    <tr>\n",
       "      <th>17</th>\n",
       "      <td>2017</td>\n",
       "      <td>12</td>\n",
       "      <td>1202766</td>\n",
       "      <td>7.0</td>\n",
       "    </tr>\n",
       "    <tr>\n",
       "      <th>18</th>\n",
       "      <td>2018</td>\n",
       "      <td>1</td>\n",
       "      <td>1579306</td>\n",
       "      <td>8.0</td>\n",
       "    </tr>\n",
       "    <tr>\n",
       "      <th>19</th>\n",
       "      <td>2018</td>\n",
       "      <td>2</td>\n",
       "      <td>1093577</td>\n",
       "      <td>2.0</td>\n",
       "    </tr>\n",
       "    <tr>\n",
       "      <th>20</th>\n",
       "      <td>2018</td>\n",
       "      <td>3</td>\n",
       "      <td>426978</td>\n",
       "      <td>4.0</td>\n",
       "    </tr>\n",
       "    <tr>\n",
       "      <th>21</th>\n",
       "      <td>2018</td>\n",
       "      <td>10</td>\n",
       "      <td>461740</td>\n",
       "      <td>0.0</td>\n",
       "    </tr>\n",
       "    <tr>\n",
       "      <th>22</th>\n",
       "      <td>2018</td>\n",
       "      <td>11</td>\n",
       "      <td>780281</td>\n",
       "      <td>0.0</td>\n",
       "    </tr>\n",
       "    <tr>\n",
       "      <th>23</th>\n",
       "      <td>2018</td>\n",
       "      <td>12</td>\n",
       "      <td>1461500</td>\n",
       "      <td>0.0</td>\n",
       "    </tr>\n",
       "    <tr>\n",
       "      <th>24</th>\n",
       "      <td>2019</td>\n",
       "      <td>1</td>\n",
       "      <td>1619361</td>\n",
       "      <td>0.0</td>\n",
       "    </tr>\n",
       "    <tr>\n",
       "      <th>25</th>\n",
       "      <td>2019</td>\n",
       "      <td>2</td>\n",
       "      <td>737360</td>\n",
       "      <td>0.0</td>\n",
       "    </tr>\n",
       "    <tr>\n",
       "      <th>26</th>\n",
       "      <td>2019</td>\n",
       "      <td>3</td>\n",
       "      <td>398783</td>\n",
       "      <td>0.0</td>\n",
       "    </tr>\n",
       "    <tr>\n",
       "      <th>27</th>\n",
       "      <td>2019</td>\n",
       "      <td>10</td>\n",
       "      <td>616639</td>\n",
       "      <td>0.0</td>\n",
       "    </tr>\n",
       "    <tr>\n",
       "      <th>28</th>\n",
       "      <td>2019</td>\n",
       "      <td>11</td>\n",
       "      <td>725090</td>\n",
       "      <td>0.0</td>\n",
       "    </tr>\n",
       "    <tr>\n",
       "      <th>29</th>\n",
       "      <td>2019</td>\n",
       "      <td>12</td>\n",
       "      <td>1999044</td>\n",
       "      <td>0.0</td>\n",
       "    </tr>\n",
       "    <tr>\n",
       "      <th>30</th>\n",
       "      <td>2020</td>\n",
       "      <td>1</td>\n",
       "      <td>1837770</td>\n",
       "      <td>0.0</td>\n",
       "    </tr>\n",
       "    <tr>\n",
       "      <th>31</th>\n",
       "      <td>2020</td>\n",
       "      <td>2</td>\n",
       "      <td>947178</td>\n",
       "      <td>0.0</td>\n",
       "    </tr>\n",
       "    <tr>\n",
       "      <th>32</th>\n",
       "      <td>2020</td>\n",
       "      <td>3</td>\n",
       "      <td>398955</td>\n",
       "      <td>0.0</td>\n",
       "    </tr>\n",
       "    <tr>\n",
       "      <th>33</th>\n",
       "      <td>2020</td>\n",
       "      <td>10</td>\n",
       "      <td>583945</td>\n",
       "      <td>0.0</td>\n",
       "    </tr>\n",
       "    <tr>\n",
       "      <th>34</th>\n",
       "      <td>2020</td>\n",
       "      <td>11</td>\n",
       "      <td>1032392</td>\n",
       "      <td>2.0</td>\n",
       "    </tr>\n",
       "    <tr>\n",
       "      <th>35</th>\n",
       "      <td>2020</td>\n",
       "      <td>12</td>\n",
       "      <td>1731813</td>\n",
       "      <td>41.0</td>\n",
       "    </tr>\n",
       "  </tbody>\n",
       "</table>\n",
       "</div>"
      ],
      "text/plain": [
       "    year  month      철새수   발생건수\n",
       "0   2015      1  1072942   38.0\n",
       "1   2015      2   777717   35.0\n",
       "2   2015      3  1212369   29.0\n",
       "3   2015     10   529192    7.0\n",
       "4   2015     11   870346    3.0\n",
       "5   2015     12  1944040    0.0\n",
       "6   2016      1  1742589    0.0\n",
       "7   2016      2  1029590    0.0\n",
       "8   2016      3   515353    1.0\n",
       "9   2016     10   542767    0.0\n",
       "10  2016     11   982244   66.0\n",
       "11  2016     12  1343073  247.0\n",
       "12  2017      1  1489334   29.0\n",
       "13  2017      2   996360   13.0\n",
       "14  2017      3   483984   29.0\n",
       "15  2017     10   391838    0.0\n",
       "16  2017     11   627030    1.0\n",
       "17  2017     12  1202766    7.0\n",
       "18  2018      1  1579306    8.0\n",
       "19  2018      2  1093577    2.0\n",
       "20  2018      3   426978    4.0\n",
       "21  2018     10   461740    0.0\n",
       "22  2018     11   780281    0.0\n",
       "23  2018     12  1461500    0.0\n",
       "24  2019      1  1619361    0.0\n",
       "25  2019      2   737360    0.0\n",
       "26  2019      3   398783    0.0\n",
       "27  2019     10   616639    0.0\n",
       "28  2019     11   725090    0.0\n",
       "29  2019     12  1999044    0.0\n",
       "30  2020      1  1837770    0.0\n",
       "31  2020      2   947178    0.0\n",
       "32  2020      3   398955    0.0\n",
       "33  2020     10   583945    0.0\n",
       "34  2020     11  1032392    2.0\n",
       "35  2020     12  1731813   41.0"
      ]
     },
     "execution_count": 22,
     "metadata": {},
     "output_type": "execute_result"
    }
   ],
   "source": [
    "brids_occur=pd.read_csv(\"철새수_년도월_발생건수.csv\", encoding='utf-8-sig')\n",
    "brids_occur"
   ]
  },
  {
   "cell_type": "code",
   "execution_count": 23,
   "metadata": {},
   "outputs": [],
   "source": [
    "def get_outlier(df=None, column=None, weight=1.5):\n",
    "    # target 값과 상관관계가 높은 열을 우선적으로 진행\n",
    "    quantile_25 = np.percentile(df[column].values, 25)\n",
    "    quantile_75 = np.percentile(df[column].values, 75)\n",
    "\n",
    "    IQR = quantile_75 - quantile_25\n",
    "    IQR_weight = IQR*weight\n",
    "\n",
    "    lowest = quantile_25 - IQR_weight\n",
    "    highest = quantile_75 + IQR_weight\n",
    "\n",
    "    outlier_idx = df[column][ (df[column] < lowest) | (df[column] > highest) ].index\n",
    "    return outlier_idx"
   ]
  },
  {
   "cell_type": "code",
   "execution_count": 25,
   "metadata": {},
   "outputs": [],
   "source": [
    "outlier_idx = get_outlier(df=brids_occur, column='철새수', weight=1.5)\n",
    "brids_occur.drop(outlier_idx, axis=0, inplace=True)"
   ]
  },
  {
   "cell_type": "code",
   "execution_count": 26,
   "metadata": {},
   "outputs": [
    {
     "data": {
      "text/html": [
       "<div>\n",
       "<style scoped>\n",
       "    .dataframe tbody tr th:only-of-type {\n",
       "        vertical-align: middle;\n",
       "    }\n",
       "\n",
       "    .dataframe tbody tr th {\n",
       "        vertical-align: top;\n",
       "    }\n",
       "\n",
       "    .dataframe thead th {\n",
       "        text-align: right;\n",
       "    }\n",
       "</style>\n",
       "<table border=\"1\" class=\"dataframe\">\n",
       "  <thead>\n",
       "    <tr style=\"text-align: right;\">\n",
       "      <th></th>\n",
       "      <th>year</th>\n",
       "      <th>month</th>\n",
       "      <th>철새수</th>\n",
       "      <th>발생건수</th>\n",
       "    </tr>\n",
       "  </thead>\n",
       "  <tbody>\n",
       "    <tr>\n",
       "      <th>0</th>\n",
       "      <td>2015</td>\n",
       "      <td>1</td>\n",
       "      <td>1072942</td>\n",
       "      <td>38.0</td>\n",
       "    </tr>\n",
       "    <tr>\n",
       "      <th>1</th>\n",
       "      <td>2015</td>\n",
       "      <td>2</td>\n",
       "      <td>777717</td>\n",
       "      <td>35.0</td>\n",
       "    </tr>\n",
       "    <tr>\n",
       "      <th>2</th>\n",
       "      <td>2015</td>\n",
       "      <td>3</td>\n",
       "      <td>1212369</td>\n",
       "      <td>29.0</td>\n",
       "    </tr>\n",
       "    <tr>\n",
       "      <th>3</th>\n",
       "      <td>2015</td>\n",
       "      <td>10</td>\n",
       "      <td>529192</td>\n",
       "      <td>7.0</td>\n",
       "    </tr>\n",
       "    <tr>\n",
       "      <th>4</th>\n",
       "      <td>2015</td>\n",
       "      <td>11</td>\n",
       "      <td>870346</td>\n",
       "      <td>3.0</td>\n",
       "    </tr>\n",
       "  </tbody>\n",
       "</table>\n",
       "</div>"
      ],
      "text/plain": [
       "   year  month      철새수  발생건수\n",
       "0  2015      1  1072942  38.0\n",
       "1  2015      2   777717  35.0\n",
       "2  2015      3  1212369  29.0\n",
       "3  2015     10   529192   7.0\n",
       "4  2015     11   870346   3.0"
      ]
     },
     "execution_count": 26,
     "metadata": {},
     "output_type": "execute_result"
    }
   ],
   "source": [
    "brids_occur.head()"
   ]
  },
  {
   "cell_type": "code",
   "execution_count": 27,
   "metadata": {},
   "outputs": [],
   "source": [
    "x=np.reshape(brids_occur['철새수'].values, ((1,)+brids_occur['발생건수'].values.shape))"
   ]
  },
  {
   "cell_type": "code",
   "execution_count": 29,
   "metadata": {},
   "outputs": [
    {
     "data": {
      "text/plain": [
       "array([[1072942],\n",
       "       [ 777717],\n",
       "       [1212369],\n",
       "       [ 529192],\n",
       "       [ 870346],\n",
       "       [1944040],\n",
       "       [1742589],\n",
       "       [1029590],\n",
       "       [ 515353],\n",
       "       [ 542767],\n",
       "       [ 982244],\n",
       "       [1343073],\n",
       "       [1489334],\n",
       "       [ 996360],\n",
       "       [ 483984],\n",
       "       [ 391838],\n",
       "       [ 627030],\n",
       "       [1202766],\n",
       "       [1579306],\n",
       "       [1093577],\n",
       "       [ 426978],\n",
       "       [ 461740],\n",
       "       [ 780281],\n",
       "       [1461500],\n",
       "       [1619361],\n",
       "       [ 737360],\n",
       "       [ 398783],\n",
       "       [ 616639],\n",
       "       [ 725090],\n",
       "       [1999044],\n",
       "       [1837770],\n",
       "       [ 947178],\n",
       "       [ 398955],\n",
       "       [ 583945],\n",
       "       [1032392],\n",
       "       [1731813]], dtype=int64)"
      ]
     },
     "execution_count": 29,
     "metadata": {},
     "output_type": "execute_result"
    }
   ],
   "source": [
    "x=np.expand_dims(brids_occur['철새수'].values, axis=1)\n",
    "x"
   ]
  },
  {
   "cell_type": "code",
   "execution_count": 31,
   "metadata": {},
   "outputs": [
    {
     "data": {
      "text/plain": [
       "array([ 38.,  35.,  29.,   7.,   3.,   0.,   0.,   0.,   1.,   0.,  66.,\n",
       "       247.,  29.,  13.,  29.,   0.,   1.,   7.,   8.,   2.,   4.,   0.,\n",
       "         0.,   0.,   0.,   0.,   0.,   0.,   0.,   0.,   0.,   0.,   0.,\n",
       "         0.,   2.,  41.])"
      ]
     },
     "execution_count": 31,
     "metadata": {},
     "output_type": "execute_result"
    }
   ],
   "source": [
    "y=brids_occur['발생건수'].values\n",
    "y"
   ]
  },
  {
   "cell_type": "code",
   "execution_count": 44,
   "metadata": {},
   "outputs": [
    {
     "ename": "TypeError",
     "evalue": "cannot concatenate object of type '<class 'numpy.ndarray'>'; only Series and DataFrame objs are valid",
     "output_type": "error",
     "traceback": [
      "\u001b[1;31m---------------------------------------------------------------------------\u001b[0m",
      "\u001b[1;31mTypeError\u001b[0m                                 Traceback (most recent call last)",
      "\u001b[1;32m<ipython-input-44-99c9fcd00b32>\u001b[0m in \u001b[0;36m<module>\u001b[1;34m\u001b[0m\n\u001b[1;32m----> 1\u001b[1;33m \u001b[0mxy\u001b[0m\u001b[1;33m=\u001b[0m\u001b[0mpd\u001b[0m\u001b[1;33m.\u001b[0m\u001b[0mconcat\u001b[0m\u001b[1;33m(\u001b[0m\u001b[1;33m[\u001b[0m\u001b[0mx\u001b[0m\u001b[1;33m,\u001b[0m\u001b[0my\u001b[0m\u001b[1;33m]\u001b[0m\u001b[1;33m,\u001b[0m\u001b[0maxis\u001b[0m\u001b[1;33m=\u001b[0m\u001b[1;36m0\u001b[0m\u001b[1;33m)\u001b[0m\u001b[1;33m\u001b[0m\u001b[1;33m\u001b[0m\u001b[0m\n\u001b[0m",
      "\u001b[1;32mC:\\ProgramData\\Anaconda3\\lib\\site-packages\\pandas\\core\\reshape\\concat.py\u001b[0m in \u001b[0;36mconcat\u001b[1;34m(objs, axis, join, ignore_index, keys, levels, names, verify_integrity, sort, copy)\u001b[0m\n\u001b[0;32m    272\u001b[0m     \u001b[0mValueError\u001b[0m\u001b[1;33m:\u001b[0m \u001b[0mIndexes\u001b[0m \u001b[0mhave\u001b[0m \u001b[0moverlapping\u001b[0m \u001b[0mvalues\u001b[0m\u001b[1;33m:\u001b[0m \u001b[1;33m[\u001b[0m\u001b[1;34m'a'\u001b[0m\u001b[1;33m]\u001b[0m\u001b[1;33m\u001b[0m\u001b[1;33m\u001b[0m\u001b[0m\n\u001b[0;32m    273\u001b[0m     \"\"\"\n\u001b[1;32m--> 274\u001b[1;33m     op = _Concatenator(\n\u001b[0m\u001b[0;32m    275\u001b[0m         \u001b[0mobjs\u001b[0m\u001b[1;33m,\u001b[0m\u001b[1;33m\u001b[0m\u001b[1;33m\u001b[0m\u001b[0m\n\u001b[0;32m    276\u001b[0m         \u001b[0maxis\u001b[0m\u001b[1;33m=\u001b[0m\u001b[0maxis\u001b[0m\u001b[1;33m,\u001b[0m\u001b[1;33m\u001b[0m\u001b[1;33m\u001b[0m\u001b[0m\n",
      "\u001b[1;32mC:\\ProgramData\\Anaconda3\\lib\\site-packages\\pandas\\core\\reshape\\concat.py\u001b[0m in \u001b[0;36m__init__\u001b[1;34m(self, objs, axis, join, keys, levels, names, ignore_index, verify_integrity, copy, sort)\u001b[0m\n\u001b[0;32m    357\u001b[0m                     \u001b[1;34m\"only Series and DataFrame objs are valid\"\u001b[0m\u001b[1;33m\u001b[0m\u001b[1;33m\u001b[0m\u001b[0m\n\u001b[0;32m    358\u001b[0m                 )\n\u001b[1;32m--> 359\u001b[1;33m                 \u001b[1;32mraise\u001b[0m \u001b[0mTypeError\u001b[0m\u001b[1;33m(\u001b[0m\u001b[0mmsg\u001b[0m\u001b[1;33m)\u001b[0m\u001b[1;33m\u001b[0m\u001b[1;33m\u001b[0m\u001b[0m\n\u001b[0m\u001b[0;32m    360\u001b[0m \u001b[1;33m\u001b[0m\u001b[0m\n\u001b[0;32m    361\u001b[0m             \u001b[1;31m# consolidate\u001b[0m\u001b[1;33m\u001b[0m\u001b[1;33m\u001b[0m\u001b[1;33m\u001b[0m\u001b[0m\n",
      "\u001b[1;31mTypeError\u001b[0m: cannot concatenate object of type '<class 'numpy.ndarray'>'; only Series and DataFrame objs are valid"
     ]
    }
   ],
   "source": [
    "xy=pd.concat([x,y],axis=0)"
   ]
  },
  {
   "cell_type": "code",
   "execution_count": 42,
   "metadata": {},
   "outputs": [],
   "source": [
    "from statsmodels.formula.api import ols\n",
    "import pandas as pd\n",
    "import matplotlib.pyplot as plt"
   ]
  },
  {
   "cell_type": "code",
   "execution_count": 43,
   "metadata": {},
   "outputs": [
    {
     "ename": "NameError",
     "evalue": "name 'xy' is not defined",
     "output_type": "error",
     "traceback": [
      "\u001b[1;31m---------------------------------------------------------------------------\u001b[0m",
      "\u001b[1;31mNameError\u001b[0m                                 Traceback (most recent call last)",
      "\u001b[1;32m<ipython-input-43-a15d2735f000>\u001b[0m in \u001b[0;36m<module>\u001b[1;34m\u001b[0m\n\u001b[1;32m----> 1\u001b[1;33m \u001b[0mres\u001b[0m\u001b[1;33m=\u001b[0m\u001b[0mols\u001b[0m\u001b[1;33m(\u001b[0m\u001b[1;34m'철새수 ~ 발생건수'\u001b[0m\u001b[1;33m,\u001b[0m\u001b[0mdata\u001b[0m\u001b[1;33m=\u001b[0m\u001b[0mxy\u001b[0m\u001b[1;33m)\u001b[0m\u001b[1;33m.\u001b[0m\u001b[0mfit\u001b[0m\u001b[1;33m(\u001b[0m\u001b[1;33m)\u001b[0m\u001b[1;33m\u001b[0m\u001b[1;33m\u001b[0m\u001b[0m\n\u001b[0m",
      "\u001b[1;31mNameError\u001b[0m: name 'xy' is not defined"
     ]
    }
   ],
   "source": [
    "res=ols('철새수 ~ 발생건수',data=xy).fit()"
   ]
  },
  {
   "cell_type": "code",
   "execution_count": 33,
   "metadata": {},
   "outputs": [
    {
     "name": "stdout",
     "output_type": "stream",
     "text": [
      "   month     시도  발생건수(타겟)      철새수  range   result 철새수/result  표준 risk  risk  \\\n",
      "0      1    강원도         2   626130    2,3   947733        66%        5     3   \n",
      "1      1    경기도        55  1242626  55,56  1072138       116%        5     5   \n",
      "2      1   경상남도        11   347682  11,12   968858        36%        5     1   \n",
      "3      1   경상북도         2   554884    2,3   947733        59%        5     2   \n",
      "4      1  광주광역시         0    49915    0,1   943038         5%        5     0   \n",
      "\n",
      "   Unnamed: 9 리스크 기준(이상/미만)   점수  \n",
      "0         NaN        0%~20%  0.0  \n",
      "1         NaN       20%~40%  1.0  \n",
      "2         NaN       40%~60%  2.0  \n",
      "3         NaN       60%~80%  3.0  \n",
      "4         NaN      80%~100%  4.0  \n"
     ]
    },
    {
     "data": {
      "text/plain": [
       "0       626130\n",
       "1      1242626\n",
       "2       347682\n",
       "3       554884\n",
       "4        49915\n",
       "        ...   \n",
       "113    2099384\n",
       "114     965887\n",
       "115     213369\n",
       "116    2737777\n",
       "117     212265\n",
       "Name: 철새수, Length: 118, dtype: int64"
      ]
     },
     "execution_count": 33,
     "metadata": {},
     "output_type": "execute_result"
    }
   ],
   "source": [
    "# C: 철새수 불러오기\n",
    "D78=pd.read_csv(\"brids_risktable.csv\")\n",
    "print(D78.head())\n",
    "C=D78['철새수']\n",
    "C"
   ]
  },
  {
   "cell_type": "code",
   "execution_count": 36,
   "metadata": {},
   "outputs": [
    {
     "data": {
      "text/plain": [
       "LinearRegression()"
      ]
     },
     "execution_count": 36,
     "metadata": {},
     "output_type": "execute_result"
    }
   ],
   "source": [
    "regr=linear_model.LinearRegression()\n",
    "regr.fit(x, y)"
   ]
  },
  {
   "cell_type": "code",
   "execution_count": 37,
   "metadata": {},
   "outputs": [
    {
     "data": {
      "image/png": "[encoded data removed]",
      "text/plain": [
       "<Figure size 432x288 with 1 Axes>"
      ]
     },
     "metadata": {
      "needs_background": "light"
     },
     "output_type": "display_data"
    }
   ],
   "source": [
    "plt.scatter(x,y)\n",
    "plt.plot(x,regr.predict(x), c='blue')\n",
    "plt.show()\n",
    "\n",
    "# x축=철새수\n",
    "# y축=발생건수"
   ]
  },
  {
   "cell_type": "code",
   "execution_count": 38,
   "metadata": {},
   "outputs": [],
   "source": [
    "# C: 철새 수 값 \n",
    "result=[]\n",
    "#num=C\n",
    "for i in C:\n",
    "    result.append(np.round(regr.predict([[i]]),0))"
   ]
  },
  {
   "cell_type": "code",
   "execution_count": 39,
   "metadata": {},
   "outputs": [
    {
     "data": {
      "text/plain": [
       "[array([11.]),\n",
       " array([19.]),\n",
       " array([7.]),\n",
       " array([10.]),\n",
       " array([3.]),\n",
       " array([3.]),\n",
       " array([8.]),\n",
       " array([4.]),\n",
       " array([3.]),\n",
       " array([12.]),\n",
       " array([5.]),\n",
       " array([16.]),\n",
       " array([26.]),\n",
       " array([6.]),\n",
       " array([47.]),\n",
       " array([5.]),\n",
       " array([8.]),\n",
       " array([15.]),\n",
       " array([4.]),\n",
       " array([7.]),\n",
       " array([3.]),\n",
       " array([2.]),\n",
       " array([7.]),\n",
       " array([3.]),\n",
       " array([3.]),\n",
       " array([7.]),\n",
       " array([3.]),\n",
       " array([9.]),\n",
       " array([12.]),\n",
       " array([4.]),\n",
       " array([34.]),\n",
       " array([4.]),\n",
       " array([8.]),\n",
       " array([17.]),\n",
       " array([3.]),\n",
       " array([5.]),\n",
       " array([3.]),\n",
       " array([2.]),\n",
       " array([5.]),\n",
       " array([4.]),\n",
       " array([3.]),\n",
       " array([4.]),\n",
       " array([2.]),\n",
       " array([5.]),\n",
       " array([5.]),\n",
       " array([3.]),\n",
       " array([18.]),\n",
       " array([4.]),\n",
       " array([2.]),\n",
       " array([2.]),\n",
       " array([2.]),\n",
       " array([2.]),\n",
       " array([2.]),\n",
       " array([2.]),\n",
       " array([2.]),\n",
       " array([2.]),\n",
       " array([2.]),\n",
       " array([2.]),\n",
       " array([2.]),\n",
       " array([2.]),\n",
       " array([2.]),\n",
       " array([2.]),\n",
       " array([2.]),\n",
       " array([2.]),\n",
       " array([2.]),\n",
       " array([2.]),\n",
       " array([2.]),\n",
       " array([2.]),\n",
       " array([2.]),\n",
       " array([2.]),\n",
       " array([8.]),\n",
       " array([16.]),\n",
       " array([4.]),\n",
       " array([4.]),\n",
       " array([2.]),\n",
       " array([2.]),\n",
       " array([5.]),\n",
       " array([3.]),\n",
       " array([3.]),\n",
       " array([3.]),\n",
       " array([2.]),\n",
       " array([4.]),\n",
       " array([5.]),\n",
       " array([3.]),\n",
       " array([22.]),\n",
       " array([3.]),\n",
       " array([9.]),\n",
       " array([19.]),\n",
       " array([5.]),\n",
       " array([5.]),\n",
       " array([3.]),\n",
       " array([2.]),\n",
       " array([8.]),\n",
       " array([3.]),\n",
       " array([3.]),\n",
       " array([5.]),\n",
       " array([2.]),\n",
       " array([13.]),\n",
       " array([8.]),\n",
       " array([3.]),\n",
       " array([27.]),\n",
       " array([4.]),\n",
       " array([13.]),\n",
       " array([21.]),\n",
       " array([7.]),\n",
       " array([10.]),\n",
       " array([3.]),\n",
       " array([3.]),\n",
       " array([7.]),\n",
       " array([4.]),\n",
       " array([3.]),\n",
       " array([11.]),\n",
       " array([6.]),\n",
       " array([30.]),\n",
       " array([15.]),\n",
       " array([5.]),\n",
       " array([38.]),\n",
       " array([5.])]"
      ]
     },
     "execution_count": 39,
     "metadata": {},
     "output_type": "execute_result"
    }
   ],
   "source": [
    "result"
   ]
  },
  {
   "cell_type": "code",
   "execution_count": 40,
   "metadata": {},
   "outputs": [
    {
     "data": {
      "text/plain": [
       "[array([11.]),\n",
       " array([19.]),\n",
       " array([7.]),\n",
       " array([10.]),\n",
       " array([3.]),\n",
       " array([3.]),\n",
       " array([8.]),\n",
       " array([4.]),\n",
       " array([3.]),\n",
       " array([12.]),\n",
       " array([5.]),\n",
       " array([16.]),\n",
       " array([26.]),\n",
       " array([6.]),\n",
       " array([47.]),\n",
       " array([5.]),\n",
       " array([8.]),\n",
       " array([15.]),\n",
       " array([4.]),\n",
       " array([7.]),\n",
       " array([3.]),\n",
       " array([2.]),\n",
       " array([7.]),\n",
       " array([3.]),\n",
       " array([3.]),\n",
       " array([7.]),\n",
       " array([3.]),\n",
       " array([9.]),\n",
       " array([12.]),\n",
       " array([4.]),\n",
       " array([34.]),\n",
       " array([4.]),\n",
       " array([8.]),\n",
       " array([17.]),\n",
       " array([3.]),\n",
       " array([5.]),\n",
       " array([3.]),\n",
       " array([2.]),\n",
       " array([5.]),\n",
       " array([4.]),\n",
       " array([3.]),\n",
       " array([4.]),\n",
       " array([2.]),\n",
       " array([5.]),\n",
       " array([5.]),\n",
       " array([3.]),\n",
       " array([18.]),\n",
       " array([4.]),\n",
       " array([2.]),\n",
       " array([2.]),\n",
       " array([2.]),\n",
       " array([2.]),\n",
       " array([2.]),\n",
       " array([2.]),\n",
       " array([2.]),\n",
       " array([2.]),\n",
       " array([2.]),\n",
       " array([2.]),\n",
       " array([2.]),\n",
       " array([2.]),\n",
       " array([2.]),\n",
       " array([2.]),\n",
       " array([2.]),\n",
       " array([2.]),\n",
       " array([2.]),\n",
       " array([2.]),\n",
       " array([2.]),\n",
       " array([2.]),\n",
       " array([2.]),\n",
       " array([2.]),\n",
       " array([8.]),\n",
       " array([16.]),\n",
       " array([4.]),\n",
       " array([4.]),\n",
       " array([2.]),\n",
       " array([2.]),\n",
       " array([5.]),\n",
       " array([3.]),\n",
       " array([3.]),\n",
       " array([3.]),\n",
       " array([2.]),\n",
       " array([4.]),\n",
       " array([5.]),\n",
       " array([3.]),\n",
       " array([22.]),\n",
       " array([3.]),\n",
       " array([9.]),\n",
       " array([19.]),\n",
       " array([5.]),\n",
       " array([5.]),\n",
       " array([3.]),\n",
       " array([2.]),\n",
       " array([8.]),\n",
       " array([3.]),\n",
       " array([3.]),\n",
       " array([5.]),\n",
       " array([2.]),\n",
       " array([13.]),\n",
       " array([8.]),\n",
       " array([3.]),\n",
       " array([27.]),\n",
       " array([4.]),\n",
       " array([13.]),\n",
       " array([21.]),\n",
       " array([7.]),\n",
       " array([10.]),\n",
       " array([3.]),\n",
       " array([3.]),\n",
       " array([7.]),\n",
       " array([4.]),\n",
       " array([3.]),\n",
       " array([11.]),\n",
       " array([6.]),\n",
       " array([30.]),\n",
       " array([15.]),\n",
       " array([5.]),\n",
       " array([38.]),\n",
       " array([5.])]"
      ]
     },
     "execution_count": 40,
     "metadata": {},
     "output_type": "execute_result"
    }
   ],
   "source": [
    "R=result\n",
    "R"
   ]
  },
  {
   "cell_type": "code",
   "execution_count": 41,
   "metadata": {},
   "outputs": [
    {
     "name": "stdout",
     "output_type": "stream",
     "text": [
      "[1.31015594e-05] 2.4421347520418344\n"
     ]
    }
   ],
   "source": [
    "print(regr.coef_, regr.intercept_)"
   ]
  },
  {
   "cell_type": "code",
   "execution_count": null,
   "metadata": {},
   "outputs": [],
   "source": []
  }
 ],
 "metadata": {
  "kernelspec": {
   "display_name": "Python 3",
   "language": "python",
   "name": "python3"
  },
  "language_info": {
   "codemirror_mode": {
    "name": "ipython",
    "version": 3
   },
   "file_extension": ".py",
   "mimetype": "text/x-python",
   "name": "python",
   "nbconvert_exporter": "python",
   "pygments_lexer": "ipython3",
   "version": "3.8.5"
  }
 },
 "nbformat": 4,
 "nbformat_minor": 4
}
