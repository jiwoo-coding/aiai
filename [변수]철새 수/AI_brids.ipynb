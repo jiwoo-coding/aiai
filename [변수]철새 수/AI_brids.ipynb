{
 "cells": [
  {
   "cell_type": "markdown",
   "metadata": {},
   "source": [
    "가설 1\n",
    "\n",
    "가정: 조류인플루엔자는 겨울에 가장 많이 발생할 것이다. \n",
    "\n",
    "귀무가설: 겨울의 AI 발생건수는 다른계절의 발생건수 합보다 작다.\n",
    "\n",
    "대립가설: 겨울의 AI 발생건수는 다른계절의 발생건수 합보다 크다.\n",
    "\n",
    "근거: 조류인플루엔자는 대부분 야생에 사는 새들의 감기가 가축화 된 닭이나 오리에게 전염돼 발생한 것이다. 한 해 동안 우리나라를 찾아오는 겨울 철새는 대략 126만 마리. 때문에 우리나라는 철새 위험시기에 의한 특별방역대책기간을 정해놓고 있기도 하다.이러한 이유로 철새가 북상하는 겨울에 조류인플루엔자 발생 건수가 높을 것으로 예측할 수 있다.\n"
   ]
  },
  {
   "cell_type": "code",
   "execution_count": 1,
   "metadata": {},
   "outputs": [],
   "source": [
    "import weatherAPI\n",
    "import pandas as pd\n",
    "import numpy as np\n",
    "import datetime\n",
    "import pandas as pd\n",
    "import seaborn as sns\n",
    "import scipy as sp\n",
    "from scipy import stats"
   ]
  },
  {
   "cell_type": "code",
   "execution_count": 2,
   "metadata": {},
   "outputs": [],
   "source": [
    "AI=pd.read_csv(\"HPAIOccurlist_final.csv\")\n",
    "AI_occur=AI.copy()"
   ]
  },
  {
   "cell_type": "code",
   "execution_count": 3,
   "metadata": {
    "scrolled": true
   },
   "outputs": [],
   "source": [
    "AI_occur.drop(columns=['축종'],inplace=True)\n",
    "AI_occur.drop(columns=['사육수'],inplace=True)\n",
    "AI_occur.drop(columns=['진단일'],inplace=True)"
   ]
  },
  {
   "cell_type": "code",
   "execution_count": 4,
   "metadata": {},
   "outputs": [
    {
     "data": {
      "text/html": [
       "<div>\n",
       "<style scoped>\n",
       "    .dataframe tbody tr th:only-of-type {\n",
       "        vertical-align: middle;\n",
       "    }\n",
       "\n",
       "    .dataframe tbody tr th {\n",
       "        vertical-align: top;\n",
       "    }\n",
       "\n",
       "    .dataframe thead th {\n",
       "        text-align: right;\n",
       "    }\n",
       "</style>\n",
       "<table border=\"1\" class=\"dataframe\">\n",
       "  <thead>\n",
       "    <tr style=\"text-align: right;\">\n",
       "      <th></th>\n",
       "      <th>주소</th>\n",
       "      <th>발생일</th>\n",
       "      <th>지역코드</th>\n",
       "    </tr>\n",
       "  </thead>\n",
       "  <tbody>\n",
       "    <tr>\n",
       "      <th>0</th>\n",
       "      <td>충청북도 음성군 삼성면 용성리</td>\n",
       "      <td>20031212</td>\n",
       "      <td>127</td>\n",
       "    </tr>\n",
       "    <tr>\n",
       "      <th>1</th>\n",
       "      <td>충청북도 음성군 삼성면 덕정리</td>\n",
       "      <td>20031217</td>\n",
       "      <td>127</td>\n",
       "    </tr>\n",
       "    <tr>\n",
       "      <th>2</th>\n",
       "      <td>충청북도 음성군 삼성면 용성리</td>\n",
       "      <td>20031219</td>\n",
       "      <td>127</td>\n",
       "    </tr>\n",
       "    <tr>\n",
       "      <th>3</th>\n",
       "      <td>경상북도 경주시 안강읍 육통리</td>\n",
       "      <td>20031221</td>\n",
       "      <td>138</td>\n",
       "    </tr>\n",
       "    <tr>\n",
       "      <th>4</th>\n",
       "      <td>전라남도 나주시 산포면 매성리</td>\n",
       "      <td>20031221</td>\n",
       "      <td>156</td>\n",
       "    </tr>\n",
       "  </tbody>\n",
       "</table>\n",
       "</div>"
      ],
      "text/plain": [
       "                 주소       발생일  지역코드\n",
       "0  충청북도 음성군 삼성면 용성리  20031212   127\n",
       "1  충청북도 음성군 삼성면 덕정리  20031217   127\n",
       "2  충청북도 음성군 삼성면 용성리  20031219   127\n",
       "3  경상북도 경주시 안강읍 육통리  20031221   138\n",
       "4  전라남도 나주시 산포면 매성리  20031221   156"
      ]
     },
     "execution_count": 4,
     "metadata": {},
     "output_type": "execute_result"
    }
   ],
   "source": [
    "AI_occur.head()"
   ]
  },
  {
   "cell_type": "code",
   "execution_count": 5,
   "metadata": {},
   "outputs": [
    {
     "name": "stdout",
     "output_type": "stream",
     "text": [
      "<class 'pandas.core.frame.DataFrame'>\n",
      "RangeIndex: 1122 entries, 0 to 1121\n",
      "Data columns (total 3 columns):\n",
      " #   Column  Non-Null Count  Dtype \n",
      "---  ------  --------------  ----- \n",
      " 0   주소      1122 non-null   object\n",
      " 1   발생일     1122 non-null   int64 \n",
      " 2   지역코드    1122 non-null   int64 \n",
      "dtypes: int64(2), object(1)\n",
      "memory usage: 26.4+ KB\n"
     ]
    }
   ],
   "source": [
    "AI_occur.info()\n",
    "#총 발생건수 1122건 2003.12-2021.04"
   ]
  },
  {
   "cell_type": "code",
   "execution_count": 6,
   "metadata": {},
   "outputs": [
    {
     "data": {
      "text/plain": [
       "주소      1122\n",
       "발생일     1122\n",
       "지역코드    1122\n",
       "dtype: int64"
      ]
     },
     "execution_count": 6,
     "metadata": {},
     "output_type": "execute_result"
    }
   ],
   "source": [
    "AI_occur.count()"
   ]
  },
  {
   "cell_type": "code",
   "execution_count": 7,
   "metadata": {},
   "outputs": [
    {
     "data": {
      "text/plain": [
       "주소      0\n",
       "발생일     0\n",
       "지역코드    0\n",
       "dtype: int64"
      ]
     },
     "execution_count": 7,
     "metadata": {},
     "output_type": "execute_result"
    }
   ],
   "source": [
    "AI_occur.isnull().sum()"
   ]
  },
  {
   "cell_type": "code",
   "execution_count": 8,
   "metadata": {},
   "outputs": [
    {
     "name": "stdout",
     "output_type": "stream",
     "text": [
      "<class 'pandas.core.frame.DataFrame'>\n",
      "RangeIndex: 1122 entries, 0 to 1121\n",
      "Data columns (total 3 columns):\n",
      " #   Column  Non-Null Count  Dtype \n",
      "---  ------  --------------  ----- \n",
      " 0   주소      1122 non-null   object\n",
      " 1   발생일     1122 non-null   object\n",
      " 2   지역코드    1122 non-null   int64 \n",
      "dtypes: int64(1), object(2)\n",
      "memory usage: 26.4+ KB\n"
     ]
    }
   ],
   "source": [
    "#발생일 문자타입으로 변환.\n",
    "AI_occur['발생일']=AI_occur['발생일'].astype('str')\n",
    "AI_occur.info()"
   ]
  },
  {
   "cell_type": "code",
   "execution_count": 9,
   "metadata": {},
   "outputs": [
    {
     "data": {
      "text/html": [
       "<div>\n",
       "<style scoped>\n",
       "    .dataframe tbody tr th:only-of-type {\n",
       "        vertical-align: middle;\n",
       "    }\n",
       "\n",
       "    .dataframe tbody tr th {\n",
       "        vertical-align: top;\n",
       "    }\n",
       "\n",
       "    .dataframe thead th {\n",
       "        text-align: right;\n",
       "    }\n",
       "</style>\n",
       "<table border=\"1\" class=\"dataframe\">\n",
       "  <thead>\n",
       "    <tr style=\"text-align: right;\">\n",
       "      <th></th>\n",
       "      <th>주소</th>\n",
       "      <th>발생일</th>\n",
       "      <th>지역코드</th>\n",
       "      <th>datetime</th>\n",
       "    </tr>\n",
       "  </thead>\n",
       "  <tbody>\n",
       "    <tr>\n",
       "      <th>0</th>\n",
       "      <td>충청북도 음성군 삼성면 용성리</td>\n",
       "      <td>20031212</td>\n",
       "      <td>127</td>\n",
       "      <td>2003-12-12</td>\n",
       "    </tr>\n",
       "    <tr>\n",
       "      <th>1</th>\n",
       "      <td>충청북도 음성군 삼성면 덕정리</td>\n",
       "      <td>20031217</td>\n",
       "      <td>127</td>\n",
       "      <td>2003-12-17</td>\n",
       "    </tr>\n",
       "    <tr>\n",
       "      <th>2</th>\n",
       "      <td>충청북도 음성군 삼성면 용성리</td>\n",
       "      <td>20031219</td>\n",
       "      <td>127</td>\n",
       "      <td>2003-12-19</td>\n",
       "    </tr>\n",
       "    <tr>\n",
       "      <th>3</th>\n",
       "      <td>경상북도 경주시 안강읍 육통리</td>\n",
       "      <td>20031221</td>\n",
       "      <td>138</td>\n",
       "      <td>2003-12-21</td>\n",
       "    </tr>\n",
       "    <tr>\n",
       "      <th>4</th>\n",
       "      <td>전라남도 나주시 산포면 매성리</td>\n",
       "      <td>20031221</td>\n",
       "      <td>156</td>\n",
       "      <td>2003-12-21</td>\n",
       "    </tr>\n",
       "    <tr>\n",
       "      <th>...</th>\n",
       "      <td>...</td>\n",
       "      <td>...</td>\n",
       "      <td>...</td>\n",
       "      <td>...</td>\n",
       "    </tr>\n",
       "    <tr>\n",
       "      <th>1117</th>\n",
       "      <td>전라남도 장흥군 장평면 기동리</td>\n",
       "      <td>20210321</td>\n",
       "      <td>260</td>\n",
       "      <td>2021-03-21</td>\n",
       "    </tr>\n",
       "    <tr>\n",
       "      <th>1118</th>\n",
       "      <td>전라남도 장흥군 장평면 기동리</td>\n",
       "      <td>20210322</td>\n",
       "      <td>260</td>\n",
       "      <td>2021-03-22</td>\n",
       "    </tr>\n",
       "    <tr>\n",
       "      <th>1119</th>\n",
       "      <td>전라남도 나주시 산포면 등수리</td>\n",
       "      <td>20210323</td>\n",
       "      <td>156</td>\n",
       "      <td>2021-03-23</td>\n",
       "    </tr>\n",
       "    <tr>\n",
       "      <th>1120</th>\n",
       "      <td>전라남도 장흥군 장평면 양촌리</td>\n",
       "      <td>20210406</td>\n",
       "      <td>260</td>\n",
       "      <td>2021-04-06</td>\n",
       "    </tr>\n",
       "    <tr>\n",
       "      <th>1121</th>\n",
       "      <td>전라남도 장흥군 장평면 양촌리</td>\n",
       "      <td>20210406</td>\n",
       "      <td>260</td>\n",
       "      <td>2021-04-06</td>\n",
       "    </tr>\n",
       "  </tbody>\n",
       "</table>\n",
       "<p>1122 rows × 4 columns</p>\n",
       "</div>"
      ],
      "text/plain": [
       "                    주소       발생일  지역코드   datetime\n",
       "0     충청북도 음성군 삼성면 용성리  20031212   127 2003-12-12\n",
       "1     충청북도 음성군 삼성면 덕정리  20031217   127 2003-12-17\n",
       "2     충청북도 음성군 삼성면 용성리  20031219   127 2003-12-19\n",
       "3     경상북도 경주시 안강읍 육통리  20031221   138 2003-12-21\n",
       "4     전라남도 나주시 산포면 매성리  20031221   156 2003-12-21\n",
       "...                ...       ...   ...        ...\n",
       "1117  전라남도 장흥군 장평면 기동리  20210321   260 2021-03-21\n",
       "1118  전라남도 장흥군 장평면 기동리  20210322   260 2021-03-22\n",
       "1119  전라남도 나주시 산포면 등수리  20210323   156 2021-03-23\n",
       "1120  전라남도 장흥군 장평면 양촌리  20210406   260 2021-04-06\n",
       "1121  전라남도 장흥군 장평면 양촌리  20210406   260 2021-04-06\n",
       "\n",
       "[1122 rows x 4 columns]"
      ]
     },
     "execution_count": 9,
     "metadata": {},
     "output_type": "execute_result"
    }
   ],
   "source": [
    "AI_occur['datetime'] =AI_occur['발생일'].apply(lambda x: pd.to_datetime(str(x), format='%Y/%m/%d'))\n",
    "AI_occur"
   ]
  },
  {
   "cell_type": "code",
   "execution_count": 10,
   "metadata": {},
   "outputs": [
    {
     "data": {
      "text/html": [
       "<div>\n",
       "<style scoped>\n",
       "    .dataframe tbody tr th:only-of-type {\n",
       "        vertical-align: middle;\n",
       "    }\n",
       "\n",
       "    .dataframe tbody tr th {\n",
       "        vertical-align: top;\n",
       "    }\n",
       "\n",
       "    .dataframe thead th {\n",
       "        text-align: right;\n",
       "    }\n",
       "</style>\n",
       "<table border=\"1\" class=\"dataframe\">\n",
       "  <thead>\n",
       "    <tr style=\"text-align: right;\">\n",
       "      <th></th>\n",
       "      <th>주소</th>\n",
       "      <th>발생일</th>\n",
       "      <th>지역코드</th>\n",
       "    </tr>\n",
       "    <tr>\n",
       "      <th>datetime</th>\n",
       "      <th></th>\n",
       "      <th></th>\n",
       "      <th></th>\n",
       "    </tr>\n",
       "  </thead>\n",
       "  <tbody>\n",
       "    <tr>\n",
       "      <th>2003-12-12</th>\n",
       "      <td>충청북도 음성군 삼성면 용성리</td>\n",
       "      <td>20031212</td>\n",
       "      <td>127</td>\n",
       "    </tr>\n",
       "    <tr>\n",
       "      <th>2003-12-17</th>\n",
       "      <td>충청북도 음성군 삼성면 덕정리</td>\n",
       "      <td>20031217</td>\n",
       "      <td>127</td>\n",
       "    </tr>\n",
       "    <tr>\n",
       "      <th>2003-12-19</th>\n",
       "      <td>충청북도 음성군 삼성면 용성리</td>\n",
       "      <td>20031219</td>\n",
       "      <td>127</td>\n",
       "    </tr>\n",
       "    <tr>\n",
       "      <th>2003-12-21</th>\n",
       "      <td>경상북도 경주시 안강읍 육통리</td>\n",
       "      <td>20031221</td>\n",
       "      <td>138</td>\n",
       "    </tr>\n",
       "    <tr>\n",
       "      <th>2003-12-21</th>\n",
       "      <td>전라남도 나주시 산포면 매성리</td>\n",
       "      <td>20031221</td>\n",
       "      <td>156</td>\n",
       "    </tr>\n",
       "    <tr>\n",
       "      <th>...</th>\n",
       "      <td>...</td>\n",
       "      <td>...</td>\n",
       "      <td>...</td>\n",
       "    </tr>\n",
       "    <tr>\n",
       "      <th>2021-03-21</th>\n",
       "      <td>전라남도 장흥군 장평면 기동리</td>\n",
       "      <td>20210321</td>\n",
       "      <td>260</td>\n",
       "    </tr>\n",
       "    <tr>\n",
       "      <th>2021-03-22</th>\n",
       "      <td>전라남도 장흥군 장평면 기동리</td>\n",
       "      <td>20210322</td>\n",
       "      <td>260</td>\n",
       "    </tr>\n",
       "    <tr>\n",
       "      <th>2021-03-23</th>\n",
       "      <td>전라남도 나주시 산포면 등수리</td>\n",
       "      <td>20210323</td>\n",
       "      <td>156</td>\n",
       "    </tr>\n",
       "    <tr>\n",
       "      <th>2021-04-06</th>\n",
       "      <td>전라남도 장흥군 장평면 양촌리</td>\n",
       "      <td>20210406</td>\n",
       "      <td>260</td>\n",
       "    </tr>\n",
       "    <tr>\n",
       "      <th>2021-04-06</th>\n",
       "      <td>전라남도 장흥군 장평면 양촌리</td>\n",
       "      <td>20210406</td>\n",
       "      <td>260</td>\n",
       "    </tr>\n",
       "  </tbody>\n",
       "</table>\n",
       "<p>1122 rows × 3 columns</p>\n",
       "</div>"
      ],
      "text/plain": [
       "                          주소       발생일  지역코드\n",
       "datetime                                    \n",
       "2003-12-12  충청북도 음성군 삼성면 용성리  20031212   127\n",
       "2003-12-17  충청북도 음성군 삼성면 덕정리  20031217   127\n",
       "2003-12-19  충청북도 음성군 삼성면 용성리  20031219   127\n",
       "2003-12-21  경상북도 경주시 안강읍 육통리  20031221   138\n",
       "2003-12-21  전라남도 나주시 산포면 매성리  20031221   156\n",
       "...                      ...       ...   ...\n",
       "2021-03-21  전라남도 장흥군 장평면 기동리  20210321   260\n",
       "2021-03-22  전라남도 장흥군 장평면 기동리  20210322   260\n",
       "2021-03-23  전라남도 나주시 산포면 등수리  20210323   156\n",
       "2021-04-06  전라남도 장흥군 장평면 양촌리  20210406   260\n",
       "2021-04-06  전라남도 장흥군 장평면 양촌리  20210406   260\n",
       "\n",
       "[1122 rows x 3 columns]"
      ]
     },
     "execution_count": 10,
     "metadata": {},
     "output_type": "execute_result"
    }
   ],
   "source": [
    "# DataFrame의 index 변형하기\n",
    "AI_occur.set_index('datetime', inplace=True) \n",
    "AI_occur"
   ]
  },
  {
   "cell_type": "code",
   "execution_count": 11,
   "metadata": {},
   "outputs": [
    {
     "data": {
      "text/html": [
       "<div>\n",
       "<style scoped>\n",
       "    .dataframe tbody tr th:only-of-type {\n",
       "        vertical-align: middle;\n",
       "    }\n",
       "\n",
       "    .dataframe tbody tr th {\n",
       "        vertical-align: top;\n",
       "    }\n",
       "\n",
       "    .dataframe thead th {\n",
       "        text-align: right;\n",
       "    }\n",
       "</style>\n",
       "<table border=\"1\" class=\"dataframe\">\n",
       "  <thead>\n",
       "    <tr style=\"text-align: right;\">\n",
       "      <th></th>\n",
       "      <th>주소</th>\n",
       "      <th>발생일</th>\n",
       "      <th>지역코드</th>\n",
       "      <th>month</th>\n",
       "      <th>year</th>\n",
       "    </tr>\n",
       "    <tr>\n",
       "      <th>datetime</th>\n",
       "      <th></th>\n",
       "      <th></th>\n",
       "      <th></th>\n",
       "      <th></th>\n",
       "      <th></th>\n",
       "    </tr>\n",
       "  </thead>\n",
       "  <tbody>\n",
       "    <tr>\n",
       "      <th>2003-12-12</th>\n",
       "      <td>충청북도 음성군 삼성면 용성리</td>\n",
       "      <td>20031212</td>\n",
       "      <td>127</td>\n",
       "      <td>12</td>\n",
       "      <td>2003</td>\n",
       "    </tr>\n",
       "    <tr>\n",
       "      <th>2003-12-17</th>\n",
       "      <td>충청북도 음성군 삼성면 덕정리</td>\n",
       "      <td>20031217</td>\n",
       "      <td>127</td>\n",
       "      <td>12</td>\n",
       "      <td>2003</td>\n",
       "    </tr>\n",
       "    <tr>\n",
       "      <th>2003-12-19</th>\n",
       "      <td>충청북도 음성군 삼성면 용성리</td>\n",
       "      <td>20031219</td>\n",
       "      <td>127</td>\n",
       "      <td>12</td>\n",
       "      <td>2003</td>\n",
       "    </tr>\n",
       "    <tr>\n",
       "      <th>2003-12-21</th>\n",
       "      <td>경상북도 경주시 안강읍 육통리</td>\n",
       "      <td>20031221</td>\n",
       "      <td>138</td>\n",
       "      <td>12</td>\n",
       "      <td>2003</td>\n",
       "    </tr>\n",
       "    <tr>\n",
       "      <th>2003-12-21</th>\n",
       "      <td>전라남도 나주시 산포면 매성리</td>\n",
       "      <td>20031221</td>\n",
       "      <td>156</td>\n",
       "      <td>12</td>\n",
       "      <td>2003</td>\n",
       "    </tr>\n",
       "    <tr>\n",
       "      <th>...</th>\n",
       "      <td>...</td>\n",
       "      <td>...</td>\n",
       "      <td>...</td>\n",
       "      <td>...</td>\n",
       "      <td>...</td>\n",
       "    </tr>\n",
       "    <tr>\n",
       "      <th>2021-03-21</th>\n",
       "      <td>전라남도 장흥군 장평면 기동리</td>\n",
       "      <td>20210321</td>\n",
       "      <td>260</td>\n",
       "      <td>3</td>\n",
       "      <td>2021</td>\n",
       "    </tr>\n",
       "    <tr>\n",
       "      <th>2021-03-22</th>\n",
       "      <td>전라남도 장흥군 장평면 기동리</td>\n",
       "      <td>20210322</td>\n",
       "      <td>260</td>\n",
       "      <td>3</td>\n",
       "      <td>2021</td>\n",
       "    </tr>\n",
       "    <tr>\n",
       "      <th>2021-03-23</th>\n",
       "      <td>전라남도 나주시 산포면 등수리</td>\n",
       "      <td>20210323</td>\n",
       "      <td>156</td>\n",
       "      <td>3</td>\n",
       "      <td>2021</td>\n",
       "    </tr>\n",
       "    <tr>\n",
       "      <th>2021-04-06</th>\n",
       "      <td>전라남도 장흥군 장평면 양촌리</td>\n",
       "      <td>20210406</td>\n",
       "      <td>260</td>\n",
       "      <td>4</td>\n",
       "      <td>2021</td>\n",
       "    </tr>\n",
       "    <tr>\n",
       "      <th>2021-04-06</th>\n",
       "      <td>전라남도 장흥군 장평면 양촌리</td>\n",
       "      <td>20210406</td>\n",
       "      <td>260</td>\n",
       "      <td>4</td>\n",
       "      <td>2021</td>\n",
       "    </tr>\n",
       "  </tbody>\n",
       "</table>\n",
       "<p>1122 rows × 5 columns</p>\n",
       "</div>"
      ],
      "text/plain": [
       "                          주소       발생일  지역코드  month  year\n",
       "datetime                                                 \n",
       "2003-12-12  충청북도 음성군 삼성면 용성리  20031212   127     12  2003\n",
       "2003-12-17  충청북도 음성군 삼성면 덕정리  20031217   127     12  2003\n",
       "2003-12-19  충청북도 음성군 삼성면 용성리  20031219   127     12  2003\n",
       "2003-12-21  경상북도 경주시 안강읍 육통리  20031221   138     12  2003\n",
       "2003-12-21  전라남도 나주시 산포면 매성리  20031221   156     12  2003\n",
       "...                      ...       ...   ...    ...   ...\n",
       "2021-03-21  전라남도 장흥군 장평면 기동리  20210321   260      3  2021\n",
       "2021-03-22  전라남도 장흥군 장평면 기동리  20210322   260      3  2021\n",
       "2021-03-23  전라남도 나주시 산포면 등수리  20210323   156      3  2021\n",
       "2021-04-06  전라남도 장흥군 장평면 양촌리  20210406   260      4  2021\n",
       "2021-04-06  전라남도 장흥군 장평면 양촌리  20210406   260      4  2021\n",
       "\n",
       "[1122 rows x 5 columns]"
      ]
     },
     "execution_count": 11,
     "metadata": {},
     "output_type": "execute_result"
    }
   ],
   "source": [
    "AI_occur['month']=AI_occur.index.month\n",
    "AI_occur['year']=AI_occur.index.year\n",
    "AI_occur"
   ]
  },
  {
   "cell_type": "code",
   "execution_count": 12,
   "metadata": {},
   "outputs": [
    {
     "data": {
      "text/plain": [
       "year  month\n",
       "2003  12       19\n",
       "2004  1         3\n",
       "      2         1\n",
       "      3         2\n",
       "2006  11        3\n",
       "Name: 발생일, dtype: int64"
      ]
     },
     "execution_count": 12,
     "metadata": {},
     "output_type": "execute_result"
    }
   ],
   "source": [
    "#년월-발생건수\n",
    "#같은날 발생했어도 중복 없이 카운트 확인완료.\n",
    "AI_occur_year_month=AI_occur.groupby(['year', 'month'])['발생일'].count()\n",
    "AI_occur_year_month.head()"
   ]
  },
  {
   "cell_type": "code",
   "execution_count": 13,
   "metadata": {},
   "outputs": [
    {
     "data": {
      "text/plain": [
       "month\n",
       "1     226\n",
       "2     181\n",
       "3     128\n",
       "4      55\n",
       "5      33\n",
       "6      44\n",
       "7       4\n",
       "9      18\n",
       "10     24\n",
       "11     82\n",
       "12    327\n",
       "Name: 발생일, dtype: int64"
      ]
     },
     "execution_count": 13,
     "metadata": {},
     "output_type": "execute_result"
    }
   ],
   "source": [
    "#월-발생건수\n",
    "AI_occur_month=AI_occur.groupby(['month'])['발생일'].count()\n",
    "AI_occur_month"
   ]
  },
  {
   "cell_type": "code",
   "execution_count": 110,
   "metadata": {},
   "outputs": [
    {
     "data": {
      "image/png": "[encoded data removed]",
      "text/plain": [
       "<Figure size 432x288 with 1 Axes>"
      ]
     },
     "metadata": {
      "needs_background": "light"
     },
     "output_type": "display_data"
    }
   ],
   "source": [
    "#그래프 관련\n",
    "import matplotlib.pyplot as plt\n",
    "import seaborn as sns\n",
    "\n",
    "#2003.12~2021.04 월별 발생건수 총합\n",
    "AI_occur_month.plot()\n",
    "\n",
    "#폰트적용\n",
    "plt.rcParams['font.family'] = 'Malgun Gothic'\n",
    "plt.rcParams.update({'font.size' : 15})\n",
    "#\n",
    "plt.title('월 발생건수 ', fontsize=20)\n",
    "plt.xlabel('month', fontsize=18)\n",
    "plt.ylabel('count', fontsize=18)\n",
    "plt.show()"
   ]
  },
  {
   "cell_type": "code",
   "execution_count": 15,
   "metadata": {},
   "outputs": [],
   "source": [
    "#month 타입 문자로 변경\n",
    "\n",
    "AI_occur['month']=AI_occur['month'].astype('str')"
   ]
  },
  {
   "cell_type": "code",
   "execution_count": 16,
   "metadata": {},
   "outputs": [],
   "source": [
    "#각 월 마다 추출\n",
    "\n",
    "jan=AI_occur[AI_occur['month']=='1']\n",
    "fed=AI_occur[AI_occur['month']=='2']\n",
    "mar=AI_occur[AI_occur['month']=='3']\n",
    "apr=AI_occur[AI_occur['month']=='4']\n",
    "may=AI_occur[AI_occur['month']=='5']\n",
    "jun=AI_occur[AI_occur['month']=='6']\n",
    "jul=AI_occur[AI_occur['month']=='7']\n",
    "aug=AI_occur[AI_occur['month']=='8']\n",
    "sep=AI_occur[AI_occur['month']=='9']\n",
    "octo=AI_occur[AI_occur['month']=='10']\n",
    "nov=AI_occur[AI_occur['month']=='11']\n",
    "dec=AI_occur[AI_occur['month']=='12']"
   ]
  },
  {
   "cell_type": "code",
   "execution_count": 147,
   "metadata": {},
   "outputs": [
    {
     "data": {
      "text/plain": [
       "주소       226\n",
       "발생일      226\n",
       "지역코드     226\n",
       "month    226\n",
       "year     226\n",
       "dtype: int64"
      ]
     },
     "execution_count": 147,
     "metadata": {},
     "output_type": "execute_result"
    }
   ],
   "source": [
    "jan.count()"
   ]
  },
  {
   "cell_type": "code",
   "execution_count": 17,
   "metadata": {},
   "outputs": [],
   "source": [
    "#계절로 합치기\n",
    "\n",
    "spring=pd.concat([mar,apr,may], sort=True)\n",
    "spring=spring.reindex(columns = ['month','year','발생일'])\n",
    "\n",
    "summer=pd.concat([jun,jul,aug], sort=True)\n",
    "summer=summer.reindex(columns = ['month','year','발생일'])\n",
    "\n",
    "fall=pd.concat([sep,octo,nov], sort=True)\n",
    "fall=fall.reindex(columns = ['month','year','발생일'])\n",
    "\n",
    "winter=pd.concat([dec,jan,fed], sort=True)\n",
    "winter=winter.reindex(columns = ['month','year','발생일'])\n",
    "\n",
    "season=pd.concat([spring,summer,fall,winter], sort=True)\n",
    "season=season.reindex(columns = ['month','year','발생일'])"
   ]
  },
  {
   "cell_type": "code",
   "execution_count": 18,
   "metadata": {},
   "outputs": [
    {
     "data": {
      "text/plain": [
       "month    388\n",
       "year     388\n",
       "발생일      388\n",
       "dtype: int64"
      ]
     },
     "execution_count": 18,
     "metadata": {},
     "output_type": "execute_result"
    }
   ],
   "source": [
    "#봄,여름,가을 합치기\n",
    "not_winter= pd.concat([spring,summer,fall], sort=True)\n",
    "not_winter.count()"
   ]
  },
  {
   "cell_type": "code",
   "execution_count": 19,
   "metadata": {
    "scrolled": true
   },
   "outputs": [
    {
     "name": "stdout",
     "output_type": "stream",
     "text": [
      "month    1122\n",
      "year     1122\n",
      "발생일      1122\n",
      "dtype: int64\n"
     ]
    }
   ],
   "source": [
    "# 4계절 발생 건수.\n",
    "print(season.count())"
   ]
  },
  {
   "cell_type": "code",
   "execution_count": 20,
   "metadata": {},
   "outputs": [
    {
     "data": {
      "text/plain": [
       "280.5"
      ]
     },
     "execution_count": 20,
     "metadata": {},
     "output_type": "execute_result"
    }
   ],
   "source": [
    "#표본평균 구하기(4계절 발생 건수)\n",
    "season_sm=1122/4\n",
    "season_sm"
   ]
  },
  {
   "cell_type": "code",
   "execution_count": 21,
   "metadata": {},
   "outputs": [
    {
     "data": {
      "text/plain": [
       "561.0"
      ]
     },
     "execution_count": 21,
     "metadata": {},
     "output_type": "execute_result"
    }
   ],
   "source": [
    "#표본평균*2 값 구하기.\n",
    "season_sm2=280.5*2\n",
    "season_sm2"
   ]
  },
  {
   "cell_type": "code",
   "execution_count": 22,
   "metadata": {},
   "outputs": [
    {
     "data": {
      "text/plain": [
       "734"
      ]
     },
     "execution_count": 22,
     "metadata": {},
     "output_type": "execute_result"
    }
   ],
   "source": [
    "#겨울 발생건수\n",
    "winter_co=winter['발생일'].count()\n",
    "winter_co"
   ]
  },
  {
   "cell_type": "code",
   "execution_count": 23,
   "metadata": {},
   "outputs": [
    {
     "name": "stdout",
     "output_type": "stream",
     "text": [
      "<class 'pandas.core.frame.DataFrame'>\n",
      "DatetimeIndex: 734 entries, 2003-12-12 to 2021-02-26\n",
      "Data columns (total 3 columns):\n",
      " #   Column  Non-Null Count  Dtype \n",
      "---  ------  --------------  ----- \n",
      " 0   month   734 non-null    object\n",
      " 1   year    734 non-null    int64 \n",
      " 2   발생일     734 non-null    object\n",
      "dtypes: int64(1), object(2)\n",
      "memory usage: 22.9+ KB\n"
     ]
    }
   ],
   "source": [
    "winter.info()"
   ]
  },
  {
   "cell_type": "code",
   "execution_count": 24,
   "metadata": {},
   "outputs": [],
   "source": [
    "winter_v=winter['year']"
   ]
  },
  {
   "cell_type": "code",
   "execution_count": 25,
   "metadata": {},
   "outputs": [
    {
     "data": {
      "text/plain": [
       "734"
      ]
     },
     "execution_count": 25,
     "metadata": {},
     "output_type": "execute_result"
    }
   ],
   "source": [
    "winter_i=len(winter)\n",
    "winter_i"
   ]
  },
  {
   "cell_type": "code",
   "execution_count": 26,
   "metadata": {},
   "outputs": [
    {
     "name": "stderr",
     "output_type": "stream",
     "text": [
      "C:\\ProgramData\\Anaconda3\\lib\\site-packages\\numpy\\core\\fromnumeric.py:3621: RuntimeWarning: Degrees of freedom <= 0 for slice\n",
      "  return _methods._var(a, axis=axis, dtype=dtype, out=out, ddof=ddof,\n",
      "C:\\ProgramData\\Anaconda3\\lib\\site-packages\\numpy\\core\\_methods.py:226: RuntimeWarning: invalid value encountered in double_scalars\n",
      "  ret = ret.dtype.type(ret / rcount)\n"
     ]
    },
    {
     "data": {
      "text/plain": [
       "Ttest_1sampResult(statistic=nan, pvalue=nan)"
      ]
     },
     "execution_count": 26,
     "metadata": {},
     "output_type": "execute_result"
    }
   ],
   "source": [
    "from scipy import stats\n",
    "stats.ttest_1samp(winter_i,561)"
   ]
  },
  {
   "cell_type": "code",
   "execution_count": 27,
   "metadata": {},
   "outputs": [
    {
     "ename": "AttributeError",
     "evalue": "module 'scipy.stats' has no attribute 'ttest'",
     "output_type": "error",
     "traceback": [
      "\u001b[1;31m---------------------------------------------------------------------------\u001b[0m",
      "\u001b[1;31mAttributeError\u001b[0m                            Traceback (most recent call last)",
      "\u001b[1;32m<ipython-input-27-0eb41eadb9f7>\u001b[0m in \u001b[0;36m<module>\u001b[1;34m\u001b[0m\n\u001b[1;32m----> 1\u001b[1;33m \u001b[0mresult_winter\u001b[0m\u001b[1;33m=\u001b[0m\u001b[0mstats\u001b[0m\u001b[1;33m.\u001b[0m\u001b[0mttest\u001b[0m\u001b[1;33m(\u001b[0m\u001b[0mwinter\u001b[0m\u001b[1;33m[\u001b[0m\u001b[1;34m'발생일'\u001b[0m\u001b[1;33m]\u001b[0m\u001b[1;33m.\u001b[0m\u001b[0mcount\u001b[0m\u001b[1;33m(\u001b[0m\u001b[1;33m)\u001b[0m\u001b[1;33m,\u001b[0m\u001b[1;36m561\u001b[0m\u001b[1;33m)\u001b[0m\u001b[1;33m\u001b[0m\u001b[1;33m\u001b[0m\u001b[0m\n\u001b[0m",
      "\u001b[1;31mAttributeError\u001b[0m: module 'scipy.stats' has no attribute 'ttest'"
     ]
    }
   ],
   "source": [
    "result_winter=stats.ttest(winter['발생일'].count(),561)"
   ]
  },
  {
   "cell_type": "code",
   "execution_count": 28,
   "metadata": {},
   "outputs": [
    {
     "name": "stderr",
     "output_type": "stream",
     "text": [
      "<ipython-input-28-296c8b8ad2cd>:2: DeprecationWarning: scipy.std is deprecated and will be removed in SciPy 2.0.0, use numpy.std instead\n",
      "  season_sigma=sp.std(season, ddof=1)\n",
      "<ipython-input-28-296c8b8ad2cd>:3: DeprecationWarning: scipy.sqrt is deprecated and will be removed in SciPy 2.0.0, use numpy.lib.scimath.sqrt instead\n",
      "  season_se=season_sigma/sp.sqrt(len(season))\n"
     ]
    },
    {
     "data": {
      "text/plain": [
       "year    0.099156\n",
       "dtype: float64"
      ]
     },
     "execution_count": 28,
     "metadata": {},
     "output_type": "execute_result"
    }
   ],
   "source": [
    "#표준오차 구하기\n",
    "season_sigma=sp.std(season, ddof=1)\n",
    "season_se=season_sigma/sp.sqrt(len(season))\n",
    "season_se"
   ]
  },
  {
   "cell_type": "code",
   "execution_count": 29,
   "metadata": {
    "scrolled": true
   },
   "outputs": [
    {
     "name": "stdout",
     "output_type": "stream",
     "text": [
      "month    734\n",
      "year     734\n",
      "발생일      734\n",
      "dtype: int64\n",
      "month    388\n",
      "year     388\n",
      "발생일      388\n",
      "dtype: int64\n"
     ]
    },
    {
     "ename": "NameError",
     "evalue": "name 'season_average' is not defined",
     "output_type": "error",
     "traceback": [
      "\u001b[1;31m---------------------------------------------------------------------------\u001b[0m",
      "\u001b[1;31mNameError\u001b[0m                                 Traceback (most recent call last)",
      "\u001b[1;32m<ipython-input-29-dee0410bc75e>\u001b[0m in \u001b[0;36m<module>\u001b[1;34m\u001b[0m\n\u001b[0;32m      3\u001b[0m \u001b[0mprint\u001b[0m\u001b[1;33m(\u001b[0m\u001b[0mwinter\u001b[0m\u001b[1;33m.\u001b[0m\u001b[0mcount\u001b[0m\u001b[1;33m(\u001b[0m\u001b[1;33m)\u001b[0m\u001b[1;33m)\u001b[0m \u001b[1;31m#겨울\u001b[0m\u001b[1;33m\u001b[0m\u001b[1;33m\u001b[0m\u001b[0m\n\u001b[0;32m      4\u001b[0m \u001b[0mprint\u001b[0m\u001b[1;33m(\u001b[0m\u001b[0mnot_winter\u001b[0m\u001b[1;33m.\u001b[0m\u001b[0mcount\u001b[0m\u001b[1;33m(\u001b[0m\u001b[1;33m)\u001b[0m\u001b[1;33m)\u001b[0m \u001b[1;31m#봄,여름,가을\u001b[0m\u001b[1;33m\u001b[0m\u001b[1;33m\u001b[0m\u001b[0m\n\u001b[1;32m----> 5\u001b[1;33m \u001b[0mprint\u001b[0m\u001b[1;33m(\u001b[0m\u001b[0mseason_average\u001b[0m\u001b[1;33m)\u001b[0m     \u001b[1;31m#봄,여름,가을,겨울\u001b[0m\u001b[1;33m\u001b[0m\u001b[1;33m\u001b[0m\u001b[0m\n\u001b[0m\u001b[0;32m      6\u001b[0m \u001b[0mprint\u001b[0m\u001b[1;33m(\u001b[0m\u001b[0mseason_average\u001b[0m\u001b[1;33m*\u001b[0m\u001b[1;36m2\u001b[0m\u001b[1;33m)\u001b[0m\u001b[1;33m\u001b[0m\u001b[1;33m\u001b[0m\u001b[0m\n",
      "\u001b[1;31mNameError\u001b[0m: name 'season_average' is not defined"
     ]
    }
   ],
   "source": [
    "#각 발생건수\n",
    "\n",
    "print(winter.count()) #겨울\n",
    "print(not_winter.count()) #봄,여름,가을\n",
    "print(season_average)     #봄,여름,가을,겨울\n",
    "print(season_average*2)  "
   ]
  },
  {
   "cell_type": "markdown",
   "metadata": {},
   "source": [
    "가설2 \n",
    "\n",
    "가정: 아생조류 개체수가 많아지면 AI발생건수가 많아질 것이다.\n",
    "\n",
    "귀무가설: 야생조류 개체수와 AI발생건수는 상관관계가 없다.\n",
    "\n",
    "대립가설: 야생조류 개체수와 AI발생건수는 상관관계가 있다."
   ]
  },
  {
   "cell_type": "code",
   "execution_count": 30,
   "metadata": {},
   "outputs": [
    {
     "data": {
      "text/html": [
       "<div>\n",
       "<style scoped>\n",
       "    .dataframe tbody tr th:only-of-type {\n",
       "        vertical-align: middle;\n",
       "    }\n",
       "\n",
       "    .dataframe tbody tr th {\n",
       "        vertical-align: top;\n",
       "    }\n",
       "\n",
       "    .dataframe thead th {\n",
       "        text-align: right;\n",
       "    }\n",
       "</style>\n",
       "<table border=\"1\" class=\"dataframe\">\n",
       "  <thead>\n",
       "    <tr style=\"text-align: right;\">\n",
       "      <th></th>\n",
       "      <th>구분</th>\n",
       "      <th>2003년</th>\n",
       "      <th>2004년</th>\n",
       "      <th>2005년</th>\n",
       "      <th>2006년</th>\n",
       "      <th>2007년</th>\n",
       "      <th>2008년</th>\n",
       "      <th>2009년</th>\n",
       "      <th>2010년</th>\n",
       "      <th>2011년</th>\n",
       "      <th>...</th>\n",
       "      <th>2013년</th>\n",
       "      <th>2014년</th>\n",
       "      <th>2015년</th>\n",
       "      <th>2016년</th>\n",
       "      <th>2017년</th>\n",
       "      <th>2018년</th>\n",
       "      <th>2019년</th>\n",
       "      <th>2020년</th>\n",
       "      <th>2021년</th>\n",
       "      <th>평균</th>\n",
       "    </tr>\n",
       "  </thead>\n",
       "  <tbody>\n",
       "    <tr>\n",
       "      <th>0</th>\n",
       "      <td>관찰지역수</td>\n",
       "      <td>116</td>\n",
       "      <td>117</td>\n",
       "      <td>122</td>\n",
       "      <td>126</td>\n",
       "      <td>127</td>\n",
       "      <td>140</td>\n",
       "      <td>142</td>\n",
       "      <td>172</td>\n",
       "      <td>193</td>\n",
       "      <td>...</td>\n",
       "      <td>193</td>\n",
       "      <td>194</td>\n",
       "      <td>75</td>\n",
       "      <td>200</td>\n",
       "      <td>200</td>\n",
       "      <td>196</td>\n",
       "      <td>200</td>\n",
       "      <td>200</td>\n",
       "      <td>206</td>\n",
       "      <td>163.74</td>\n",
       "    </tr>\n",
       "    <tr>\n",
       "      <th>1</th>\n",
       "      <td>합계</td>\n",
       "      <td>971176</td>\n",
       "      <td>1109531</td>\n",
       "      <td>1175808</td>\n",
       "      <td>1184287</td>\n",
       "      <td>1577499</td>\n",
       "      <td>1459277</td>\n",
       "      <td>1914446</td>\n",
       "      <td>1445152</td>\n",
       "      <td>1248740</td>\n",
       "      <td>...</td>\n",
       "      <td>1106287</td>\n",
       "      <td>1256065</td>\n",
       "      <td>974685</td>\n",
       "      <td>1568527</td>\n",
       "      <td>1320000</td>\n",
       "      <td>1432843</td>\n",
       "      <td>1469859</td>\n",
       "      <td>1629083</td>\n",
       "      <td>1478060</td>\n",
       "      <td>1338074.05</td>\n",
       "    </tr>\n",
       "    <tr>\n",
       "      <th>2</th>\n",
       "      <td>들꿩</td>\n",
       "      <td>1</td>\n",
       "      <td>0</td>\n",
       "      <td>0</td>\n",
       "      <td>0</td>\n",
       "      <td>1</td>\n",
       "      <td>0</td>\n",
       "      <td>0</td>\n",
       "      <td>1</td>\n",
       "      <td>0</td>\n",
       "      <td>...</td>\n",
       "      <td>0</td>\n",
       "      <td>1</td>\n",
       "      <td>0</td>\n",
       "      <td>0</td>\n",
       "      <td>0</td>\n",
       "      <td>0</td>\n",
       "      <td>0</td>\n",
       "      <td>4</td>\n",
       "      <td>1</td>\n",
       "      <td>0.47</td>\n",
       "    </tr>\n",
       "    <tr>\n",
       "      <th>3</th>\n",
       "      <td>멧닭</td>\n",
       "      <td>0</td>\n",
       "      <td>0</td>\n",
       "      <td>0</td>\n",
       "      <td>0</td>\n",
       "      <td>0</td>\n",
       "      <td>0</td>\n",
       "      <td>0</td>\n",
       "      <td>0</td>\n",
       "      <td>0</td>\n",
       "      <td>...</td>\n",
       "      <td>0</td>\n",
       "      <td>0</td>\n",
       "      <td>0</td>\n",
       "      <td>0</td>\n",
       "      <td>0</td>\n",
       "      <td>0</td>\n",
       "      <td>0</td>\n",
       "      <td>0</td>\n",
       "      <td>0</td>\n",
       "      <td>0.00</td>\n",
       "    </tr>\n",
       "    <tr>\n",
       "      <th>4</th>\n",
       "      <td>메추라기</td>\n",
       "      <td>3</td>\n",
       "      <td>5</td>\n",
       "      <td>14</td>\n",
       "      <td>14</td>\n",
       "      <td>13</td>\n",
       "      <td>17</td>\n",
       "      <td>18</td>\n",
       "      <td>18</td>\n",
       "      <td>18</td>\n",
       "      <td>...</td>\n",
       "      <td>37</td>\n",
       "      <td>6</td>\n",
       "      <td>10</td>\n",
       "      <td>0</td>\n",
       "      <td>4</td>\n",
       "      <td>5</td>\n",
       "      <td>11</td>\n",
       "      <td>3</td>\n",
       "      <td>4</td>\n",
       "      <td>11.00</td>\n",
       "    </tr>\n",
       "  </tbody>\n",
       "</table>\n",
       "<p>5 rows × 21 columns</p>\n",
       "</div>"
      ],
      "text/plain": [
       "      구분   2003년    2004년    2005년    2006년    2007년    2008년    2009년  \\\n",
       "0  관찰지역수     116      117      122      126      127      140      142   \n",
       "1     합계  971176  1109531  1175808  1184287  1577499  1459277  1914446   \n",
       "2     들꿩       1        0        0        0        1        0        0   \n",
       "3     멧닭       0        0        0        0        0        0        0   \n",
       "4   메추라기       3        5       14       14       13       17       18   \n",
       "\n",
       "     2010년    2011년  ...    2013년    2014년   2015년    2016년    2017년    2018년  \\\n",
       "0      172      193  ...      193      194      75      200      200      196   \n",
       "1  1445152  1248740  ...  1106287  1256065  974685  1568527  1320000  1432843   \n",
       "2        1        0  ...        0        1       0        0        0        0   \n",
       "3        0        0  ...        0        0       0        0        0        0   \n",
       "4       18       18  ...       37        6      10        0        4        5   \n",
       "\n",
       "     2019년    2020년    2021년          평균  \n",
       "0      200      200      206      163.74  \n",
       "1  1469859  1629083  1478060  1338074.05  \n",
       "2        0        4        1        0.47  \n",
       "3        0        0        0        0.00  \n",
       "4       11        3        4       11.00  \n",
       "\n",
       "[5 rows x 21 columns]"
      ]
     },
     "execution_count": 30,
     "metadata": {},
     "output_type": "execute_result"
    }
   ],
   "source": [
    "import pandas as pd\n",
    "df=pd.read_csv(\"wild brids_species.csv\")\n",
    "brids_species=df.copy()\n",
    "brids_species.head()"
   ]
  },
  {
   "cell_type": "code",
   "execution_count": 31,
   "metadata": {},
   "outputs": [
    {
     "name": "stdout",
     "output_type": "stream",
     "text": [
      "<class 'pandas.core.frame.DataFrame'>\n",
      "RangeIndex: 576 entries, 0 to 575\n",
      "Data columns (total 21 columns):\n",
      " #   Column  Non-Null Count  Dtype  \n",
      "---  ------  --------------  -----  \n",
      " 0   구분      576 non-null    object \n",
      " 1   2003년   576 non-null    int64  \n",
      " 2   2004년   576 non-null    int64  \n",
      " 3   2005년   576 non-null    int64  \n",
      " 4   2006년   576 non-null    int64  \n",
      " 5   2007년   576 non-null    int64  \n",
      " 6   2008년   576 non-null    int64  \n",
      " 7   2009년   576 non-null    int64  \n",
      " 8   2010년   576 non-null    int64  \n",
      " 9   2011년   576 non-null    int64  \n",
      " 10  2012년   576 non-null    int64  \n",
      " 11  2013년   576 non-null    int64  \n",
      " 12  2014년   576 non-null    int64  \n",
      " 13  2015년   576 non-null    int64  \n",
      " 14  2016년   576 non-null    int64  \n",
      " 15  2017년   576 non-null    int64  \n",
      " 16  2018년   576 non-null    int64  \n",
      " 17  2019년   576 non-null    int64  \n",
      " 18  2020년   576 non-null    int64  \n",
      " 19  2021년   576 non-null    int64  \n",
      " 20  평균      576 non-null    float64\n",
      "dtypes: float64(1), int64(19), object(1)\n",
      "memory usage: 94.6+ KB\n"
     ]
    }
   ],
   "source": [
    "brids_species.info()"
   ]
  },
  {
   "cell_type": "code",
   "execution_count": 32,
   "metadata": {},
   "outputs": [
    {
     "data": {
      "text/html": [
       "<div>\n",
       "<style scoped>\n",
       "    .dataframe tbody tr th:only-of-type {\n",
       "        vertical-align: middle;\n",
       "    }\n",
       "\n",
       "    .dataframe tbody tr th {\n",
       "        vertical-align: top;\n",
       "    }\n",
       "\n",
       "    .dataframe thead th {\n",
       "        text-align: right;\n",
       "    }\n",
       "</style>\n",
       "<table border=\"1\" class=\"dataframe\">\n",
       "  <thead>\n",
       "    <tr style=\"text-align: right;\">\n",
       "      <th></th>\n",
       "      <th>구분</th>\n",
       "      <th>2003년</th>\n",
       "      <th>2004년</th>\n",
       "      <th>2005년</th>\n",
       "      <th>2006년</th>\n",
       "      <th>2007년</th>\n",
       "      <th>2008년</th>\n",
       "      <th>2009년</th>\n",
       "      <th>2010년</th>\n",
       "      <th>2011년</th>\n",
       "      <th>...</th>\n",
       "      <th>2013년</th>\n",
       "      <th>2014년</th>\n",
       "      <th>2015년</th>\n",
       "      <th>2016년</th>\n",
       "      <th>2017년</th>\n",
       "      <th>2018년</th>\n",
       "      <th>2019년</th>\n",
       "      <th>2020년</th>\n",
       "      <th>2021년</th>\n",
       "      <th>평균</th>\n",
       "    </tr>\n",
       "  </thead>\n",
       "  <tbody>\n",
       "    <tr>\n",
       "      <th>0</th>\n",
       "      <td>관찰지역수</td>\n",
       "      <td>116</td>\n",
       "      <td>117</td>\n",
       "      <td>122</td>\n",
       "      <td>126</td>\n",
       "      <td>127</td>\n",
       "      <td>140</td>\n",
       "      <td>142</td>\n",
       "      <td>172</td>\n",
       "      <td>193</td>\n",
       "      <td>...</td>\n",
       "      <td>193</td>\n",
       "      <td>194</td>\n",
       "      <td>75</td>\n",
       "      <td>200</td>\n",
       "      <td>200</td>\n",
       "      <td>196</td>\n",
       "      <td>200</td>\n",
       "      <td>200</td>\n",
       "      <td>206</td>\n",
       "      <td>163.74</td>\n",
       "    </tr>\n",
       "    <tr>\n",
       "      <th>1</th>\n",
       "      <td>합계</td>\n",
       "      <td>971176</td>\n",
       "      <td>1109531</td>\n",
       "      <td>1175808</td>\n",
       "      <td>1184287</td>\n",
       "      <td>1577499</td>\n",
       "      <td>1459277</td>\n",
       "      <td>1914446</td>\n",
       "      <td>1445152</td>\n",
       "      <td>1248740</td>\n",
       "      <td>...</td>\n",
       "      <td>1106287</td>\n",
       "      <td>1256065</td>\n",
       "      <td>974685</td>\n",
       "      <td>1568527</td>\n",
       "      <td>1320000</td>\n",
       "      <td>1432843</td>\n",
       "      <td>1469859</td>\n",
       "      <td>1629083</td>\n",
       "      <td>1478060</td>\n",
       "      <td>1338074.05</td>\n",
       "    </tr>\n",
       "    <tr>\n",
       "      <th>2</th>\n",
       "      <td>들꿩</td>\n",
       "      <td>1</td>\n",
       "      <td>0</td>\n",
       "      <td>0</td>\n",
       "      <td>0</td>\n",
       "      <td>1</td>\n",
       "      <td>0</td>\n",
       "      <td>0</td>\n",
       "      <td>1</td>\n",
       "      <td>0</td>\n",
       "      <td>...</td>\n",
       "      <td>0</td>\n",
       "      <td>1</td>\n",
       "      <td>0</td>\n",
       "      <td>0</td>\n",
       "      <td>0</td>\n",
       "      <td>0</td>\n",
       "      <td>0</td>\n",
       "      <td>4</td>\n",
       "      <td>1</td>\n",
       "      <td>0.47</td>\n",
       "    </tr>\n",
       "    <tr>\n",
       "      <th>3</th>\n",
       "      <td>멧닭</td>\n",
       "      <td>0</td>\n",
       "      <td>0</td>\n",
       "      <td>0</td>\n",
       "      <td>0</td>\n",
       "      <td>0</td>\n",
       "      <td>0</td>\n",
       "      <td>0</td>\n",
       "      <td>0</td>\n",
       "      <td>0</td>\n",
       "      <td>...</td>\n",
       "      <td>0</td>\n",
       "      <td>0</td>\n",
       "      <td>0</td>\n",
       "      <td>0</td>\n",
       "      <td>0</td>\n",
       "      <td>0</td>\n",
       "      <td>0</td>\n",
       "      <td>0</td>\n",
       "      <td>0</td>\n",
       "      <td>0.00</td>\n",
       "    </tr>\n",
       "    <tr>\n",
       "      <th>4</th>\n",
       "      <td>메추라기</td>\n",
       "      <td>3</td>\n",
       "      <td>5</td>\n",
       "      <td>14</td>\n",
       "      <td>14</td>\n",
       "      <td>13</td>\n",
       "      <td>17</td>\n",
       "      <td>18</td>\n",
       "      <td>18</td>\n",
       "      <td>18</td>\n",
       "      <td>...</td>\n",
       "      <td>37</td>\n",
       "      <td>6</td>\n",
       "      <td>10</td>\n",
       "      <td>0</td>\n",
       "      <td>4</td>\n",
       "      <td>5</td>\n",
       "      <td>11</td>\n",
       "      <td>3</td>\n",
       "      <td>4</td>\n",
       "      <td>11.00</td>\n",
       "    </tr>\n",
       "  </tbody>\n",
       "</table>\n",
       "<p>5 rows × 21 columns</p>\n",
       "</div>"
      ],
      "text/plain": [
       "      구분   2003년    2004년    2005년    2006년    2007년    2008년    2009년  \\\n",
       "0  관찰지역수     116      117      122      126      127      140      142   \n",
       "1     합계  971176  1109531  1175808  1184287  1577499  1459277  1914446   \n",
       "2     들꿩       1        0        0        0        1        0        0   \n",
       "3     멧닭       0        0        0        0        0        0        0   \n",
       "4   메추라기       3        5       14       14       13       17       18   \n",
       "\n",
       "     2010년    2011년  ...    2013년    2014년   2015년    2016년    2017년    2018년  \\\n",
       "0      172      193  ...      193      194      75      200      200      196   \n",
       "1  1445152  1248740  ...  1106287  1256065  974685  1568527  1320000  1432843   \n",
       "2        1        0  ...        0        1       0        0        0        0   \n",
       "3        0        0  ...        0        0       0        0        0        0   \n",
       "4       18       18  ...       37        6      10        0        4        5   \n",
       "\n",
       "     2019년    2020년    2021년          평균  \n",
       "0      200      200      206      163.74  \n",
       "1  1469859  1629083  1478060  1338074.05  \n",
       "2        0        4        1        0.47  \n",
       "3        0        0        0        0.00  \n",
       "4       11        3        4       11.00  \n",
       "\n",
       "[5 rows x 21 columns]"
      ]
     },
     "execution_count": 32,
     "metadata": {},
     "output_type": "execute_result"
    }
   ],
   "source": [
    "brids_species.head()"
   ]
  },
  {
   "cell_type": "code",
   "execution_count": 33,
   "metadata": {},
   "outputs": [
    {
     "data": {
      "text/plain": [
       "구분                합계\n",
       "2003년         971176\n",
       "2004년        1109531\n",
       "2005년        1175808\n",
       "2006년        1184287\n",
       "2007년        1577499\n",
       "2008년        1459277\n",
       "2009년        1914446\n",
       "2010년        1445152\n",
       "2011년        1248740\n",
       "2012년        1102082\n",
       "2013년        1106287\n",
       "2014년        1256065\n",
       "2015년         974685\n",
       "2016년        1568527\n",
       "2017년        1320000\n",
       "2018년        1432843\n",
       "2019년        1469859\n",
       "2020년        1629083\n",
       "2021년        1478060\n",
       "평균       1.33807e+06\n",
       "Name: 1, dtype: object"
      ]
     },
     "execution_count": 33,
     "metadata": {},
     "output_type": "execute_result"
    }
   ],
   "source": [
    "brids_total=brids_species.iloc[1,:]\n",
    "brids_total"
   ]
  },
  {
   "cell_type": "code",
   "execution_count": 34,
   "metadata": {},
   "outputs": [
    {
     "data": {
      "text/html": [
       "<div>\n",
       "<style scoped>\n",
       "    .dataframe tbody tr th:only-of-type {\n",
       "        vertical-align: middle;\n",
       "    }\n",
       "\n",
       "    .dataframe tbody tr th {\n",
       "        vertical-align: top;\n",
       "    }\n",
       "\n",
       "    .dataframe thead th {\n",
       "        text-align: right;\n",
       "    }\n",
       "</style>\n",
       "<table border=\"1\" class=\"dataframe\">\n",
       "  <thead>\n",
       "    <tr style=\"text-align: right;\">\n",
       "      <th></th>\n",
       "      <th>개체수</th>\n",
       "    </tr>\n",
       "  </thead>\n",
       "  <tbody>\n",
       "    <tr>\n",
       "      <th>구분</th>\n",
       "      <td>합계</td>\n",
       "    </tr>\n",
       "    <tr>\n",
       "      <th>2003년</th>\n",
       "      <td>971176</td>\n",
       "    </tr>\n",
       "    <tr>\n",
       "      <th>2004년</th>\n",
       "      <td>1109531</td>\n",
       "    </tr>\n",
       "    <tr>\n",
       "      <th>2005년</th>\n",
       "      <td>1175808</td>\n",
       "    </tr>\n",
       "    <tr>\n",
       "      <th>2006년</th>\n",
       "      <td>1184287</td>\n",
       "    </tr>\n",
       "  </tbody>\n",
       "</table>\n",
       "</div>"
      ],
      "text/plain": [
       "           개체수\n",
       "구분          합계\n",
       "2003년   971176\n",
       "2004년  1109531\n",
       "2005년  1175808\n",
       "2006년  1184287"
      ]
     },
     "execution_count": 34,
     "metadata": {},
     "output_type": "execute_result"
    }
   ],
   "source": [
    "brids_total=brids_total.to_frame()\n",
    "brids_total.columns=[ '개체수']\n",
    "brids_total.head()"
   ]
  },
  {
   "cell_type": "code",
   "execution_count": 35,
   "metadata": {},
   "outputs": [
    {
     "name": "stdout",
     "output_type": "stream",
     "text": [
      "<class 'pandas.core.frame.DataFrame'>\n",
      "Index: 21 entries, 구분 to 평균\n",
      "Data columns (total 1 columns):\n",
      " #   Column  Non-Null Count  Dtype \n",
      "---  ------  --------------  ----- \n",
      " 0   개체수     21 non-null     object\n",
      "dtypes: object(1)\n",
      "memory usage: 976.0+ bytes\n"
     ]
    }
   ],
   "source": [
    "brids_total.info()"
   ]
  },
  {
   "cell_type": "code",
   "execution_count": 36,
   "metadata": {},
   "outputs": [
    {
     "data": {
      "text/html": [
       "<div>\n",
       "<style scoped>\n",
       "    .dataframe tbody tr th:only-of-type {\n",
       "        vertical-align: middle;\n",
       "    }\n",
       "\n",
       "    .dataframe tbody tr th {\n",
       "        vertical-align: top;\n",
       "    }\n",
       "\n",
       "    .dataframe thead th {\n",
       "        text-align: right;\n",
       "    }\n",
       "</style>\n",
       "<table border=\"1\" class=\"dataframe\">\n",
       "  <thead>\n",
       "    <tr style=\"text-align: right;\">\n",
       "      <th></th>\n",
       "      <th>개체수</th>\n",
       "    </tr>\n",
       "  </thead>\n",
       "  <tbody>\n",
       "    <tr>\n",
       "      <th>구분</th>\n",
       "      <td>합계</td>\n",
       "    </tr>\n",
       "    <tr>\n",
       "      <th>2003년</th>\n",
       "      <td>971176</td>\n",
       "    </tr>\n",
       "    <tr>\n",
       "      <th>2004년</th>\n",
       "      <td>1109531</td>\n",
       "    </tr>\n",
       "    <tr>\n",
       "      <th>2005년</th>\n",
       "      <td>1175808</td>\n",
       "    </tr>\n",
       "    <tr>\n",
       "      <th>2006년</th>\n",
       "      <td>1184287</td>\n",
       "    </tr>\n",
       "  </tbody>\n",
       "</table>\n",
       "</div>"
      ],
      "text/plain": [
       "           개체수\n",
       "구분          합계\n",
       "2003년   971176\n",
       "2004년  1109531\n",
       "2005년  1175808\n",
       "2006년  1184287"
      ]
     },
     "execution_count": 36,
     "metadata": {},
     "output_type": "execute_result"
    }
   ],
   "source": [
    "brids_total.head()"
   ]
  },
  {
   "cell_type": "code",
   "execution_count": 37,
   "metadata": {},
   "outputs": [
    {
     "data": {
      "text/html": [
       "<div>\n",
       "<style scoped>\n",
       "    .dataframe tbody tr th:only-of-type {\n",
       "        vertical-align: middle;\n",
       "    }\n",
       "\n",
       "    .dataframe tbody tr th {\n",
       "        vertical-align: top;\n",
       "    }\n",
       "\n",
       "    .dataframe thead th {\n",
       "        text-align: right;\n",
       "    }\n",
       "</style>\n",
       "<table border=\"1\" class=\"dataframe\">\n",
       "  <thead>\n",
       "    <tr style=\"text-align: right;\">\n",
       "      <th></th>\n",
       "      <th>개체수</th>\n",
       "    </tr>\n",
       "  </thead>\n",
       "  <tbody>\n",
       "    <tr>\n",
       "      <th>2003년</th>\n",
       "      <td>971176</td>\n",
       "    </tr>\n",
       "    <tr>\n",
       "      <th>2004년</th>\n",
       "      <td>1109531</td>\n",
       "    </tr>\n",
       "    <tr>\n",
       "      <th>2005년</th>\n",
       "      <td>1175808</td>\n",
       "    </tr>\n",
       "    <tr>\n",
       "      <th>2006년</th>\n",
       "      <td>1184287</td>\n",
       "    </tr>\n",
       "    <tr>\n",
       "      <th>2007년</th>\n",
       "      <td>1577499</td>\n",
       "    </tr>\n",
       "  </tbody>\n",
       "</table>\n",
       "</div>"
      ],
      "text/plain": [
       "           개체수\n",
       "2003년   971176\n",
       "2004년  1109531\n",
       "2005년  1175808\n",
       "2006년  1184287\n",
       "2007년  1577499"
      ]
     },
     "execution_count": 37,
     "metadata": {},
     "output_type": "execute_result"
    }
   ],
   "source": [
    "brids_total.drop(['구분','평균'],inplace=True)\n",
    "brids_total.head()"
   ]
  },
  {
   "cell_type": "code",
   "execution_count": 38,
   "metadata": {},
   "outputs": [
    {
     "name": "stdout",
     "output_type": "stream",
     "text": [
      "Index(['2003', '2004', '2005', '2006', '2007', '2008', '2009', '2010', '2011',\n",
      "       '2012', '2013', '2014', '2015', '2016', '2017', '2018', '2019', '2020',\n",
      "       '2021'],\n",
      "      dtype='object')\n",
      "Index(['2003', '2004', '2005', '2006', '2007', '2008', '2009', '2010', '2011',\n",
      "       '2012', '2013', '2014', '2015', '2016', '2017', '2018', '2019', '2020',\n",
      "       '2021'],\n",
      "      dtype='object', name='year')\n"
     ]
    }
   ],
   "source": [
    "brids_total.index = ['2003','2004','2005','2006','2007','2008','2009','2010','2011','2012','2013','2014','2015','2016','2017','2018','2019','2020','2021']\n",
    "print(brids_total.index)\n",
    "brids_total.index.name='year'\n",
    "print(brids_total.index)"
   ]
  },
  {
   "cell_type": "code",
   "execution_count": 39,
   "metadata": {},
   "outputs": [
    {
     "data": {
      "text/plain": [
       "year\n",
       "2003     971176\n",
       "2004    1109531\n",
       "2005    1175808\n",
       "2006    1184287\n",
       "2007    1577499\n",
       "2008    1459277\n",
       "2009    1914446\n",
       "2010    1445152\n",
       "2011    1248740\n",
       "2012    1102082\n",
       "2013    1106287\n",
       "2014    1256065\n",
       "2015     974685\n",
       "2016    1568527\n",
       "2017    1320000\n",
       "2018    1432843\n",
       "2019    1469859\n",
       "2020    1629083\n",
       "2021    1478060\n",
       "Name: 개체수, dtype: object"
      ]
     },
     "execution_count": 39,
     "metadata": {},
     "output_type": "execute_result"
    }
   ],
   "source": [
    "brids_total['개체수']"
   ]
  },
  {
   "cell_type": "code",
   "execution_count": 45,
   "metadata": {},
   "outputs": [
    {
     "data": {
      "text/html": [
       "<div>\n",
       "<style scoped>\n",
       "    .dataframe tbody tr th:only-of-type {\n",
       "        vertical-align: middle;\n",
       "    }\n",
       "\n",
       "    .dataframe tbody tr th {\n",
       "        vertical-align: top;\n",
       "    }\n",
       "\n",
       "    .dataframe thead th {\n",
       "        text-align: right;\n",
       "    }\n",
       "</style>\n",
       "<table border=\"1\" class=\"dataframe\">\n",
       "  <thead>\n",
       "    <tr style=\"text-align: right;\">\n",
       "      <th></th>\n",
       "      <th>개체수</th>\n",
       "    </tr>\n",
       "    <tr>\n",
       "      <th>year</th>\n",
       "      <th></th>\n",
       "    </tr>\n",
       "  </thead>\n",
       "  <tbody>\n",
       "    <tr>\n",
       "      <th>2003</th>\n",
       "      <td>971176</td>\n",
       "    </tr>\n",
       "    <tr>\n",
       "      <th>2004</th>\n",
       "      <td>1109531</td>\n",
       "    </tr>\n",
       "    <tr>\n",
       "      <th>2005</th>\n",
       "      <td>1175808</td>\n",
       "    </tr>\n",
       "    <tr>\n",
       "      <th>2006</th>\n",
       "      <td>1184287</td>\n",
       "    </tr>\n",
       "    <tr>\n",
       "      <th>2007</th>\n",
       "      <td>1577499</td>\n",
       "    </tr>\n",
       "  </tbody>\n",
       "</table>\n",
       "</div>"
      ],
      "text/plain": [
       "          개체수\n",
       "year         \n",
       "2003   971176\n",
       "2004  1109531\n",
       "2005  1175808\n",
       "2006  1184287\n",
       "2007  1577499"
      ]
     },
     "execution_count": 45,
     "metadata": {},
     "output_type": "execute_result"
    }
   ],
   "source": [
    "brids_total.index.name='year'\n",
    "brids_total.head()"
   ]
  },
  {
   "cell_type": "code",
   "execution_count": 61,
   "metadata": {},
   "outputs": [
    {
     "ename": "AttributeError",
     "evalue": "'DataFrame' object has no attribute 'to_frame'",
     "output_type": "error",
     "traceback": [
      "\u001b[1;31m---------------------------------------------------------------------------\u001b[0m",
      "\u001b[1;31mAttributeError\u001b[0m                            Traceback (most recent call last)",
      "\u001b[1;32m<ipython-input-61-cee389ded913>\u001b[0m in \u001b[0;36m<module>\u001b[1;34m\u001b[0m\n\u001b[1;32m----> 1\u001b[1;33m \u001b[0mAI_occur_year\u001b[0m\u001b[1;33m=\u001b[0m\u001b[0mAI_occur_year\u001b[0m\u001b[1;33m.\u001b[0m\u001b[0mto_frame\u001b[0m\u001b[1;33m(\u001b[0m\u001b[1;33m)\u001b[0m\u001b[1;33m\u001b[0m\u001b[1;33m\u001b[0m\u001b[0m\n\u001b[0m\u001b[0;32m      2\u001b[0m \u001b[0mAI_occur_year\u001b[0m\u001b[1;33m.\u001b[0m\u001b[0mcolumns\u001b[0m\u001b[1;33m=\u001b[0m\u001b[1;33m[\u001b[0m \u001b[1;34m'발생건수'\u001b[0m\u001b[1;33m]\u001b[0m\u001b[1;33m\u001b[0m\u001b[1;33m\u001b[0m\u001b[0m\n\u001b[0;32m      3\u001b[0m \u001b[0mAI_occur_year\u001b[0m\u001b[1;33m.\u001b[0m\u001b[0mhead\u001b[0m\u001b[1;33m(\u001b[0m\u001b[1;33m)\u001b[0m\u001b[1;33m\u001b[0m\u001b[1;33m\u001b[0m\u001b[0m\n",
      "\u001b[1;32mC:\\ProgramData\\Anaconda3\\lib\\site-packages\\pandas\\core\\generic.py\u001b[0m in \u001b[0;36m__getattr__\u001b[1;34m(self, name)\u001b[0m\n\u001b[0;32m   5137\u001b[0m             \u001b[1;32mif\u001b[0m \u001b[0mself\u001b[0m\u001b[1;33m.\u001b[0m\u001b[0m_info_axis\u001b[0m\u001b[1;33m.\u001b[0m\u001b[0m_can_hold_identifiers_and_holds_name\u001b[0m\u001b[1;33m(\u001b[0m\u001b[0mname\u001b[0m\u001b[1;33m)\u001b[0m\u001b[1;33m:\u001b[0m\u001b[1;33m\u001b[0m\u001b[1;33m\u001b[0m\u001b[0m\n\u001b[0;32m   5138\u001b[0m                 \u001b[1;32mreturn\u001b[0m \u001b[0mself\u001b[0m\u001b[1;33m[\u001b[0m\u001b[0mname\u001b[0m\u001b[1;33m]\u001b[0m\u001b[1;33m\u001b[0m\u001b[1;33m\u001b[0m\u001b[0m\n\u001b[1;32m-> 5139\u001b[1;33m             \u001b[1;32mreturn\u001b[0m \u001b[0mobject\u001b[0m\u001b[1;33m.\u001b[0m\u001b[0m__getattribute__\u001b[0m\u001b[1;33m(\u001b[0m\u001b[0mself\u001b[0m\u001b[1;33m,\u001b[0m \u001b[0mname\u001b[0m\u001b[1;33m)\u001b[0m\u001b[1;33m\u001b[0m\u001b[1;33m\u001b[0m\u001b[0m\n\u001b[0m\u001b[0;32m   5140\u001b[0m \u001b[1;33m\u001b[0m\u001b[0m\n\u001b[0;32m   5141\u001b[0m     \u001b[1;32mdef\u001b[0m \u001b[0m__setattr__\u001b[0m\u001b[1;33m(\u001b[0m\u001b[0mself\u001b[0m\u001b[1;33m,\u001b[0m \u001b[0mname\u001b[0m\u001b[1;33m:\u001b[0m \u001b[0mstr\u001b[0m\u001b[1;33m,\u001b[0m \u001b[0mvalue\u001b[0m\u001b[1;33m)\u001b[0m \u001b[1;33m->\u001b[0m \u001b[1;32mNone\u001b[0m\u001b[1;33m:\u001b[0m\u001b[1;33m\u001b[0m\u001b[1;33m\u001b[0m\u001b[0m\n",
      "\u001b[1;31mAttributeError\u001b[0m: 'DataFrame' object has no attribute 'to_frame'"
     ]
    }
   ],
   "source": [
    "AI_occur_year=AI_occur_year.to_frame()\n",
    "AI_occur_year.columns=[ '발생건수']\n",
    "AI_occur_year.head()"
   ]
  },
  {
   "cell_type": "code",
   "execution_count": 62,
   "metadata": {},
   "outputs": [
    {
     "data": {
      "text/html": [
       "<div>\n",
       "<style scoped>\n",
       "    .dataframe tbody tr th:only-of-type {\n",
       "        vertical-align: middle;\n",
       "    }\n",
       "\n",
       "    .dataframe tbody tr th {\n",
       "        vertical-align: top;\n",
       "    }\n",
       "\n",
       "    .dataframe thead th {\n",
       "        text-align: right;\n",
       "    }\n",
       "</style>\n",
       "<table border=\"1\" class=\"dataframe\">\n",
       "  <thead>\n",
       "    <tr style=\"text-align: right;\">\n",
       "      <th></th>\n",
       "      <th>발생건수</th>\n",
       "    </tr>\n",
       "    <tr>\n",
       "      <th>year</th>\n",
       "      <th></th>\n",
       "    </tr>\n",
       "  </thead>\n",
       "  <tbody>\n",
       "    <tr>\n",
       "      <th>2003</th>\n",
       "      <td>19</td>\n",
       "    </tr>\n",
       "    <tr>\n",
       "      <th>2004</th>\n",
       "      <td>6</td>\n",
       "    </tr>\n",
       "    <tr>\n",
       "      <th>2006</th>\n",
       "      <td>6</td>\n",
       "    </tr>\n",
       "    <tr>\n",
       "      <th>2007</th>\n",
       "      <td>4</td>\n",
       "    </tr>\n",
       "    <tr>\n",
       "      <th>2008</th>\n",
       "      <td>45</td>\n",
       "    </tr>\n",
       "    <tr>\n",
       "      <th>2010</th>\n",
       "      <td>3</td>\n",
       "    </tr>\n",
       "    <tr>\n",
       "      <th>2011</th>\n",
       "      <td>51</td>\n",
       "    </tr>\n",
       "    <tr>\n",
       "      <th>2014</th>\n",
       "      <td>280</td>\n",
       "    </tr>\n",
       "    <tr>\n",
       "      <th>2015</th>\n",
       "      <td>141</td>\n",
       "    </tr>\n",
       "    <tr>\n",
       "      <th>2016</th>\n",
       "      <td>315</td>\n",
       "    </tr>\n",
       "    <tr>\n",
       "      <th>2017</th>\n",
       "      <td>117</td>\n",
       "    </tr>\n",
       "    <tr>\n",
       "      <th>2018</th>\n",
       "      <td>14</td>\n",
       "    </tr>\n",
       "    <tr>\n",
       "      <th>2020</th>\n",
       "      <td>43</td>\n",
       "    </tr>\n",
       "    <tr>\n",
       "      <th>2021</th>\n",
       "      <td>78</td>\n",
       "    </tr>\n",
       "  </tbody>\n",
       "</table>\n",
       "</div>"
      ],
      "text/plain": [
       "      발생건수\n",
       "year      \n",
       "2003    19\n",
       "2004     6\n",
       "2006     6\n",
       "2007     4\n",
       "2008    45\n",
       "2010     3\n",
       "2011    51\n",
       "2014   280\n",
       "2015   141\n",
       "2016   315\n",
       "2017   117\n",
       "2018    14\n",
       "2020    43\n",
       "2021    78"
      ]
     },
     "execution_count": 62,
     "metadata": {},
     "output_type": "execute_result"
    }
   ],
   "source": [
    "AI_occur_year"
   ]
  },
  {
   "cell_type": "code",
   "execution_count": 52,
   "metadata": {},
   "outputs": [],
   "source": [
    "#문자로 맞쳐주기.\n",
    "#AI_occur_year.index.astype('str')"
   ]
  },
  {
   "cell_type": "code",
   "execution_count": 63,
   "metadata": {},
   "outputs": [
    {
     "name": "stdout",
     "output_type": "stream",
     "text": [
      "<class 'pandas.core.frame.DataFrame'>\n",
      "Index: 19 entries, 2003 to 2021\n",
      "Data columns (total 1 columns):\n",
      " #   Column  Non-Null Count  Dtype \n",
      "---  ------  --------------  ----- \n",
      " 0   개체수     19 non-null     object\n",
      "dtypes: object(1)\n",
      "memory usage: 944.0+ bytes\n"
     ]
    }
   ],
   "source": [
    "brids_total.info()"
   ]
  },
  {
   "cell_type": "code",
   "execution_count": 81,
   "metadata": {},
   "outputs": [],
   "source": [
    "AI_occur_year.sort_values(by='발생건수')\n",
    "AI_occur_year.reset_index(inplace=True)"
   ]
  },
  {
   "cell_type": "code",
   "execution_count": 88,
   "metadata": {},
   "outputs": [
    {
     "name": "stdout",
     "output_type": "stream",
     "text": [
      "<class 'pandas.core.frame.DataFrame'>\n",
      "RangeIndex: 14 entries, 0 to 13\n",
      "Data columns (total 2 columns):\n",
      " #   Column  Non-Null Count  Dtype\n",
      "---  ------  --------------  -----\n",
      " 0   year    14 non-null     int64\n",
      " 1   발생건수    14 non-null     int64\n",
      "dtypes: int64(2)\n",
      "memory usage: 352.0 bytes\n"
     ]
    }
   ],
   "source": [
    "AI_occur_year.info()"
   ]
  },
  {
   "cell_type": "code",
   "execution_count": 66,
   "metadata": {},
   "outputs": [
    {
     "data": {
      "text/html": [
       "<div>\n",
       "<style scoped>\n",
       "    .dataframe tbody tr th:only-of-type {\n",
       "        vertical-align: middle;\n",
       "    }\n",
       "\n",
       "    .dataframe tbody tr th {\n",
       "        vertical-align: top;\n",
       "    }\n",
       "\n",
       "    .dataframe thead th {\n",
       "        text-align: right;\n",
       "    }\n",
       "</style>\n",
       "<table border=\"1\" class=\"dataframe\">\n",
       "  <thead>\n",
       "    <tr style=\"text-align: right;\">\n",
       "      <th></th>\n",
       "      <th>개체수</th>\n",
       "    </tr>\n",
       "    <tr>\n",
       "      <th>year</th>\n",
       "      <th></th>\n",
       "    </tr>\n",
       "  </thead>\n",
       "  <tbody>\n",
       "    <tr>\n",
       "      <th>2003</th>\n",
       "      <td>971176</td>\n",
       "    </tr>\n",
       "    <tr>\n",
       "      <th>2015</th>\n",
       "      <td>974685</td>\n",
       "    </tr>\n",
       "    <tr>\n",
       "      <th>2012</th>\n",
       "      <td>1102082</td>\n",
       "    </tr>\n",
       "    <tr>\n",
       "      <th>2013</th>\n",
       "      <td>1106287</td>\n",
       "    </tr>\n",
       "    <tr>\n",
       "      <th>2004</th>\n",
       "      <td>1109531</td>\n",
       "    </tr>\n",
       "    <tr>\n",
       "      <th>2005</th>\n",
       "      <td>1175808</td>\n",
       "    </tr>\n",
       "    <tr>\n",
       "      <th>2006</th>\n",
       "      <td>1184287</td>\n",
       "    </tr>\n",
       "    <tr>\n",
       "      <th>2011</th>\n",
       "      <td>1248740</td>\n",
       "    </tr>\n",
       "    <tr>\n",
       "      <th>2014</th>\n",
       "      <td>1256065</td>\n",
       "    </tr>\n",
       "    <tr>\n",
       "      <th>2017</th>\n",
       "      <td>1320000</td>\n",
       "    </tr>\n",
       "    <tr>\n",
       "      <th>2018</th>\n",
       "      <td>1432843</td>\n",
       "    </tr>\n",
       "    <tr>\n",
       "      <th>2010</th>\n",
       "      <td>1445152</td>\n",
       "    </tr>\n",
       "    <tr>\n",
       "      <th>2008</th>\n",
       "      <td>1459277</td>\n",
       "    </tr>\n",
       "    <tr>\n",
       "      <th>2019</th>\n",
       "      <td>1469859</td>\n",
       "    </tr>\n",
       "    <tr>\n",
       "      <th>2021</th>\n",
       "      <td>1478060</td>\n",
       "    </tr>\n",
       "    <tr>\n",
       "      <th>2016</th>\n",
       "      <td>1568527</td>\n",
       "    </tr>\n",
       "    <tr>\n",
       "      <th>2007</th>\n",
       "      <td>1577499</td>\n",
       "    </tr>\n",
       "    <tr>\n",
       "      <th>2020</th>\n",
       "      <td>1629083</td>\n",
       "    </tr>\n",
       "    <tr>\n",
       "      <th>2009</th>\n",
       "      <td>1914446</td>\n",
       "    </tr>\n",
       "  </tbody>\n",
       "</table>\n",
       "</div>"
      ],
      "text/plain": [
       "          개체수\n",
       "year         \n",
       "2003   971176\n",
       "2015   974685\n",
       "2012  1102082\n",
       "2013  1106287\n",
       "2004  1109531\n",
       "2005  1175808\n",
       "2006  1184287\n",
       "2011  1248740\n",
       "2014  1256065\n",
       "2017  1320000\n",
       "2018  1432843\n",
       "2010  1445152\n",
       "2008  1459277\n",
       "2019  1469859\n",
       "2021  1478060\n",
       "2016  1568527\n",
       "2007  1577499\n",
       "2020  1629083\n",
       "2009  1914446"
      ]
     },
     "execution_count": 66,
     "metadata": {},
     "output_type": "execute_result"
    }
   ],
   "source": [
    "brids_total.sort_values(by='개체수')"
   ]
  },
  {
   "cell_type": "code",
   "execution_count": 75,
   "metadata": {},
   "outputs": [],
   "source": [
    "brids_total_i=brids_total.astype('int').reset_index()"
   ]
  },
  {
   "cell_type": "code",
   "execution_count": 76,
   "metadata": {},
   "outputs": [
    {
     "name": "stdout",
     "output_type": "stream",
     "text": [
      "<class 'pandas.core.frame.DataFrame'>\n",
      "RangeIndex: 19 entries, 0 to 18\n",
      "Data columns (total 2 columns):\n",
      " #   Column  Non-Null Count  Dtype \n",
      "---  ------  --------------  ----- \n",
      " 0   year    19 non-null     object\n",
      " 1   개체수     19 non-null     int32 \n",
      "dtypes: int32(1), object(1)\n",
      "memory usage: 356.0+ bytes\n"
     ]
    }
   ],
   "source": [
    "brids_total_i.info()"
   ]
  },
  {
   "cell_type": "code",
   "execution_count": 71,
   "metadata": {},
   "outputs": [
    {
     "name": "stdout",
     "output_type": "stream",
     "text": [
      "test_stat: 0.756360, pvalue=0.001513\n",
      "test_stat: 0.957399, pvalue=0.522289\n"
     ]
    }
   ],
   "source": [
    "# 정규성 검정  > 대립가설(정규화 따르지 않는다) 채택\n",
    "test_stat, p_value = stats.shapiro(AI_occur_year)\n",
    "print(\"test_stat: %f, pvalue=%f\"%(test_stat, p_value))\n",
    "test_stat, p_value = stats.shapiro(brids_total_i)\n",
    "print(\"test_stat: %f, pvalue=%f\"%(test_stat, p_value))"
   ]
  },
  {
   "cell_type": "code",
   "execution_count": 83,
   "metadata": {},
   "outputs": [
    {
     "name": "stdout",
     "output_type": "stream",
     "text": [
      "test_stat: 168.000000, pvalue=0.241899\n"
     ]
    }
   ],
   "source": [
    "# 독립성 검정  > 귀무가설(두 변수는 서로 독립적이다) 채택\n",
    "crosstab=pd.crosstab(AI_occur_year['발생건수'],brids_total_i['개체수'])\n",
    "chi2 = stats.chi2_contingency(crosstab)\n",
    "print(\"test_stat: %f, pvalue=%f\"%(chi2[0], chi2[1]))\n",
    "#pvalue 5%이상 귀무가설"
   ]
  },
  {
   "cell_type": "code",
   "execution_count": 86,
   "metadata": {},
   "outputs": [
    {
     "name": "stdout",
     "output_type": "stream",
     "text": [
      "test_stat: 31.934719, pvalue=0.000003\n"
     ]
    }
   ],
   "source": [
    "# 비정규 데이터, 분산 검정(Levene's Test 이용) > 귀무가설(k개의 집단에 분산이 동일) 채택\n",
    "test_stat, p_value = stats.levene(AI_occur_year['발생건수'],brids_total_i['개체수'])\n",
    "print(\"test_stat: %f, pvalue=%f\"%(test_stat, p_value))\n",
    "# pvalue 유의수준 5%이내면 귀무가설 기각"
   ]
  },
  {
   "cell_type": "code",
   "execution_count": 91,
   "metadata": {},
   "outputs": [
    {
     "data": {
      "text/plain": [
       "MannwhitneyuResult(statistic=0.0, pvalue=6.935973835633591e-07)"
      ]
     },
     "execution_count": 91,
     "metadata": {},
     "output_type": "execute_result"
    }
   ],
   "source": [
    "# 비모수적 데이터 이며 독립적이므로 Mann-Whitney U test 이용 (크기 차이 알수 없음)\n",
    "result_temp=stats.mannwhitneyu(AI_occur_year['발생건수'],brids_total_i['개체수'])\n"
   ]
  },
  {
   "cell_type": "code",
   "execution_count": 92,
   "metadata": {},
   "outputs": [
    {
     "name": "stdout",
     "output_type": "stream",
     "text": [
      "u검정 통계량: 0.000, pvalue=0.000\n"
     ]
    }
   ],
   "source": [
    "print(\"u검정 통계량: %.3f, pvalue=%.3f\"%(result_temp))   # 유의수준 5%내이므로 귀무가설 기각 대립가설 채택"
   ]
  },
  {
   "cell_type": "markdown",
   "metadata": {},
   "source": [
    "가설3\n",
    "\n",
    "\n",
    "데이터셋1= 발생년도-월-일 (10,11,12,1,2,3)\n",
    "데이터셋2= 야생조류 종 및 개체수 합계 (10,11,12,1,2,3) 철새가 적은 달 많은 달.(쪼개기)\n",
    "->\n",
    "데이터셋 자체에 지역이 들어가야 한다.\n",
    "\n",
    "가정: 조류수가 많을 수록 발생건수가 많다. (이건 너무 당연하다. - 자꾸 파다보면 왜 파는지를 모른다.)\n",
    "\n",
    "귀무가설: 야생조류 개체수와 AI 월 별 발생건수는 양의 상관관계가 없다. \n",
    "\n",
    "대립가설: 야생조류 개체수와 AI 월 별 발생건수는 양의 상관관계가 있다.\n",
    "\n",
    "유의수준="
   ]
  },
  {
   "cell_type": "code",
   "execution_count": 98,
   "metadata": {},
   "outputs": [],
   "source": [
    "import pandas as pd\n",
    "\n",
    "wild_birds_14=pd.read_csv(\"wild birds_2014.csv\")\n",
    "wild_birds_15=pd.read_csv(\"wild birds_2015.csv\")\n",
    "wild_birds_16=pd.read_csv(\"wild birds_2016.csv\")\n",
    "wild_birds_17=pd.read_csv(\"wild birds_2017.csv\")\n",
    "wild_birds_18=pd.read_csv(\"wild birds_2018.csv\")\n",
    "wild_birds_19=pd.read_csv(\"wild birds_2019.csv\")\n",
    "wild_birds_20=pd.read_csv(\"wild birds_2020.csv\")"
   ]
  },
  {
   "cell_type": "code",
   "execution_count": 121,
   "metadata": {},
   "outputs": [],
   "source": [
    "wild_bird14=wild_birds_14.set_index(['구분'])\n",
    "wild_bird15=wild_birds_15.set_index(['구분'])\n",
    "wild_bird16=wild_birds_16.set_index(['구분'])\n",
    "wild_bird17=wild_birds_17.set_index(['구분'])\n",
    "wild_bird18=wild_birds_18.set_index(['구분'])\n",
    "wild_bird19=wild_birds_19.set_index(['구분'])\n",
    "wild_bird20=wild_birds_20.set_index(['구분'])"
   ]
  },
  {
   "cell_type": "code",
   "execution_count": 123,
   "metadata": {},
   "outputs": [
    {
     "data": {
      "text/html": [
       "<div>\n",
       "<style scoped>\n",
       "    .dataframe tbody tr th:only-of-type {\n",
       "        vertical-align: middle;\n",
       "    }\n",
       "\n",
       "    .dataframe tbody tr th {\n",
       "        vertical-align: top;\n",
       "    }\n",
       "\n",
       "    .dataframe thead th {\n",
       "        text-align: right;\n",
       "    }\n",
       "</style>\n",
       "<table border=\"1\" class=\"dataframe\">\n",
       "  <thead>\n",
       "    <tr style=\"text-align: right;\">\n",
       "      <th></th>\n",
       "      <th>Oct-14</th>\n",
       "      <th>Nov-14</th>\n",
       "      <th>Dec-14</th>\n",
       "      <th>Jan-15</th>\n",
       "      <th>Feb-15</th>\n",
       "      <th>Mar-15</th>\n",
       "      <th>평균</th>\n",
       "    </tr>\n",
       "    <tr>\n",
       "      <th>구분</th>\n",
       "      <th></th>\n",
       "      <th></th>\n",
       "      <th></th>\n",
       "      <th></th>\n",
       "      <th></th>\n",
       "      <th></th>\n",
       "      <th></th>\n",
       "    </tr>\n",
       "  </thead>\n",
       "  <tbody>\n",
       "    <tr>\n",
       "      <th>관찰지역수</th>\n",
       "      <td>75</td>\n",
       "      <td>75</td>\n",
       "      <td>200</td>\n",
       "      <td>75</td>\n",
       "      <td>75</td>\n",
       "      <td>75</td>\n",
       "      <td>95.83</td>\n",
       "    </tr>\n",
       "    <tr>\n",
       "      <th>합계</th>\n",
       "      <td>617312</td>\n",
       "      <td>1038700</td>\n",
       "      <td>1111763</td>\n",
       "      <td>974685</td>\n",
       "      <td>675607</td>\n",
       "      <td>839772</td>\n",
       "      <td>876306.50</td>\n",
       "    </tr>\n",
       "    <tr>\n",
       "      <th>들꿩</th>\n",
       "      <td>0</td>\n",
       "      <td>0</td>\n",
       "      <td>0</td>\n",
       "      <td>0</td>\n",
       "      <td>0</td>\n",
       "      <td>0</td>\n",
       "      <td>0.00</td>\n",
       "    </tr>\n",
       "    <tr>\n",
       "      <th>멧닭</th>\n",
       "      <td>0</td>\n",
       "      <td>0</td>\n",
       "      <td>0</td>\n",
       "      <td>0</td>\n",
       "      <td>0</td>\n",
       "      <td>0</td>\n",
       "      <td>0.00</td>\n",
       "    </tr>\n",
       "    <tr>\n",
       "      <th>메추라기</th>\n",
       "      <td>4</td>\n",
       "      <td>9</td>\n",
       "      <td>18</td>\n",
       "      <td>10</td>\n",
       "      <td>11</td>\n",
       "      <td>5</td>\n",
       "      <td>9.50</td>\n",
       "    </tr>\n",
       "    <tr>\n",
       "      <th>...</th>\n",
       "      <td>...</td>\n",
       "      <td>...</td>\n",
       "      <td>...</td>\n",
       "      <td>...</td>\n",
       "      <td>...</td>\n",
       "      <td>...</td>\n",
       "      <td>...</td>\n",
       "    </tr>\n",
       "    <tr>\n",
       "      <th>미동정 소형도요류</th>\n",
       "      <td>0</td>\n",
       "      <td>0</td>\n",
       "      <td>0</td>\n",
       "      <td>0</td>\n",
       "      <td>0</td>\n",
       "      <td>0</td>\n",
       "      <td>0.00</td>\n",
       "    </tr>\n",
       "    <tr>\n",
       "      <th>미동정 중형도요류</th>\n",
       "      <td>0</td>\n",
       "      <td>0</td>\n",
       "      <td>0</td>\n",
       "      <td>0</td>\n",
       "      <td>0</td>\n",
       "      <td>0</td>\n",
       "      <td>0.00</td>\n",
       "    </tr>\n",
       "    <tr>\n",
       "      <th>미동정 도요류</th>\n",
       "      <td>0</td>\n",
       "      <td>0</td>\n",
       "      <td>0</td>\n",
       "      <td>0</td>\n",
       "      <td>0</td>\n",
       "      <td>0</td>\n",
       "      <td>0.00</td>\n",
       "    </tr>\n",
       "    <tr>\n",
       "      <th>미동정 갈매기류</th>\n",
       "      <td>0</td>\n",
       "      <td>0</td>\n",
       "      <td>0</td>\n",
       "      <td>0</td>\n",
       "      <td>0</td>\n",
       "      <td>0</td>\n",
       "      <td>0.00</td>\n",
       "    </tr>\n",
       "    <tr>\n",
       "      <th>미동정 밭종다리류</th>\n",
       "      <td>0</td>\n",
       "      <td>0</td>\n",
       "      <td>0</td>\n",
       "      <td>0</td>\n",
       "      <td>0</td>\n",
       "      <td>0</td>\n",
       "      <td>0.00</td>\n",
       "    </tr>\n",
       "  </tbody>\n",
       "</table>\n",
       "<p>576 rows × 7 columns</p>\n",
       "</div>"
      ],
      "text/plain": [
       "           Oct-14   Nov-14   Dec-14  Jan-15  Feb-15  Mar-15         평균\n",
       "구분                                                                    \n",
       "관찰지역수          75       75      200      75      75      75      95.83\n",
       "합계         617312  1038700  1111763  974685  675607  839772  876306.50\n",
       "들꿩              0        0        0       0       0       0       0.00\n",
       "멧닭              0        0        0       0       0       0       0.00\n",
       "메추라기            4        9       18      10      11       5       9.50\n",
       "...           ...      ...      ...     ...     ...     ...        ...\n",
       "미동정 소형도요류       0        0        0       0       0       0       0.00\n",
       "미동정 중형도요류       0        0        0       0       0       0       0.00\n",
       "미동정 도요류         0        0        0       0       0       0       0.00\n",
       "미동정 갈매기류        0        0        0       0       0       0       0.00\n",
       "미동정 밭종다리류       0        0        0       0       0       0       0.00\n",
       "\n",
       "[576 rows x 7 columns]"
      ]
     },
     "execution_count": 123,
     "metadata": {},
     "output_type": "execute_result"
    }
   ],
   "source": [
    "wild_bird14"
   ]
  },
  {
   "cell_type": "code",
   "execution_count": 125,
   "metadata": {},
   "outputs": [],
   "source": [
    "df=pd.concat([wild_bird14,wild_bird15,wild_bird16,wild_bird17,wild_bird18,wild_bird19,wild_bird20], axis=1)"
   ]
  },
  {
   "cell_type": "code",
   "execution_count": 127,
   "metadata": {
    "scrolled": true
   },
   "outputs": [
    {
     "data": {
      "text/html": [
       "<div>\n",
       "<style scoped>\n",
       "    .dataframe tbody tr th:only-of-type {\n",
       "        vertical-align: middle;\n",
       "    }\n",
       "\n",
       "    .dataframe tbody tr th {\n",
       "        vertical-align: top;\n",
       "    }\n",
       "\n",
       "    .dataframe thead th {\n",
       "        text-align: right;\n",
       "    }\n",
       "</style>\n",
       "<table border=\"1\" class=\"dataframe\">\n",
       "  <thead>\n",
       "    <tr style=\"text-align: right;\">\n",
       "      <th></th>\n",
       "      <th>Oct-14</th>\n",
       "      <th>Nov-14</th>\n",
       "      <th>Dec-14</th>\n",
       "      <th>Jan-15</th>\n",
       "      <th>Feb-15</th>\n",
       "      <th>Mar-15</th>\n",
       "      <th>평균</th>\n",
       "      <th>Oct-15</th>\n",
       "      <th>Nov-15</th>\n",
       "      <th>Dec-15</th>\n",
       "      <th>...</th>\n",
       "      <th>Feb-20</th>\n",
       "      <th>Mar-20</th>\n",
       "      <th>평균</th>\n",
       "      <th>Oct-20</th>\n",
       "      <th>Nov-20</th>\n",
       "      <th>Dec-20</th>\n",
       "      <th>Jan-21</th>\n",
       "      <th>Feb-21</th>\n",
       "      <th>Mar-21</th>\n",
       "      <th>평균</th>\n",
       "    </tr>\n",
       "  </thead>\n",
       "  <tbody>\n",
       "    <tr>\n",
       "      <th>관찰지역수</th>\n",
       "      <td>75.0</td>\n",
       "      <td>75.0</td>\n",
       "      <td>200.0</td>\n",
       "      <td>75.0</td>\n",
       "      <td>75.0</td>\n",
       "      <td>75.0</td>\n",
       "      <td>95.83</td>\n",
       "      <td>75.0</td>\n",
       "      <td>75.0</td>\n",
       "      <td>200.0</td>\n",
       "      <td>...</td>\n",
       "      <td>80.0</td>\n",
       "      <td>80.0</td>\n",
       "      <td>120.00</td>\n",
       "      <td>80.0</td>\n",
       "      <td>112.0</td>\n",
       "      <td>206.0</td>\n",
       "      <td>206.0</td>\n",
       "      <td>111.0</td>\n",
       "      <td>111.0</td>\n",
       "      <td>137.67</td>\n",
       "    </tr>\n",
       "    <tr>\n",
       "      <th>합계</th>\n",
       "      <td>617312.0</td>\n",
       "      <td>1038700.0</td>\n",
       "      <td>1111763.0</td>\n",
       "      <td>974685.0</td>\n",
       "      <td>675607.0</td>\n",
       "      <td>839772.0</td>\n",
       "      <td>876306.50</td>\n",
       "      <td>483382.0</td>\n",
       "      <td>778868.0</td>\n",
       "      <td>1764969.0</td>\n",
       "      <td>...</td>\n",
       "      <td>923296.0</td>\n",
       "      <td>380384.0</td>\n",
       "      <td>1011191.33</td>\n",
       "      <td>575277.0</td>\n",
       "      <td>944700.0</td>\n",
       "      <td>1571494.0</td>\n",
       "      <td>1478060.0</td>\n",
       "      <td>858236.0</td>\n",
       "      <td>472276.0</td>\n",
       "      <td>983340.50</td>\n",
       "    </tr>\n",
       "    <tr>\n",
       "      <th>들꿩</th>\n",
       "      <td>0.0</td>\n",
       "      <td>0.0</td>\n",
       "      <td>0.0</td>\n",
       "      <td>0.0</td>\n",
       "      <td>0.0</td>\n",
       "      <td>0.0</td>\n",
       "      <td>0.00</td>\n",
       "      <td>0.0</td>\n",
       "      <td>0.0</td>\n",
       "      <td>0.0</td>\n",
       "      <td>...</td>\n",
       "      <td>0.0</td>\n",
       "      <td>0.0</td>\n",
       "      <td>0.83</td>\n",
       "      <td>0.0</td>\n",
       "      <td>0.0</td>\n",
       "      <td>3.0</td>\n",
       "      <td>1.0</td>\n",
       "      <td>2.0</td>\n",
       "      <td>4.0</td>\n",
       "      <td>1.67</td>\n",
       "    </tr>\n",
       "    <tr>\n",
       "      <th>멧닭</th>\n",
       "      <td>0.0</td>\n",
       "      <td>0.0</td>\n",
       "      <td>0.0</td>\n",
       "      <td>0.0</td>\n",
       "      <td>0.0</td>\n",
       "      <td>0.0</td>\n",
       "      <td>0.00</td>\n",
       "      <td>0.0</td>\n",
       "      <td>0.0</td>\n",
       "      <td>0.0</td>\n",
       "      <td>...</td>\n",
       "      <td>0.0</td>\n",
       "      <td>0.0</td>\n",
       "      <td>0.00</td>\n",
       "      <td>0.0</td>\n",
       "      <td>0.0</td>\n",
       "      <td>0.0</td>\n",
       "      <td>0.0</td>\n",
       "      <td>0.0</td>\n",
       "      <td>0.0</td>\n",
       "      <td>0.00</td>\n",
       "    </tr>\n",
       "    <tr>\n",
       "      <th>메추라기</th>\n",
       "      <td>4.0</td>\n",
       "      <td>9.0</td>\n",
       "      <td>18.0</td>\n",
       "      <td>10.0</td>\n",
       "      <td>11.0</td>\n",
       "      <td>5.0</td>\n",
       "      <td>9.50</td>\n",
       "      <td>2.0</td>\n",
       "      <td>9.0</td>\n",
       "      <td>10.0</td>\n",
       "      <td>...</td>\n",
       "      <td>0.0</td>\n",
       "      <td>0.0</td>\n",
       "      <td>4.33</td>\n",
       "      <td>0.0</td>\n",
       "      <td>2.0</td>\n",
       "      <td>2.0</td>\n",
       "      <td>4.0</td>\n",
       "      <td>3.0</td>\n",
       "      <td>3.0</td>\n",
       "      <td>2.33</td>\n",
       "    </tr>\n",
       "  </tbody>\n",
       "</table>\n",
       "<p>5 rows × 49 columns</p>\n",
       "</div>"
      ],
      "text/plain": [
       "         Oct-14     Nov-14     Dec-14    Jan-15    Feb-15    Mar-15  \\\n",
       "관찰지역수      75.0       75.0      200.0      75.0      75.0      75.0   \n",
       "합계     617312.0  1038700.0  1111763.0  974685.0  675607.0  839772.0   \n",
       "들꿩          0.0        0.0        0.0       0.0       0.0       0.0   \n",
       "멧닭          0.0        0.0        0.0       0.0       0.0       0.0   \n",
       "메추라기        4.0        9.0       18.0      10.0      11.0       5.0   \n",
       "\n",
       "              평균    Oct-15    Nov-15     Dec-15  ...    Feb-20    Mar-20  \\\n",
       "관찰지역수      95.83      75.0      75.0      200.0  ...      80.0      80.0   \n",
       "합계     876306.50  483382.0  778868.0  1764969.0  ...  923296.0  380384.0   \n",
       "들꿩          0.00       0.0       0.0        0.0  ...       0.0       0.0   \n",
       "멧닭          0.00       0.0       0.0        0.0  ...       0.0       0.0   \n",
       "메추라기        9.50       2.0       9.0       10.0  ...       0.0       0.0   \n",
       "\n",
       "               평균    Oct-20    Nov-20     Dec-20     Jan-21    Feb-21  \\\n",
       "관찰지역수      120.00      80.0     112.0      206.0      206.0     111.0   \n",
       "합계     1011191.33  575277.0  944700.0  1571494.0  1478060.0  858236.0   \n",
       "들꿩           0.83       0.0       0.0        3.0        1.0       2.0   \n",
       "멧닭           0.00       0.0       0.0        0.0        0.0       0.0   \n",
       "메추라기         4.33       0.0       2.0        2.0        4.0       3.0   \n",
       "\n",
       "         Mar-21         평균  \n",
       "관찰지역수     111.0     137.67  \n",
       "합계     472276.0  983340.50  \n",
       "들꿩          4.0       1.67  \n",
       "멧닭          0.0       0.00  \n",
       "메추라기        3.0       2.33  \n",
       "\n",
       "[5 rows x 49 columns]"
      ]
     },
     "execution_count": 127,
     "metadata": {},
     "output_type": "execute_result"
    }
   ],
   "source": [
    "df.head()"
   ]
  },
  {
   "cell_type": "code",
   "execution_count": 128,
   "metadata": {},
   "outputs": [
    {
     "name": "stdout",
     "output_type": "stream",
     "text": [
      "<class 'pandas.core.frame.DataFrame'>\n",
      "Index: 577 entries, 관찰지역수 to nan\n",
      "Data columns (total 49 columns):\n",
      " #   Column  Non-Null Count  Dtype  \n",
      "---  ------  --------------  -----  \n",
      " 0   Oct-14  576 non-null    float64\n",
      " 1   Nov-14  576 non-null    float64\n",
      " 2   Dec-14  576 non-null    float64\n",
      " 3   Jan-15  576 non-null    float64\n",
      " 4   Feb-15  576 non-null    float64\n",
      " 5   Mar-15  576 non-null    float64\n",
      " 6   평균      576 non-null    float64\n",
      " 7   Oct-15  576 non-null    float64\n",
      " 8   Nov-15  576 non-null    float64\n",
      " 9   Dec-15  576 non-null    float64\n",
      " 10  Jan-16  576 non-null    float64\n",
      " 11  Feb-16  576 non-null    float64\n",
      " 12  Mar-16  576 non-null    float64\n",
      " 13  평균      576 non-null    float64\n",
      " 14  Oct-16  576 non-null    float64\n",
      " 15  Nov-16  576 non-null    float64\n",
      " 16  Dec-16  576 non-null    float64\n",
      " 17  Jan-17  576 non-null    float64\n",
      " 18  Feb-17  576 non-null    float64\n",
      " 19  Mar-17  576 non-null    float64\n",
      " 20  평균      576 non-null    float64\n",
      " 21  Oct-17  576 non-null    float64\n",
      " 22  Nov-17  576 non-null    float64\n",
      " 23  Dec-17  576 non-null    float64\n",
      " 24  Jan-18  576 non-null    float64\n",
      " 25  Feb-18  576 non-null    float64\n",
      " 26  Mar-18  576 non-null    float64\n",
      " 27  평균      576 non-null    float64\n",
      " 28  Oct-18  576 non-null    float64\n",
      " 29  Nov-18  576 non-null    float64\n",
      " 30  Dec-18  576 non-null    float64\n",
      " 31  Jan-19  576 non-null    float64\n",
      " 32  Feb-19  576 non-null    float64\n",
      " 33  Mar-19  576 non-null    float64\n",
      " 34  평균      576 non-null    float64\n",
      " 35  Oct-19  576 non-null    float64\n",
      " 36  Nov-19  576 non-null    float64\n",
      " 37  Dec-19  576 non-null    float64\n",
      " 38  Jan-20  576 non-null    float64\n",
      " 39  Feb-20  576 non-null    float64\n",
      " 40  Mar-20  576 non-null    float64\n",
      " 41  평균      576 non-null    float64\n",
      " 42  Oct-20  576 non-null    float64\n",
      " 43  Nov-20  576 non-null    float64\n",
      " 44  Dec-20  576 non-null    float64\n",
      " 45  Jan-21  576 non-null    float64\n",
      " 46  Feb-21  576 non-null    float64\n",
      " 47  Mar-21  576 non-null    float64\n",
      " 48  평균      576 non-null    float64\n",
      "dtypes: float64(49)\n",
      "memory usage: 225.4+ KB\n"
     ]
    }
   ],
   "source": [
    "df.info()"
   ]
  },
  {
   "cell_type": "code",
   "execution_count": 130,
   "metadata": {},
   "outputs": [
    {
     "data": {
      "text/plain": [
       "Oct-14     617312.00\n",
       "Nov-14    1038700.00\n",
       "Dec-14    1111763.00\n",
       "Jan-15     974685.00\n",
       "Feb-15     675607.00\n",
       "Mar-15     839772.00\n",
       "평균         876306.50\n",
       "Oct-15     483382.00\n",
       "Nov-15     778868.00\n",
       "Dec-15    1764969.00\n",
       "Jan-16    1568527.00\n",
       "Feb-16     875838.00\n",
       "Mar-16     438506.00\n",
       "평균         985015.00\n",
       "Oct-16     500205.00\n",
       "Nov-16     905642.00\n",
       "Dec-16    1188443.00\n",
       "Jan-17    1320000.00\n",
       "Feb-17     890509.00\n",
       "Mar-17     413302.00\n",
       "평균         869683.50\n",
       "Oct-17     382817.00\n",
       "Nov-17     607613.00\n",
       "Dec-17    1069951.00\n",
       "Jan-18    1432843.00\n",
       "Feb-18     968497.00\n",
       "Mar-18     414952.00\n",
       "평균         812778.83\n",
       "Oct-18     454906.00\n",
       "Nov-18     757778.00\n",
       "Dec-18    1320063.00\n",
       "Jan-19    1469859.00\n",
       "Feb-19     713814.00\n",
       "Mar-19     368329.00\n",
       "평균         847458.17\n",
       "Oct-19     611490.00\n",
       "Nov-19     705740.00\n",
       "Dec-19    1817155.00\n",
       "Jan-20    1629083.00\n",
       "Feb-20     923296.00\n",
       "Mar-20     380384.00\n",
       "평균        1011191.33\n",
       "Oct-20     575277.00\n",
       "Nov-20     944700.00\n",
       "Dec-20    1571494.00\n",
       "Jan-21    1478060.00\n",
       "Feb-21     858236.00\n",
       "Mar-21     472276.00\n",
       "평균         983340.50\n",
       "Name: 합계, dtype: float64"
      ]
     },
     "execution_count": 130,
     "metadata": {},
     "output_type": "execute_result"
    }
   ],
   "source": [
    "df_total=df.iloc[1,:]\n",
    "df_total"
   ]
  },
  {
   "cell_type": "code",
   "execution_count": 142,
   "metadata": {},
   "outputs": [],
   "source": [
    "df_total.cloumns=['합계']"
   ]
  },
  {
   "cell_type": "code",
   "execution_count": 143,
   "metadata": {},
   "outputs": [
    {
     "data": {
      "text/plain": [
       "Index(['Oct-14', 'Nov-14', 'Dec-14', 'Jan-15', 'Feb-15', 'Mar-15', '평균',\n",
       "       'Oct-15', 'Nov-15', 'Dec-15', 'Jan-16', 'Feb-16', 'Mar-16', '평균',\n",
       "       'Oct-16', 'Nov-16', 'Dec-16', 'Jan-17', 'Feb-17', 'Mar-17', '평균',\n",
       "       'Oct-17', 'Nov-17', 'Dec-17', 'Jan-18', 'Feb-18', 'Mar-18', '평균',\n",
       "       'Oct-18', 'Nov-18', 'Dec-18', 'Jan-19', 'Feb-19', 'Mar-19', '평균',\n",
       "       'Oct-19', 'Nov-19', 'Dec-19', 'Jan-20', 'Feb-20', 'Mar-20', '평균',\n",
       "       'Oct-20', 'Nov-20', 'Dec-20', 'Jan-21', 'Feb-21', 'Mar-21', '평균'],\n",
       "      dtype='object', name='월-년도')"
      ]
     },
     "execution_count": 143,
     "metadata": {},
     "output_type": "execute_result"
    }
   ],
   "source": [
    "df_total.index.name='월-년도'\n",
    "df_total.index"
   ]
  },
  {
   "cell_type": "code",
   "execution_count": 144,
   "metadata": {},
   "outputs": [
    {
     "data": {
      "text/plain": [
       "월-년도\n",
       "Oct-14     617312.00\n",
       "Nov-14    1038700.00\n",
       "Dec-14    1111763.00\n",
       "Jan-15     974685.00\n",
       "Feb-15     675607.00\n",
       "Mar-15     839772.00\n",
       "평균         876306.50\n",
       "Oct-15     483382.00\n",
       "Nov-15     778868.00\n",
       "Dec-15    1764969.00\n",
       "Jan-16    1568527.00\n",
       "Feb-16     875838.00\n",
       "Mar-16     438506.00\n",
       "평균         985015.00\n",
       "Oct-16     500205.00\n",
       "Nov-16     905642.00\n",
       "Dec-16    1188443.00\n",
       "Jan-17    1320000.00\n",
       "Feb-17     890509.00\n",
       "Mar-17     413302.00\n",
       "평균         869683.50\n",
       "Oct-17     382817.00\n",
       "Nov-17     607613.00\n",
       "Dec-17    1069951.00\n",
       "Jan-18    1432843.00\n",
       "Feb-18     968497.00\n",
       "Mar-18     414952.00\n",
       "평균         812778.83\n",
       "Oct-18     454906.00\n",
       "Nov-18     757778.00\n",
       "Dec-18    1320063.00\n",
       "Jan-19    1469859.00\n",
       "Feb-19     713814.00\n",
       "Mar-19     368329.00\n",
       "평균         847458.17\n",
       "Oct-19     611490.00\n",
       "Nov-19     705740.00\n",
       "Dec-19    1817155.00\n",
       "Jan-20    1629083.00\n",
       "Feb-20     923296.00\n",
       "Mar-20     380384.00\n",
       "평균        1011191.33\n",
       "Oct-20     575277.00\n",
       "Nov-20     944700.00\n",
       "Dec-20    1571494.00\n",
       "Jan-21    1478060.00\n",
       "Feb-21     858236.00\n",
       "Mar-21     472276.00\n",
       "평균         983340.50\n",
       "Name: 합계, dtype: float64"
      ]
     },
     "execution_count": 144,
     "metadata": {},
     "output_type": "execute_result"
    }
   ],
   "source": [
    "df_total"
   ]
  },
  {
   "cell_type": "code",
   "execution_count": 158,
   "metadata": {},
   "outputs": [
    {
     "data": {
      "text/plain": [
       "year  month\n",
       "2003  12        19\n",
       "2004  1          3\n",
       "      2          1\n",
       "      3          2\n",
       "2006  11         3\n",
       "      12         3\n",
       "2007  1          2\n",
       "      2          1\n",
       "      3          1\n",
       "2008  4         23\n",
       "      5         22\n",
       "2010  12         3\n",
       "2011  1         38\n",
       "      2          8\n",
       "      3          3\n",
       "      4          1\n",
       "      5          1\n",
       "2014  1         58\n",
       "      10        17\n",
       "      11         7\n",
       "      12         7\n",
       "      2        101\n",
       "      3         53\n",
       "      4         12\n",
       "      5          4\n",
       "      6          6\n",
       "      7          4\n",
       "      9         11\n",
       "2015  1         38\n",
       "      10         7\n",
       "      11         3\n",
       "      2         35\n",
       "      3         29\n",
       "      4         14\n",
       "      5          6\n",
       "      6          2\n",
       "      9          7\n",
       "2016  11        66\n",
       "      12       247\n",
       "      3          1\n",
       "      4          1\n",
       "2017  1         29\n",
       "      11         1\n",
       "      12         7\n",
       "      2         13\n",
       "      3         29\n",
       "      4          2\n",
       "      6         36\n",
       "2018  1          8\n",
       "      2          2\n",
       "      3          4\n",
       "2020  11         2\n",
       "      12        41\n",
       "2021  1         50\n",
       "      2         20\n",
       "      3          6\n",
       "      4          2\n",
       "Name: 발생일, dtype: int64"
      ]
     },
     "execution_count": 158,
     "metadata": {},
     "output_type": "execute_result"
    }
   ],
   "source": [
    "AI_occur_year_month=AI_occur.groupby(['year', 'month'])['발생일'].count()\n",
    "AI_occur_year_month"
   ]
  },
  {
   "cell_type": "code",
   "execution_count": 160,
   "metadata": {},
   "outputs": [
    {
     "ename": "AttributeError",
     "evalue": "'DataFrame' object has no attribute 'to_frame'",
     "output_type": "error",
     "traceback": [
      "\u001b[1;31m---------------------------------------------------------------------------\u001b[0m",
      "\u001b[1;31mAttributeError\u001b[0m                            Traceback (most recent call last)",
      "\u001b[1;32m<ipython-input-160-086d7cbae6d2>\u001b[0m in \u001b[0;36m<module>\u001b[1;34m\u001b[0m\n\u001b[1;32m----> 1\u001b[1;33m \u001b[0mAI_occur_year_month_df\u001b[0m\u001b[1;33m=\u001b[0m\u001b[0mAI_occur_year\u001b[0m\u001b[1;33m.\u001b[0m\u001b[0mto_frame\u001b[0m\u001b[1;33m(\u001b[0m\u001b[1;33m)\u001b[0m\u001b[1;33m\u001b[0m\u001b[1;33m\u001b[0m\u001b[0m\n\u001b[0m",
      "\u001b[1;32mC:\\ProgramData\\Anaconda3\\lib\\site-packages\\pandas\\core\\generic.py\u001b[0m in \u001b[0;36m__getattr__\u001b[1;34m(self, name)\u001b[0m\n\u001b[0;32m   5137\u001b[0m             \u001b[1;32mif\u001b[0m \u001b[0mself\u001b[0m\u001b[1;33m.\u001b[0m\u001b[0m_info_axis\u001b[0m\u001b[1;33m.\u001b[0m\u001b[0m_can_hold_identifiers_and_holds_name\u001b[0m\u001b[1;33m(\u001b[0m\u001b[0mname\u001b[0m\u001b[1;33m)\u001b[0m\u001b[1;33m:\u001b[0m\u001b[1;33m\u001b[0m\u001b[1;33m\u001b[0m\u001b[0m\n\u001b[0;32m   5138\u001b[0m                 \u001b[1;32mreturn\u001b[0m \u001b[0mself\u001b[0m\u001b[1;33m[\u001b[0m\u001b[0mname\u001b[0m\u001b[1;33m]\u001b[0m\u001b[1;33m\u001b[0m\u001b[1;33m\u001b[0m\u001b[0m\n\u001b[1;32m-> 5139\u001b[1;33m             \u001b[1;32mreturn\u001b[0m \u001b[0mobject\u001b[0m\u001b[1;33m.\u001b[0m\u001b[0m__getattribute__\u001b[0m\u001b[1;33m(\u001b[0m\u001b[0mself\u001b[0m\u001b[1;33m,\u001b[0m \u001b[0mname\u001b[0m\u001b[1;33m)\u001b[0m\u001b[1;33m\u001b[0m\u001b[1;33m\u001b[0m\u001b[0m\n\u001b[0m\u001b[0;32m   5140\u001b[0m \u001b[1;33m\u001b[0m\u001b[0m\n\u001b[0;32m   5141\u001b[0m     \u001b[1;32mdef\u001b[0m \u001b[0m__setattr__\u001b[0m\u001b[1;33m(\u001b[0m\u001b[0mself\u001b[0m\u001b[1;33m,\u001b[0m \u001b[0mname\u001b[0m\u001b[1;33m:\u001b[0m \u001b[0mstr\u001b[0m\u001b[1;33m,\u001b[0m \u001b[0mvalue\u001b[0m\u001b[1;33m)\u001b[0m \u001b[1;33m->\u001b[0m \u001b[1;32mNone\u001b[0m\u001b[1;33m:\u001b[0m\u001b[1;33m\u001b[0m\u001b[1;33m\u001b[0m\u001b[0m\n",
      "\u001b[1;31mAttributeError\u001b[0m: 'DataFrame' object has no attribute 'to_frame'"
     ]
    }
   ],
   "source": [
    "AI_occur_year_month_df=AI_occur_year.to_frame()"
   ]
  },
  {
   "cell_type": "code",
   "execution_count": null,
   "metadata": {},
   "outputs": [],
   "source": []
  }
 ],
 "metadata": {
  "kernelspec": {
   "display_name": "Python 3",
   "language": "python",
   "name": "python3"
  },
  "language_info": {
   "codemirror_mode": {
    "name": "ipython",
    "version": 3
   },
   "file_extension": ".py",
   "mimetype": "text/x-python",
   "name": "python",
   "nbconvert_exporter": "python",
   "pygments_lexer": "ipython3",
   "version": "3.8.5"
  }
 },
 "nbformat": 4,
 "nbformat_minor": 4
}
