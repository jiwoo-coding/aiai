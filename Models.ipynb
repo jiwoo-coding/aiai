{
 "cells": [
  {
   "cell_type": "code",
   "execution_count": 1,
   "id": "a3688660",
   "metadata": {},
   "outputs": [],
   "source": [
    "import pandas as pd\n",
    "import numpy as np\n",
    "import datetime \n",
    "from dateutil.relativedelta import relativedelta\n",
    "from tqdm import tqdm\n",
    "from scipy import stats"
   ]
  },
  {
   "cell_type": "code",
   "execution_count": 2,
   "id": "df011242",
   "metadata": {},
   "outputs": [],
   "source": [
    "total_df=pd.read_csv(\"risk_data/Train_data_set.csv\", encoding='utf-8-sig')"
   ]
  },
  {
   "cell_type": "code",
   "execution_count": 3,
   "id": "3163f881",
   "metadata": {},
   "outputs": [
    {
     "data": {
      "text/html": [
       "<div>\n",
       "<style scoped>\n",
       "    .dataframe tbody tr th:only-of-type {\n",
       "        vertical-align: middle;\n",
       "    }\n",
       "\n",
       "    .dataframe tbody tr th {\n",
       "        vertical-align: top;\n",
       "    }\n",
       "\n",
       "    .dataframe thead th {\n",
       "        text-align: right;\n",
       "    }\n",
       "</style>\n",
       "<table border=\"1\" class=\"dataframe\">\n",
       "  <thead>\n",
       "    <tr style=\"text-align: right;\">\n",
       "      <th></th>\n",
       "      <th>month</th>\n",
       "      <th>day</th>\n",
       "      <th>시군구index</th>\n",
       "      <th>철새수</th>\n",
       "      <th>최초발생거리</th>\n",
       "      <th>평균온도</th>\n",
       "      <th>일강수량</th>\n",
       "      <th>위험도</th>\n",
       "    </tr>\n",
       "  </thead>\n",
       "  <tbody>\n",
       "    <tr>\n",
       "      <th>0</th>\n",
       "      <td>1</td>\n",
       "      <td>1</td>\n",
       "      <td>0</td>\n",
       "      <td>126690</td>\n",
       "      <td>0</td>\n",
       "      <td>-1.8</td>\n",
       "      <td>0.0</td>\n",
       "      <td>7.7</td>\n",
       "    </tr>\n",
       "    <tr>\n",
       "      <th>1</th>\n",
       "      <td>1</td>\n",
       "      <td>1</td>\n",
       "      <td>0</td>\n",
       "      <td>126690</td>\n",
       "      <td>10</td>\n",
       "      <td>-1.8</td>\n",
       "      <td>0.0</td>\n",
       "      <td>7.7</td>\n",
       "    </tr>\n",
       "    <tr>\n",
       "      <th>2</th>\n",
       "      <td>1</td>\n",
       "      <td>1</td>\n",
       "      <td>0</td>\n",
       "      <td>126690</td>\n",
       "      <td>20</td>\n",
       "      <td>-1.8</td>\n",
       "      <td>0.0</td>\n",
       "      <td>7.7</td>\n",
       "    </tr>\n",
       "    <tr>\n",
       "      <th>3</th>\n",
       "      <td>1</td>\n",
       "      <td>1</td>\n",
       "      <td>0</td>\n",
       "      <td>126690</td>\n",
       "      <td>30</td>\n",
       "      <td>-1.8</td>\n",
       "      <td>0.0</td>\n",
       "      <td>7.7</td>\n",
       "    </tr>\n",
       "    <tr>\n",
       "      <th>4</th>\n",
       "      <td>1</td>\n",
       "      <td>1</td>\n",
       "      <td>0</td>\n",
       "      <td>126690</td>\n",
       "      <td>40</td>\n",
       "      <td>-1.8</td>\n",
       "      <td>0.0</td>\n",
       "      <td>7.7</td>\n",
       "    </tr>\n",
       "  </tbody>\n",
       "</table>\n",
       "</div>"
      ],
      "text/plain": [
       "   month  day  시군구index     철새수  최초발생거리  평균온도  일강수량  위험도\n",
       "0      1    1         0  126690       0  -1.8   0.0  7.7\n",
       "1      1    1         0  126690      10  -1.8   0.0  7.7\n",
       "2      1    1         0  126690      20  -1.8   0.0  7.7\n",
       "3      1    1         0  126690      30  -1.8   0.0  7.7\n",
       "4      1    1         0  126690      40  -1.8   0.0  7.7"
      ]
     },
     "execution_count": 3,
     "metadata": {},
     "output_type": "execute_result"
    }
   ],
   "source": [
    "total_df.head()"
   ]
  },
  {
   "cell_type": "markdown",
   "id": "33a7233d",
   "metadata": {},
   "source": [
    "### pycaret을 이용하여 머신러닝 모델 선정\n",
    "    1. Data가 커서 최적 모델 선정에 있어 많은 시간이 걸려 보류"
   ]
  },
  {
   "cell_type": "code",
   "execution_count": 6,
   "id": "dea7fa44",
   "metadata": {},
   "outputs": [],
   "source": [
    "from pycaret.classification import *\n",
    "from time import time"
   ]
  },
  {
   "cell_type": "code",
   "execution_count": 7,
   "id": "eaff69f7",
   "metadata": {},
   "outputs": [],
   "source": [
    "total_df['위험도']=total_df['위험도'].astype('str')"
   ]
  },
  {
   "cell_type": "code",
   "execution_count": 8,
   "id": "745b4286",
   "metadata": {
    "scrolled": false
   },
   "outputs": [
    {
     "data": {
      "text/html": [
       "<style type=\"text/css\">\n",
       "#T_f45d7_row44_col1 {\n",
       "  background-color: lightgreen;\n",
       "}\n",
       "</style>\n",
       "<table id=\"T_f45d7_\">\n",
       "  <thead>\n",
       "    <tr>\n",
       "      <th class=\"blank level0\" >&nbsp;</th>\n",
       "      <th class=\"col_heading level0 col0\" >Description</th>\n",
       "      <th class=\"col_heading level0 col1\" >Value</th>\n",
       "    </tr>\n",
       "  </thead>\n",
       "  <tbody>\n",
       "    <tr>\n",
       "      <th id=\"T_f45d7_level0_row0\" class=\"row_heading level0 row0\" >0</th>\n",
       "      <td id=\"T_f45d7_row0_col0\" class=\"data row0 col0\" >session_id</td>\n",
       "      <td id=\"T_f45d7_row0_col1\" class=\"data row0 col1\" >1666</td>\n",
       "    </tr>\n",
       "    <tr>\n",
       "      <th id=\"T_f45d7_level0_row1\" class=\"row_heading level0 row1\" >1</th>\n",
       "      <td id=\"T_f45d7_row1_col0\" class=\"data row1 col0\" >Target</td>\n",
       "      <td id=\"T_f45d7_row1_col1\" class=\"data row1 col1\" >위험도</td>\n",
       "    </tr>\n",
       "    <tr>\n",
       "      <th id=\"T_f45d7_level0_row2\" class=\"row_heading level0 row2\" >2</th>\n",
       "      <td id=\"T_f45d7_row2_col0\" class=\"data row2 col0\" >Target Type</td>\n",
       "      <td id=\"T_f45d7_row2_col1\" class=\"data row2 col1\" >Multiclass</td>\n",
       "    </tr>\n",
       "    <tr>\n",
       "      <th id=\"T_f45d7_level0_row3\" class=\"row_heading level0 row3\" >3</th>\n",
       "      <td id=\"T_f45d7_row3_col0\" class=\"data row3 col0\" >Label Encoded</td>\n",
       "      <td id=\"T_f45d7_row3_col1\" class=\"data row3 col1\" >0.0: 0, 0.3: 1, 0.6: 2, 0.9: 3, 1.2: 4, 1.4: 5, 1.7: 6, 10.0: 7, 2.0: 8, 2.1: 9, 2.3: 10, 2.5: 11, 2.6: 12, 2.7: 13, 2.8: 14, 2.9: 15, 3.0: 16, 3.1: 17, 3.2: 18, 3.3: 19, 3.4: 20, 3.5: 21, 3.7: 22, 3.8: 23, 3.9: 24, 4.1: 25, 4.2: 26, 4.4: 27, 4.5: 28, 4.6: 29, 4.7: 30, 4.8: 31, 5.0: 32, 5.1: 33, 5.2: 34, 5.3: 35, 5.4: 36, 5.5: 37, 5.6: 38, 5.7: 39, 5.8: 40, 5.9: 41, 6.0: 42, 6.2: 43, 6.3: 44, 6.4: 45, 6.6: 46, 6.7: 47, 6.9: 48, 7.0: 49, 7.1: 50, 7.2: 51, 7.3: 52, 7.5: 53, 7.6: 54, 7.7: 55, 7.9: 56, 8.0: 57, 8.2: 58, 8.3: 59, 8.5: 60, 8.8: 61, 9.1: 62, 9.4: 63, 9.7: 64</td>\n",
       "    </tr>\n",
       "    <tr>\n",
       "      <th id=\"T_f45d7_level0_row4\" class=\"row_heading level0 row4\" >4</th>\n",
       "      <td id=\"T_f45d7_row4_col0\" class=\"data row4 col0\" >Original Data</td>\n",
       "      <td id=\"T_f45d7_row4_col1\" class=\"data row4 col1\" >(2448189, 8)</td>\n",
       "    </tr>\n",
       "    <tr>\n",
       "      <th id=\"T_f45d7_level0_row5\" class=\"row_heading level0 row5\" >5</th>\n",
       "      <td id=\"T_f45d7_row5_col0\" class=\"data row5 col0\" >Missing Values</td>\n",
       "      <td id=\"T_f45d7_row5_col1\" class=\"data row5 col1\" >False</td>\n",
       "    </tr>\n",
       "    <tr>\n",
       "      <th id=\"T_f45d7_level0_row6\" class=\"row_heading level0 row6\" >6</th>\n",
       "      <td id=\"T_f45d7_row6_col0\" class=\"data row6 col0\" >Numeric Features</td>\n",
       "      <td id=\"T_f45d7_row6_col1\" class=\"data row6 col1\" >6</td>\n",
       "    </tr>\n",
       "    <tr>\n",
       "      <th id=\"T_f45d7_level0_row7\" class=\"row_heading level0 row7\" >7</th>\n",
       "      <td id=\"T_f45d7_row7_col0\" class=\"data row7 col0\" >Categorical Features</td>\n",
       "      <td id=\"T_f45d7_row7_col1\" class=\"data row7 col1\" >1</td>\n",
       "    </tr>\n",
       "    <tr>\n",
       "      <th id=\"T_f45d7_level0_row8\" class=\"row_heading level0 row8\" >8</th>\n",
       "      <td id=\"T_f45d7_row8_col0\" class=\"data row8 col0\" >Ordinal Features</td>\n",
       "      <td id=\"T_f45d7_row8_col1\" class=\"data row8 col1\" >False</td>\n",
       "    </tr>\n",
       "    <tr>\n",
       "      <th id=\"T_f45d7_level0_row9\" class=\"row_heading level0 row9\" >9</th>\n",
       "      <td id=\"T_f45d7_row9_col0\" class=\"data row9 col0\" >High Cardinality Features</td>\n",
       "      <td id=\"T_f45d7_row9_col1\" class=\"data row9 col1\" >False</td>\n",
       "    </tr>\n",
       "    <tr>\n",
       "      <th id=\"T_f45d7_level0_row10\" class=\"row_heading level0 row10\" >10</th>\n",
       "      <td id=\"T_f45d7_row10_col0\" class=\"data row10 col0\" >High Cardinality Method</td>\n",
       "      <td id=\"T_f45d7_row10_col1\" class=\"data row10 col1\" >None</td>\n",
       "    </tr>\n",
       "    <tr>\n",
       "      <th id=\"T_f45d7_level0_row11\" class=\"row_heading level0 row11\" >11</th>\n",
       "      <td id=\"T_f45d7_row11_col0\" class=\"data row11 col0\" >Transformed Train Set</td>\n",
       "      <td id=\"T_f45d7_row11_col1\" class=\"data row11 col1\" >(1713732, 18)</td>\n",
       "    </tr>\n",
       "    <tr>\n",
       "      <th id=\"T_f45d7_level0_row12\" class=\"row_heading level0 row12\" >12</th>\n",
       "      <td id=\"T_f45d7_row12_col0\" class=\"data row12 col0\" >Transformed Test Set</td>\n",
       "      <td id=\"T_f45d7_row12_col1\" class=\"data row12 col1\" >(734457, 18)</td>\n",
       "    </tr>\n",
       "    <tr>\n",
       "      <th id=\"T_f45d7_level0_row13\" class=\"row_heading level0 row13\" >13</th>\n",
       "      <td id=\"T_f45d7_row13_col0\" class=\"data row13 col0\" >Shuffle Train-Test</td>\n",
       "      <td id=\"T_f45d7_row13_col1\" class=\"data row13 col1\" >True</td>\n",
       "    </tr>\n",
       "    <tr>\n",
       "      <th id=\"T_f45d7_level0_row14\" class=\"row_heading level0 row14\" >14</th>\n",
       "      <td id=\"T_f45d7_row14_col0\" class=\"data row14 col0\" >Stratify Train-Test</td>\n",
       "      <td id=\"T_f45d7_row14_col1\" class=\"data row14 col1\" >False</td>\n",
       "    </tr>\n",
       "    <tr>\n",
       "      <th id=\"T_f45d7_level0_row15\" class=\"row_heading level0 row15\" >15</th>\n",
       "      <td id=\"T_f45d7_row15_col0\" class=\"data row15 col0\" >Fold Generator</td>\n",
       "      <td id=\"T_f45d7_row15_col1\" class=\"data row15 col1\" >StratifiedKFold</td>\n",
       "    </tr>\n",
       "    <tr>\n",
       "      <th id=\"T_f45d7_level0_row16\" class=\"row_heading level0 row16\" >16</th>\n",
       "      <td id=\"T_f45d7_row16_col0\" class=\"data row16 col0\" >Fold Number</td>\n",
       "      <td id=\"T_f45d7_row16_col1\" class=\"data row16 col1\" >10</td>\n",
       "    </tr>\n",
       "    <tr>\n",
       "      <th id=\"T_f45d7_level0_row17\" class=\"row_heading level0 row17\" >17</th>\n",
       "      <td id=\"T_f45d7_row17_col0\" class=\"data row17 col0\" >CPU Jobs</td>\n",
       "      <td id=\"T_f45d7_row17_col1\" class=\"data row17 col1\" >-1</td>\n",
       "    </tr>\n",
       "    <tr>\n",
       "      <th id=\"T_f45d7_level0_row18\" class=\"row_heading level0 row18\" >18</th>\n",
       "      <td id=\"T_f45d7_row18_col0\" class=\"data row18 col0\" >Use GPU</td>\n",
       "      <td id=\"T_f45d7_row18_col1\" class=\"data row18 col1\" >False</td>\n",
       "    </tr>\n",
       "    <tr>\n",
       "      <th id=\"T_f45d7_level0_row19\" class=\"row_heading level0 row19\" >19</th>\n",
       "      <td id=\"T_f45d7_row19_col0\" class=\"data row19 col0\" >Log Experiment</td>\n",
       "      <td id=\"T_f45d7_row19_col1\" class=\"data row19 col1\" >False</td>\n",
       "    </tr>\n",
       "    <tr>\n",
       "      <th id=\"T_f45d7_level0_row20\" class=\"row_heading level0 row20\" >20</th>\n",
       "      <td id=\"T_f45d7_row20_col0\" class=\"data row20 col0\" >Experiment Name</td>\n",
       "      <td id=\"T_f45d7_row20_col1\" class=\"data row20 col1\" >clf-default-name</td>\n",
       "    </tr>\n",
       "    <tr>\n",
       "      <th id=\"T_f45d7_level0_row21\" class=\"row_heading level0 row21\" >21</th>\n",
       "      <td id=\"T_f45d7_row21_col0\" class=\"data row21 col0\" >USI</td>\n",
       "      <td id=\"T_f45d7_row21_col1\" class=\"data row21 col1\" >6059</td>\n",
       "    </tr>\n",
       "    <tr>\n",
       "      <th id=\"T_f45d7_level0_row22\" class=\"row_heading level0 row22\" >22</th>\n",
       "      <td id=\"T_f45d7_row22_col0\" class=\"data row22 col0\" >Imputation Type</td>\n",
       "      <td id=\"T_f45d7_row22_col1\" class=\"data row22 col1\" >simple</td>\n",
       "    </tr>\n",
       "    <tr>\n",
       "      <th id=\"T_f45d7_level0_row23\" class=\"row_heading level0 row23\" >23</th>\n",
       "      <td id=\"T_f45d7_row23_col0\" class=\"data row23 col0\" >Iterative Imputation Iteration</td>\n",
       "      <td id=\"T_f45d7_row23_col1\" class=\"data row23 col1\" >None</td>\n",
       "    </tr>\n",
       "    <tr>\n",
       "      <th id=\"T_f45d7_level0_row24\" class=\"row_heading level0 row24\" >24</th>\n",
       "      <td id=\"T_f45d7_row24_col0\" class=\"data row24 col0\" >Numeric Imputer</td>\n",
       "      <td id=\"T_f45d7_row24_col1\" class=\"data row24 col1\" >mean</td>\n",
       "    </tr>\n",
       "    <tr>\n",
       "      <th id=\"T_f45d7_level0_row25\" class=\"row_heading level0 row25\" >25</th>\n",
       "      <td id=\"T_f45d7_row25_col0\" class=\"data row25 col0\" >Iterative Imputation Numeric Model</td>\n",
       "      <td id=\"T_f45d7_row25_col1\" class=\"data row25 col1\" >None</td>\n",
       "    </tr>\n",
       "    <tr>\n",
       "      <th id=\"T_f45d7_level0_row26\" class=\"row_heading level0 row26\" >26</th>\n",
       "      <td id=\"T_f45d7_row26_col0\" class=\"data row26 col0\" >Categorical Imputer</td>\n",
       "      <td id=\"T_f45d7_row26_col1\" class=\"data row26 col1\" >constant</td>\n",
       "    </tr>\n",
       "    <tr>\n",
       "      <th id=\"T_f45d7_level0_row27\" class=\"row_heading level0 row27\" >27</th>\n",
       "      <td id=\"T_f45d7_row27_col0\" class=\"data row27 col0\" >Iterative Imputation Categorical Model</td>\n",
       "      <td id=\"T_f45d7_row27_col1\" class=\"data row27 col1\" >None</td>\n",
       "    </tr>\n",
       "    <tr>\n",
       "      <th id=\"T_f45d7_level0_row28\" class=\"row_heading level0 row28\" >28</th>\n",
       "      <td id=\"T_f45d7_row28_col0\" class=\"data row28 col0\" >Unknown Categoricals Handling</td>\n",
       "      <td id=\"T_f45d7_row28_col1\" class=\"data row28 col1\" >least_frequent</td>\n",
       "    </tr>\n",
       "    <tr>\n",
       "      <th id=\"T_f45d7_level0_row29\" class=\"row_heading level0 row29\" >29</th>\n",
       "      <td id=\"T_f45d7_row29_col0\" class=\"data row29 col0\" >Normalize</td>\n",
       "      <td id=\"T_f45d7_row29_col1\" class=\"data row29 col1\" >False</td>\n",
       "    </tr>\n",
       "    <tr>\n",
       "      <th id=\"T_f45d7_level0_row30\" class=\"row_heading level0 row30\" >30</th>\n",
       "      <td id=\"T_f45d7_row30_col0\" class=\"data row30 col0\" >Normalize Method</td>\n",
       "      <td id=\"T_f45d7_row30_col1\" class=\"data row30 col1\" >None</td>\n",
       "    </tr>\n",
       "    <tr>\n",
       "      <th id=\"T_f45d7_level0_row31\" class=\"row_heading level0 row31\" >31</th>\n",
       "      <td id=\"T_f45d7_row31_col0\" class=\"data row31 col0\" >Transformation</td>\n",
       "      <td id=\"T_f45d7_row31_col1\" class=\"data row31 col1\" >False</td>\n",
       "    </tr>\n",
       "    <tr>\n",
       "      <th id=\"T_f45d7_level0_row32\" class=\"row_heading level0 row32\" >32</th>\n",
       "      <td id=\"T_f45d7_row32_col0\" class=\"data row32 col0\" >Transformation Method</td>\n",
       "      <td id=\"T_f45d7_row32_col1\" class=\"data row32 col1\" >None</td>\n",
       "    </tr>\n",
       "    <tr>\n",
       "      <th id=\"T_f45d7_level0_row33\" class=\"row_heading level0 row33\" >33</th>\n",
       "      <td id=\"T_f45d7_row33_col0\" class=\"data row33 col0\" >PCA</td>\n",
       "      <td id=\"T_f45d7_row33_col1\" class=\"data row33 col1\" >False</td>\n",
       "    </tr>\n",
       "    <tr>\n",
       "      <th id=\"T_f45d7_level0_row34\" class=\"row_heading level0 row34\" >34</th>\n",
       "      <td id=\"T_f45d7_row34_col0\" class=\"data row34 col0\" >PCA Method</td>\n",
       "      <td id=\"T_f45d7_row34_col1\" class=\"data row34 col1\" >None</td>\n",
       "    </tr>\n",
       "    <tr>\n",
       "      <th id=\"T_f45d7_level0_row35\" class=\"row_heading level0 row35\" >35</th>\n",
       "      <td id=\"T_f45d7_row35_col0\" class=\"data row35 col0\" >PCA Components</td>\n",
       "      <td id=\"T_f45d7_row35_col1\" class=\"data row35 col1\" >None</td>\n",
       "    </tr>\n",
       "    <tr>\n",
       "      <th id=\"T_f45d7_level0_row36\" class=\"row_heading level0 row36\" >36</th>\n",
       "      <td id=\"T_f45d7_row36_col0\" class=\"data row36 col0\" >Ignore Low Variance</td>\n",
       "      <td id=\"T_f45d7_row36_col1\" class=\"data row36 col1\" >False</td>\n",
       "    </tr>\n",
       "    <tr>\n",
       "      <th id=\"T_f45d7_level0_row37\" class=\"row_heading level0 row37\" >37</th>\n",
       "      <td id=\"T_f45d7_row37_col0\" class=\"data row37 col0\" >Combine Rare Levels</td>\n",
       "      <td id=\"T_f45d7_row37_col1\" class=\"data row37 col1\" >False</td>\n",
       "    </tr>\n",
       "    <tr>\n",
       "      <th id=\"T_f45d7_level0_row38\" class=\"row_heading level0 row38\" >38</th>\n",
       "      <td id=\"T_f45d7_row38_col0\" class=\"data row38 col0\" >Rare Level Threshold</td>\n",
       "      <td id=\"T_f45d7_row38_col1\" class=\"data row38 col1\" >None</td>\n",
       "    </tr>\n",
       "    <tr>\n",
       "      <th id=\"T_f45d7_level0_row39\" class=\"row_heading level0 row39\" >39</th>\n",
       "      <td id=\"T_f45d7_row39_col0\" class=\"data row39 col0\" >Numeric Binning</td>\n",
       "      <td id=\"T_f45d7_row39_col1\" class=\"data row39 col1\" >False</td>\n",
       "    </tr>\n",
       "    <tr>\n",
       "      <th id=\"T_f45d7_level0_row40\" class=\"row_heading level0 row40\" >40</th>\n",
       "      <td id=\"T_f45d7_row40_col0\" class=\"data row40 col0\" >Remove Outliers</td>\n",
       "      <td id=\"T_f45d7_row40_col1\" class=\"data row40 col1\" >False</td>\n",
       "    </tr>\n",
       "    <tr>\n",
       "      <th id=\"T_f45d7_level0_row41\" class=\"row_heading level0 row41\" >41</th>\n",
       "      <td id=\"T_f45d7_row41_col0\" class=\"data row41 col0\" >Outliers Threshold</td>\n",
       "      <td id=\"T_f45d7_row41_col1\" class=\"data row41 col1\" >None</td>\n",
       "    </tr>\n",
       "    <tr>\n",
       "      <th id=\"T_f45d7_level0_row42\" class=\"row_heading level0 row42\" >42</th>\n",
       "      <td id=\"T_f45d7_row42_col0\" class=\"data row42 col0\" >Remove Multicollinearity</td>\n",
       "      <td id=\"T_f45d7_row42_col1\" class=\"data row42 col1\" >False</td>\n",
       "    </tr>\n",
       "    <tr>\n",
       "      <th id=\"T_f45d7_level0_row43\" class=\"row_heading level0 row43\" >43</th>\n",
       "      <td id=\"T_f45d7_row43_col0\" class=\"data row43 col0\" >Multicollinearity Threshold</td>\n",
       "      <td id=\"T_f45d7_row43_col1\" class=\"data row43 col1\" >None</td>\n",
       "    </tr>\n",
       "    <tr>\n",
       "      <th id=\"T_f45d7_level0_row44\" class=\"row_heading level0 row44\" >44</th>\n",
       "      <td id=\"T_f45d7_row44_col0\" class=\"data row44 col0\" >Remove Perfect Collinearity</td>\n",
       "      <td id=\"T_f45d7_row44_col1\" class=\"data row44 col1\" >True</td>\n",
       "    </tr>\n",
       "    <tr>\n",
       "      <th id=\"T_f45d7_level0_row45\" class=\"row_heading level0 row45\" >45</th>\n",
       "      <td id=\"T_f45d7_row45_col0\" class=\"data row45 col0\" >Clustering</td>\n",
       "      <td id=\"T_f45d7_row45_col1\" class=\"data row45 col1\" >False</td>\n",
       "    </tr>\n",
       "    <tr>\n",
       "      <th id=\"T_f45d7_level0_row46\" class=\"row_heading level0 row46\" >46</th>\n",
       "      <td id=\"T_f45d7_row46_col0\" class=\"data row46 col0\" >Clustering Iteration</td>\n",
       "      <td id=\"T_f45d7_row46_col1\" class=\"data row46 col1\" >None</td>\n",
       "    </tr>\n",
       "    <tr>\n",
       "      <th id=\"T_f45d7_level0_row47\" class=\"row_heading level0 row47\" >47</th>\n",
       "      <td id=\"T_f45d7_row47_col0\" class=\"data row47 col0\" >Polynomial Features</td>\n",
       "      <td id=\"T_f45d7_row47_col1\" class=\"data row47 col1\" >False</td>\n",
       "    </tr>\n",
       "    <tr>\n",
       "      <th id=\"T_f45d7_level0_row48\" class=\"row_heading level0 row48\" >48</th>\n",
       "      <td id=\"T_f45d7_row48_col0\" class=\"data row48 col0\" >Polynomial Degree</td>\n",
       "      <td id=\"T_f45d7_row48_col1\" class=\"data row48 col1\" >None</td>\n",
       "    </tr>\n",
       "    <tr>\n",
       "      <th id=\"T_f45d7_level0_row49\" class=\"row_heading level0 row49\" >49</th>\n",
       "      <td id=\"T_f45d7_row49_col0\" class=\"data row49 col0\" >Trignometry Features</td>\n",
       "      <td id=\"T_f45d7_row49_col1\" class=\"data row49 col1\" >False</td>\n",
       "    </tr>\n",
       "    <tr>\n",
       "      <th id=\"T_f45d7_level0_row50\" class=\"row_heading level0 row50\" >50</th>\n",
       "      <td id=\"T_f45d7_row50_col0\" class=\"data row50 col0\" >Polynomial Threshold</td>\n",
       "      <td id=\"T_f45d7_row50_col1\" class=\"data row50 col1\" >None</td>\n",
       "    </tr>\n",
       "    <tr>\n",
       "      <th id=\"T_f45d7_level0_row51\" class=\"row_heading level0 row51\" >51</th>\n",
       "      <td id=\"T_f45d7_row51_col0\" class=\"data row51 col0\" >Group Features</td>\n",
       "      <td id=\"T_f45d7_row51_col1\" class=\"data row51 col1\" >False</td>\n",
       "    </tr>\n",
       "    <tr>\n",
       "      <th id=\"T_f45d7_level0_row52\" class=\"row_heading level0 row52\" >52</th>\n",
       "      <td id=\"T_f45d7_row52_col0\" class=\"data row52 col0\" >Feature Selection</td>\n",
       "      <td id=\"T_f45d7_row52_col1\" class=\"data row52 col1\" >False</td>\n",
       "    </tr>\n",
       "    <tr>\n",
       "      <th id=\"T_f45d7_level0_row53\" class=\"row_heading level0 row53\" >53</th>\n",
       "      <td id=\"T_f45d7_row53_col0\" class=\"data row53 col0\" >Feature Selection Method</td>\n",
       "      <td id=\"T_f45d7_row53_col1\" class=\"data row53 col1\" >classic</td>\n",
       "    </tr>\n",
       "    <tr>\n",
       "      <th id=\"T_f45d7_level0_row54\" class=\"row_heading level0 row54\" >54</th>\n",
       "      <td id=\"T_f45d7_row54_col0\" class=\"data row54 col0\" >Features Selection Threshold</td>\n",
       "      <td id=\"T_f45d7_row54_col1\" class=\"data row54 col1\" >None</td>\n",
       "    </tr>\n",
       "    <tr>\n",
       "      <th id=\"T_f45d7_level0_row55\" class=\"row_heading level0 row55\" >55</th>\n",
       "      <td id=\"T_f45d7_row55_col0\" class=\"data row55 col0\" >Feature Interaction</td>\n",
       "      <td id=\"T_f45d7_row55_col1\" class=\"data row55 col1\" >False</td>\n",
       "    </tr>\n",
       "    <tr>\n",
       "      <th id=\"T_f45d7_level0_row56\" class=\"row_heading level0 row56\" >56</th>\n",
       "      <td id=\"T_f45d7_row56_col0\" class=\"data row56 col0\" >Feature Ratio</td>\n",
       "      <td id=\"T_f45d7_row56_col1\" class=\"data row56 col1\" >False</td>\n",
       "    </tr>\n",
       "    <tr>\n",
       "      <th id=\"T_f45d7_level0_row57\" class=\"row_heading level0 row57\" >57</th>\n",
       "      <td id=\"T_f45d7_row57_col0\" class=\"data row57 col0\" >Interaction Threshold</td>\n",
       "      <td id=\"T_f45d7_row57_col1\" class=\"data row57 col1\" >None</td>\n",
       "    </tr>\n",
       "    <tr>\n",
       "      <th id=\"T_f45d7_level0_row58\" class=\"row_heading level0 row58\" >58</th>\n",
       "      <td id=\"T_f45d7_row58_col0\" class=\"data row58 col0\" >Fix Imbalance</td>\n",
       "      <td id=\"T_f45d7_row58_col1\" class=\"data row58 col1\" >False</td>\n",
       "    </tr>\n",
       "    <tr>\n",
       "      <th id=\"T_f45d7_level0_row59\" class=\"row_heading level0 row59\" >59</th>\n",
       "      <td id=\"T_f45d7_row59_col0\" class=\"data row59 col0\" >Fix Imbalance Method</td>\n",
       "      <td id=\"T_f45d7_row59_col1\" class=\"data row59 col1\" >SMOTE</td>\n",
       "    </tr>\n",
       "  </tbody>\n",
       "</table>\n"
      ],
      "text/plain": [
       "<pandas.io.formats.style.Styler at 0x1f68e21a610>"
      ]
     },
     "metadata": {},
     "output_type": "display_data"
    },
    {
     "name": "stdout",
     "output_type": "stream",
     "text": [
      "CELL RUN TIME :  23.554945945739746\n"
     ]
    }
   ],
   "source": [
    "cell_start_time = time()\n",
    "clf = setup(data = total_df, target='위험도', silent=True)\n",
    "cell_end_time = time()\n",
    "print(\"CELL RUN TIME : \",cell_end_time - cell_start_time)"
   ]
  },
  {
   "cell_type": "code",
   "execution_count": 4,
   "id": "fdbe4197",
   "metadata": {
    "scrolled": false
   },
   "outputs": [
    {
     "ename": "NameError",
     "evalue": "name 'time' is not defined",
     "output_type": "error",
     "traceback": [
      "\u001b[1;31m---------------------------------------------------------------------------\u001b[0m",
      "\u001b[1;31mNameError\u001b[0m                                 Traceback (most recent call last)",
      "\u001b[1;32m~\\AppData\\Local\\Temp/ipykernel_18572/2037977903.py\u001b[0m in \u001b[0;36m<module>\u001b[1;34m\u001b[0m\n\u001b[0;32m      1\u001b[0m \u001b[1;31m# 모델 성능 비교  # 잠정 보류\u001b[0m\u001b[1;33m\u001b[0m\u001b[1;33m\u001b[0m\u001b[1;33m\u001b[0m\u001b[0m\n\u001b[1;32m----> 2\u001b[1;33m \u001b[0mcell_start_time\u001b[0m \u001b[1;33m=\u001b[0m \u001b[0mtime\u001b[0m\u001b[1;33m(\u001b[0m\u001b[1;33m)\u001b[0m\u001b[1;33m\u001b[0m\u001b[1;33m\u001b[0m\u001b[0m\n\u001b[0m\u001b[0;32m      3\u001b[0m \u001b[0mtop5_models\u001b[0m \u001b[1;33m=\u001b[0m \u001b[0mcompare_models\u001b[0m\u001b[1;33m(\u001b[0m\u001b[0mfold\u001b[0m\u001b[1;33m=\u001b[0m\u001b[1;36m5\u001b[0m\u001b[1;33m,\u001b[0m \u001b[0mround\u001b[0m\u001b[1;33m=\u001b[0m\u001b[1;36m3\u001b[0m\u001b[1;33m,\u001b[0m \u001b[0msort\u001b[0m \u001b[1;33m=\u001b[0m \u001b[1;34m'Accuracy'\u001b[0m\u001b[1;33m,\u001b[0m \u001b[0mn_select\u001b[0m \u001b[1;33m=\u001b[0m \u001b[1;36m5\u001b[0m\u001b[1;33m)\u001b[0m\u001b[1;33m\u001b[0m\u001b[1;33m\u001b[0m\u001b[0m\n\u001b[0;32m      4\u001b[0m \u001b[0mcell_end_time\u001b[0m \u001b[1;33m=\u001b[0m \u001b[0mtime\u001b[0m\u001b[1;33m(\u001b[0m\u001b[1;33m)\u001b[0m\u001b[1;33m\u001b[0m\u001b[1;33m\u001b[0m\u001b[0m\n\u001b[0;32m      5\u001b[0m \u001b[0mprint\u001b[0m\u001b[1;33m(\u001b[0m\u001b[1;34m\"CELL RUN TIME : \"\u001b[0m\u001b[1;33m,\u001b[0m\u001b[0mcell_end_time\u001b[0m \u001b[1;33m-\u001b[0m \u001b[0mcell_start_time\u001b[0m\u001b[1;33m)\u001b[0m\u001b[1;33m\u001b[0m\u001b[1;33m\u001b[0m\u001b[0m\n",
      "\u001b[1;31mNameError\u001b[0m: name 'time' is not defined"
     ]
    }
   ],
   "source": [
    "# 모델 성능 비교  # 잠정 보류\n",
    "cell_start_time = time()\n",
    "top5_models = compare_models(fold=5, round=3, sort = 'Accuracy', n_select = 5)\n",
    "cell_end_time = time()\n",
    "print(\"CELL RUN TIME : \",cell_end_time - cell_start_time)"
   ]
  },
  {
   "cell_type": "code",
   "execution_count": null,
   "id": "46a8613d",
   "metadata": {},
   "outputs": [],
   "source": [
    "top5_models"
   ]
  },
  {
   "cell_type": "markdown",
   "id": "88bde788",
   "metadata": {},
   "source": [
    "### RandomForest을 이용한 데이터 평가"
   ]
  },
  {
   "cell_type": "code",
   "execution_count": 4,
   "id": "d37f63bc",
   "metadata": {},
   "outputs": [],
   "source": [
    "from sklearn.model_selection import train_test_split\n",
    "from sklearn.ensemble import RandomForestClassifier\n",
    "from sklearn.metrics import accuracy_score\n",
    "from tensorflow.keras.utils import to_categorical"
   ]
  },
  {
   "cell_type": "code",
   "execution_count": 5,
   "id": "d3b263fd",
   "metadata": {},
   "outputs": [],
   "source": [
    "train_data=total_df.drop(['위험도'], axis=1)\n",
    "target_data=total_df[['위험도']].astype('str')"
   ]
  },
  {
   "cell_type": "code",
   "execution_count": 6,
   "id": "37998933",
   "metadata": {},
   "outputs": [
    {
     "data": {
      "text/html": [
       "<div>\n",
       "<style scoped>\n",
       "    .dataframe tbody tr th:only-of-type {\n",
       "        vertical-align: middle;\n",
       "    }\n",
       "\n",
       "    .dataframe tbody tr th {\n",
       "        vertical-align: top;\n",
       "    }\n",
       "\n",
       "    .dataframe thead th {\n",
       "        text-align: right;\n",
       "    }\n",
       "</style>\n",
       "<table border=\"1\" class=\"dataframe\">\n",
       "  <thead>\n",
       "    <tr style=\"text-align: right;\">\n",
       "      <th></th>\n",
       "      <th>month</th>\n",
       "      <th>day</th>\n",
       "      <th>시군구index</th>\n",
       "      <th>철새수</th>\n",
       "      <th>최초발생거리</th>\n",
       "      <th>평균온도</th>\n",
       "      <th>일강수량</th>\n",
       "    </tr>\n",
       "  </thead>\n",
       "  <tbody>\n",
       "    <tr>\n",
       "      <th>0</th>\n",
       "      <td>1</td>\n",
       "      <td>1</td>\n",
       "      <td>0</td>\n",
       "      <td>126690</td>\n",
       "      <td>0</td>\n",
       "      <td>-1.8</td>\n",
       "      <td>0.0</td>\n",
       "    </tr>\n",
       "    <tr>\n",
       "      <th>1</th>\n",
       "      <td>1</td>\n",
       "      <td>1</td>\n",
       "      <td>0</td>\n",
       "      <td>126690</td>\n",
       "      <td>10</td>\n",
       "      <td>-1.8</td>\n",
       "      <td>0.0</td>\n",
       "    </tr>\n",
       "    <tr>\n",
       "      <th>2</th>\n",
       "      <td>1</td>\n",
       "      <td>1</td>\n",
       "      <td>0</td>\n",
       "      <td>126690</td>\n",
       "      <td>20</td>\n",
       "      <td>-1.8</td>\n",
       "      <td>0.0</td>\n",
       "    </tr>\n",
       "    <tr>\n",
       "      <th>3</th>\n",
       "      <td>1</td>\n",
       "      <td>1</td>\n",
       "      <td>0</td>\n",
       "      <td>126690</td>\n",
       "      <td>30</td>\n",
       "      <td>-1.8</td>\n",
       "      <td>0.0</td>\n",
       "    </tr>\n",
       "    <tr>\n",
       "      <th>4</th>\n",
       "      <td>1</td>\n",
       "      <td>1</td>\n",
       "      <td>0</td>\n",
       "      <td>126690</td>\n",
       "      <td>40</td>\n",
       "      <td>-1.8</td>\n",
       "      <td>0.0</td>\n",
       "    </tr>\n",
       "  </tbody>\n",
       "</table>\n",
       "</div>"
      ],
      "text/plain": [
       "   month  day  시군구index     철새수  최초발생거리  평균온도  일강수량\n",
       "0      1    1         0  126690       0  -1.8   0.0\n",
       "1      1    1         0  126690      10  -1.8   0.0\n",
       "2      1    1         0  126690      20  -1.8   0.0\n",
       "3      1    1         0  126690      30  -1.8   0.0\n",
       "4      1    1         0  126690      40  -1.8   0.0"
      ]
     },
     "execution_count": 6,
     "metadata": {},
     "output_type": "execute_result"
    }
   ],
   "source": [
    "train_data.head()"
   ]
  },
  {
   "cell_type": "code",
   "execution_count": 7,
   "id": "4d33dd86",
   "metadata": {},
   "outputs": [
    {
     "data": {
      "text/html": [
       "<div>\n",
       "<style scoped>\n",
       "    .dataframe tbody tr th:only-of-type {\n",
       "        vertical-align: middle;\n",
       "    }\n",
       "\n",
       "    .dataframe tbody tr th {\n",
       "        vertical-align: top;\n",
       "    }\n",
       "\n",
       "    .dataframe thead th {\n",
       "        text-align: right;\n",
       "    }\n",
       "</style>\n",
       "<table border=\"1\" class=\"dataframe\">\n",
       "  <thead>\n",
       "    <tr style=\"text-align: right;\">\n",
       "      <th></th>\n",
       "      <th>위험도</th>\n",
       "    </tr>\n",
       "  </thead>\n",
       "  <tbody>\n",
       "    <tr>\n",
       "      <th>0</th>\n",
       "      <td>7.7</td>\n",
       "    </tr>\n",
       "    <tr>\n",
       "      <th>1</th>\n",
       "      <td>7.7</td>\n",
       "    </tr>\n",
       "    <tr>\n",
       "      <th>2</th>\n",
       "      <td>7.7</td>\n",
       "    </tr>\n",
       "    <tr>\n",
       "      <th>3</th>\n",
       "      <td>7.7</td>\n",
       "    </tr>\n",
       "    <tr>\n",
       "      <th>4</th>\n",
       "      <td>7.7</td>\n",
       "    </tr>\n",
       "  </tbody>\n",
       "</table>\n",
       "</div>"
      ],
      "text/plain": [
       "   위험도\n",
       "0  7.7\n",
       "1  7.7\n",
       "2  7.7\n",
       "3  7.7\n",
       "4  7.7"
      ]
     },
     "execution_count": 7,
     "metadata": {},
     "output_type": "execute_result"
    }
   ],
   "source": [
    "target_data.head()"
   ]
  },
  {
   "cell_type": "code",
   "execution_count": 8,
   "id": "fc2ac916",
   "metadata": {},
   "outputs": [],
   "source": [
    "# target_data one-hot-encoding\n",
    "target_data2 = pd.get_dummies(target_data['위험도'])\n",
    "target_data_result = pd.concat([target_data, target_data2], axis=1)"
   ]
  },
  {
   "cell_type": "code",
   "execution_count": 9,
   "id": "09b02ce5",
   "metadata": {},
   "outputs": [
    {
     "data": {
      "text/html": [
       "<div>\n",
       "<style scoped>\n",
       "    .dataframe tbody tr th:only-of-type {\n",
       "        vertical-align: middle;\n",
       "    }\n",
       "\n",
       "    .dataframe tbody tr th {\n",
       "        vertical-align: top;\n",
       "    }\n",
       "\n",
       "    .dataframe thead th {\n",
       "        text-align: right;\n",
       "    }\n",
       "</style>\n",
       "<table border=\"1\" class=\"dataframe\">\n",
       "  <thead>\n",
       "    <tr style=\"text-align: right;\">\n",
       "      <th></th>\n",
       "      <th>0.0</th>\n",
       "      <th>0.3</th>\n",
       "      <th>0.6</th>\n",
       "      <th>0.7</th>\n",
       "      <th>1.0</th>\n",
       "      <th>1.2</th>\n",
       "      <th>1.4</th>\n",
       "      <th>1.5</th>\n",
       "      <th>1.6</th>\n",
       "      <th>1.7</th>\n",
       "      <th>...</th>\n",
       "      <th>9.0</th>\n",
       "      <th>9.1</th>\n",
       "      <th>9.2</th>\n",
       "      <th>9.3</th>\n",
       "      <th>9.4</th>\n",
       "      <th>9.5</th>\n",
       "      <th>9.6</th>\n",
       "      <th>9.7</th>\n",
       "      <th>9.8</th>\n",
       "      <th>9.9</th>\n",
       "    </tr>\n",
       "  </thead>\n",
       "  <tbody>\n",
       "    <tr>\n",
       "      <th>0</th>\n",
       "      <td>0</td>\n",
       "      <td>0</td>\n",
       "      <td>0</td>\n",
       "      <td>0</td>\n",
       "      <td>0</td>\n",
       "      <td>0</td>\n",
       "      <td>0</td>\n",
       "      <td>0</td>\n",
       "      <td>0</td>\n",
       "      <td>0</td>\n",
       "      <td>...</td>\n",
       "      <td>0</td>\n",
       "      <td>0</td>\n",
       "      <td>0</td>\n",
       "      <td>0</td>\n",
       "      <td>0</td>\n",
       "      <td>0</td>\n",
       "      <td>0</td>\n",
       "      <td>0</td>\n",
       "      <td>0</td>\n",
       "      <td>0</td>\n",
       "    </tr>\n",
       "    <tr>\n",
       "      <th>1</th>\n",
       "      <td>0</td>\n",
       "      <td>0</td>\n",
       "      <td>0</td>\n",
       "      <td>0</td>\n",
       "      <td>0</td>\n",
       "      <td>0</td>\n",
       "      <td>0</td>\n",
       "      <td>0</td>\n",
       "      <td>0</td>\n",
       "      <td>0</td>\n",
       "      <td>...</td>\n",
       "      <td>0</td>\n",
       "      <td>0</td>\n",
       "      <td>0</td>\n",
       "      <td>0</td>\n",
       "      <td>0</td>\n",
       "      <td>0</td>\n",
       "      <td>0</td>\n",
       "      <td>0</td>\n",
       "      <td>0</td>\n",
       "      <td>0</td>\n",
       "    </tr>\n",
       "    <tr>\n",
       "      <th>2</th>\n",
       "      <td>0</td>\n",
       "      <td>0</td>\n",
       "      <td>0</td>\n",
       "      <td>0</td>\n",
       "      <td>0</td>\n",
       "      <td>0</td>\n",
       "      <td>0</td>\n",
       "      <td>0</td>\n",
       "      <td>0</td>\n",
       "      <td>0</td>\n",
       "      <td>...</td>\n",
       "      <td>0</td>\n",
       "      <td>0</td>\n",
       "      <td>0</td>\n",
       "      <td>0</td>\n",
       "      <td>0</td>\n",
       "      <td>0</td>\n",
       "      <td>0</td>\n",
       "      <td>0</td>\n",
       "      <td>0</td>\n",
       "      <td>0</td>\n",
       "    </tr>\n",
       "    <tr>\n",
       "      <th>3</th>\n",
       "      <td>0</td>\n",
       "      <td>0</td>\n",
       "      <td>0</td>\n",
       "      <td>0</td>\n",
       "      <td>0</td>\n",
       "      <td>0</td>\n",
       "      <td>0</td>\n",
       "      <td>0</td>\n",
       "      <td>0</td>\n",
       "      <td>0</td>\n",
       "      <td>...</td>\n",
       "      <td>0</td>\n",
       "      <td>0</td>\n",
       "      <td>0</td>\n",
       "      <td>0</td>\n",
       "      <td>0</td>\n",
       "      <td>0</td>\n",
       "      <td>0</td>\n",
       "      <td>0</td>\n",
       "      <td>0</td>\n",
       "      <td>0</td>\n",
       "    </tr>\n",
       "    <tr>\n",
       "      <th>4</th>\n",
       "      <td>0</td>\n",
       "      <td>0</td>\n",
       "      <td>0</td>\n",
       "      <td>0</td>\n",
       "      <td>0</td>\n",
       "      <td>0</td>\n",
       "      <td>0</td>\n",
       "      <td>0</td>\n",
       "      <td>0</td>\n",
       "      <td>0</td>\n",
       "      <td>...</td>\n",
       "      <td>0</td>\n",
       "      <td>0</td>\n",
       "      <td>0</td>\n",
       "      <td>0</td>\n",
       "      <td>0</td>\n",
       "      <td>0</td>\n",
       "      <td>0</td>\n",
       "      <td>0</td>\n",
       "      <td>0</td>\n",
       "      <td>0</td>\n",
       "    </tr>\n",
       "  </tbody>\n",
       "</table>\n",
       "<p>5 rows × 107 columns</p>\n",
       "</div>"
      ],
      "text/plain": [
       "   0.0  0.3  0.6  0.7  1.0  1.2  1.4  1.5  1.6  1.7  ...  9.0  9.1  9.2  9.3  \\\n",
       "0    0    0    0    0    0    0    0    0    0    0  ...    0    0    0    0   \n",
       "1    0    0    0    0    0    0    0    0    0    0  ...    0    0    0    0   \n",
       "2    0    0    0    0    0    0    0    0    0    0  ...    0    0    0    0   \n",
       "3    0    0    0    0    0    0    0    0    0    0  ...    0    0    0    0   \n",
       "4    0    0    0    0    0    0    0    0    0    0  ...    0    0    0    0   \n",
       "\n",
       "   9.4  9.5  9.6  9.7  9.8  9.9  \n",
       "0    0    0    0    0    0    0  \n",
       "1    0    0    0    0    0    0  \n",
       "2    0    0    0    0    0    0  \n",
       "3    0    0    0    0    0    0  \n",
       "4    0    0    0    0    0    0  \n",
       "\n",
       "[5 rows x 107 columns]"
      ]
     },
     "execution_count": 9,
     "metadata": {},
     "output_type": "execute_result"
    }
   ],
   "source": [
    "target_data2.head()"
   ]
  },
  {
   "cell_type": "code",
   "execution_count": 10,
   "id": "b9e800e4",
   "metadata": {},
   "outputs": [],
   "source": [
    "train_x, test_x, train_y, test_y = train_test_split(train_data, target_data2, test_size = 0.2, random_state = 42)"
   ]
  },
  {
   "cell_type": "code",
   "execution_count": 11,
   "id": "7b18261b",
   "metadata": {},
   "outputs": [
    {
     "data": {
      "text/plain": [
       "RandomForestClassifier(max_depth=10, n_estimators=10, random_state=42)"
      ]
     },
     "execution_count": 11,
     "metadata": {},
     "output_type": "execute_result"
    }
   ],
   "source": [
    "clf = RandomForestClassifier(random_state=42)\n",
    "clf.fit(train_x,train_y)"
   ]
  },
  {
   "cell_type": "code",
   "execution_count": 12,
   "id": "f834539b",
   "metadata": {},
   "outputs": [
    {
     "name": "stdout",
     "output_type": "stream",
     "text": [
      "0.3620095225777246\n"
     ]
    }
   ],
   "source": [
    "predict1 = clf.predict(test_x)\n",
    "print(accuracy_score(test_y,predict1))"
   ]
  },
  {
   "cell_type": "code",
   "execution_count": 13,
   "id": "40e80f31",
   "metadata": {},
   "outputs": [
    {
     "data": {
      "text/plain": [
       "['model/Randomforest.pkl']"
      ]
     },
     "execution_count": 13,
     "metadata": {},
     "output_type": "execute_result"
    }
   ],
   "source": [
    "# 모델 저장\n",
    "import joblib\n",
    "joblib.dump(clf, 'model/Randomforest.pkl')"
   ]
  },
  {
   "cell_type": "code",
   "execution_count": 14,
   "id": "b79974f3",
   "metadata": {},
   "outputs": [],
   "source": [
    "# 모델 불러오기\n",
    "rf_model=joblib.load('model/Randomforest.pkl')"
   ]
  },
  {
   "cell_type": "code",
   "execution_count": 15,
   "id": "e0ba4f73",
   "metadata": {},
   "outputs": [
    {
     "name": "stdout",
     "output_type": "stream",
     "text": [
      "0.3620095225777246\n"
     ]
    }
   ],
   "source": [
    "predict1 = rf_model.predict(test_x)\n",
    "print(accuracy_score(test_y,predict1))"
   ]
  },
  {
   "cell_type": "markdown",
   "id": "f52efdb4",
   "metadata": {},
   "source": [
    "### XGBoost Classifier 모델 이용"
   ]
  },
  {
   "cell_type": "code",
   "execution_count": 16,
   "id": "09e90508",
   "metadata": {},
   "outputs": [],
   "source": [
    "import xgboost"
   ]
  },
  {
   "cell_type": "code",
   "execution_count": 17,
   "id": "aacae5bf",
   "metadata": {},
   "outputs": [],
   "source": [
    "train_data=total_df.drop(['위험도'], axis=1)\n",
    "target_data=total_df[['위험도']].astype('str')"
   ]
  },
  {
   "cell_type": "code",
   "execution_count": 18,
   "id": "1fe68f09",
   "metadata": {},
   "outputs": [],
   "source": [
    "train_X, test_X, train_Y, test_Y = train_test_split(train_data, target_data, test_size = 0.2, random_state = 42)"
   ]
  },
  {
   "cell_type": "code",
   "execution_count": 19,
   "id": "45036c31",
   "metadata": {},
   "outputs": [
    {
     "name": "stdout",
     "output_type": "stream",
     "text": [
      "(1979292, 7) (494824, 7) (1979292, 1) (494824, 1)\n"
     ]
    }
   ],
   "source": [
    "print(train_X.shape, test_X.shape, train_Y.shape, test_Y.shape)"
   ]
  },
  {
   "cell_type": "code",
   "execution_count": 29,
   "id": "2cc0a240",
   "metadata": {},
   "outputs": [
    {
     "name": "stdout",
     "output_type": "stream",
     "text": [
      "[21:33:30] WARNING: C:/Users/Administrator/workspace/xgboost-win64_release_1.4.0/src/learner.cc:1095: Starting in XGBoost 1.3.0, the default evaluation metric used with the objective 'multi:softprob' was changed from 'merror' to 'mlogloss'. Explicitly set eval_metric if you'd like to restore the old behavior.\n"
     ]
    },
    {
     "data": {
      "text/plain": [
       "XGBClassifier(base_score=0.5, booster='gbtree', colsample_bylevel=1,\n",
       "              colsample_bynode=1, colsample_bytree=1, gamma=0, gpu_id=-1,\n",
       "              importance_type='gain', interaction_constraints='',\n",
       "              learning_rate=0.300000012, max_delta_step=0, max_depth=6,\n",
       "              min_child_weight=1, missing=nan, monotone_constraints='()',\n",
       "              n_estimators=100, n_jobs=16, num_parallel_tree=1,\n",
       "              objective='multi:softprob', random_state=0, reg_alpha=0,\n",
       "              reg_lambda=1, scale_pos_weight=None, subsample=1,\n",
       "              tree_method='exact', validate_parameters=1, verbosity=None)"
      ]
     },
     "execution_count": 29,
     "metadata": {},
     "output_type": "execute_result"
    }
   ],
   "source": [
    "model = xgboost.XGBClassifier()\n",
    "model.fit(train_X.values, np.ravel(train_Y.values))"
   ]
  },
  {
   "cell_type": "code",
   "execution_count": 37,
   "id": "27da9993",
   "metadata": {},
   "outputs": [
    {
     "data": {
      "text/html": [
       "<div>\n",
       "<style scoped>\n",
       "    .dataframe tbody tr th:only-of-type {\n",
       "        vertical-align: middle;\n",
       "    }\n",
       "\n",
       "    .dataframe tbody tr th {\n",
       "        vertical-align: top;\n",
       "    }\n",
       "\n",
       "    .dataframe thead th {\n",
       "        text-align: right;\n",
       "    }\n",
       "</style>\n",
       "<table border=\"1\" class=\"dataframe\">\n",
       "  <thead>\n",
       "    <tr style=\"text-align: right;\">\n",
       "      <th></th>\n",
       "      <th>month</th>\n",
       "      <th>day</th>\n",
       "      <th>시군구index</th>\n",
       "      <th>철새수</th>\n",
       "      <th>최초발생거리</th>\n",
       "      <th>평균온도</th>\n",
       "      <th>일강수량</th>\n",
       "    </tr>\n",
       "  </thead>\n",
       "  <tbody>\n",
       "    <tr>\n",
       "      <th>340055</th>\n",
       "      <td>2</td>\n",
       "      <td>16</td>\n",
       "      <td>188</td>\n",
       "      <td>325603</td>\n",
       "      <td>0</td>\n",
       "      <td>3.1</td>\n",
       "      <td>2.4</td>\n",
       "    </tr>\n",
       "    <tr>\n",
       "      <th>226028</th>\n",
       "      <td>2</td>\n",
       "      <td>2</td>\n",
       "      <td>133</td>\n",
       "      <td>2381390</td>\n",
       "      <td>30</td>\n",
       "      <td>-1.9</td>\n",
       "      <td>0.0</td>\n",
       "    </tr>\n",
       "    <tr>\n",
       "      <th>366176</th>\n",
       "      <td>2</td>\n",
       "      <td>20</td>\n",
       "      <td>26</td>\n",
       "      <td>311381</td>\n",
       "      <td>110</td>\n",
       "      <td>5.6</td>\n",
       "      <td>0.6</td>\n",
       "    </tr>\n",
       "    <tr>\n",
       "      <th>2351197</th>\n",
       "      <td>12</td>\n",
       "      <td>13</td>\n",
       "      <td>99</td>\n",
       "      <td>770420</td>\n",
       "      <td>120</td>\n",
       "      <td>2.2</td>\n",
       "      <td>1.1</td>\n",
       "    </tr>\n",
       "    <tr>\n",
       "      <th>905599</th>\n",
       "      <td>5</td>\n",
       "      <td>2</td>\n",
       "      <td>165</td>\n",
       "      <td>0</td>\n",
       "      <td>60</td>\n",
       "      <td>17.4</td>\n",
       "      <td>5.0</td>\n",
       "    </tr>\n",
       "  </tbody>\n",
       "</table>\n",
       "</div>"
      ],
      "text/plain": [
       "         month  day  시군구index      철새수  최초발생거리  평균온도  일강수량\n",
       "340055       2   16       188   325603       0   3.1   2.4\n",
       "226028       2    2       133  2381390      30  -1.9   0.0\n",
       "366176       2   20        26   311381     110   5.6   0.6\n",
       "2351197     12   13        99   770420     120   2.2   1.1\n",
       "905599       5    2       165        0      60  17.4   5.0"
      ]
     },
     "execution_count": 37,
     "metadata": {},
     "output_type": "execute_result"
    }
   ],
   "source": [
    "test_X.head()"
   ]
  },
  {
   "cell_type": "code",
   "execution_count": 40,
   "id": "b10b08ba",
   "metadata": {},
   "outputs": [
    {
     "data": {
      "text/html": [
       "<div>\n",
       "<style scoped>\n",
       "    .dataframe tbody tr th:only-of-type {\n",
       "        vertical-align: middle;\n",
       "    }\n",
       "\n",
       "    .dataframe tbody tr th {\n",
       "        vertical-align: top;\n",
       "    }\n",
       "\n",
       "    .dataframe thead th {\n",
       "        text-align: right;\n",
       "    }\n",
       "</style>\n",
       "<table border=\"1\" class=\"dataframe\">\n",
       "  <thead>\n",
       "    <tr style=\"text-align: right;\">\n",
       "      <th></th>\n",
       "      <th>위험도</th>\n",
       "    </tr>\n",
       "  </thead>\n",
       "  <tbody>\n",
       "    <tr>\n",
       "      <th>460215</th>\n",
       "      <td>7.3</td>\n",
       "    </tr>\n",
       "    <tr>\n",
       "      <th>1950589</th>\n",
       "      <td>2.5</td>\n",
       "    </tr>\n",
       "    <tr>\n",
       "      <th>2395716</th>\n",
       "      <td>2.1</td>\n",
       "    </tr>\n",
       "    <tr>\n",
       "      <th>670213</th>\n",
       "      <td>7.6</td>\n",
       "    </tr>\n",
       "    <tr>\n",
       "      <th>1474059</th>\n",
       "      <td>0.0</td>\n",
       "    </tr>\n",
       "    <tr>\n",
       "      <th>...</th>\n",
       "      <td>...</td>\n",
       "    </tr>\n",
       "    <tr>\n",
       "      <th>110268</th>\n",
       "      <td>1.5</td>\n",
       "    </tr>\n",
       "    <tr>\n",
       "      <th>1692743</th>\n",
       "      <td>3.7</td>\n",
       "    </tr>\n",
       "    <tr>\n",
       "      <th>2356330</th>\n",
       "      <td>4.1</td>\n",
       "    </tr>\n",
       "    <tr>\n",
       "      <th>2229084</th>\n",
       "      <td>5.0</td>\n",
       "    </tr>\n",
       "    <tr>\n",
       "      <th>2219110</th>\n",
       "      <td>5.3</td>\n",
       "    </tr>\n",
       "  </tbody>\n",
       "</table>\n",
       "<p>1979292 rows × 1 columns</p>\n",
       "</div>"
      ],
      "text/plain": [
       "         위험도\n",
       "460215   7.3\n",
       "1950589  2.5\n",
       "2395716  2.1\n",
       "670213   7.6\n",
       "1474059  0.0\n",
       "...      ...\n",
       "110268   1.5\n",
       "1692743  3.7\n",
       "2356330  4.1\n",
       "2229084  5.0\n",
       "2219110  5.3\n",
       "\n",
       "[1979292 rows x 1 columns]"
      ]
     },
     "execution_count": 40,
     "metadata": {},
     "output_type": "execute_result"
    }
   ],
   "source": [
    "train_Y"
   ]
  },
  {
   "cell_type": "code",
   "execution_count": 31,
   "id": "39ded96b",
   "metadata": {},
   "outputs": [
    {
     "data": {
      "text/plain": [
       "array([[ 2.00e+00,  1.60e+01,  1.88e+02, ...,  0.00e+00,  3.10e+00,\n",
       "         2.40e+00],\n",
       "       [ 2.00e+00,  2.00e+00,  1.33e+02, ...,  3.00e+01, -1.90e+00,\n",
       "         0.00e+00],\n",
       "       [ 2.00e+00,  2.00e+01,  2.60e+01, ...,  1.10e+02,  5.60e+00,\n",
       "         6.00e-01],\n",
       "       ...,\n",
       "       [ 3.00e+00,  1.10e+01,  1.58e+02, ...,  5.00e+01,  5.40e+00,\n",
       "         6.00e-01],\n",
       "       [ 5.00e+00,  7.00e+00,  2.80e+01, ...,  7.00e+01,  1.70e+01,\n",
       "         4.70e+00],\n",
       "       [ 1.00e+01,  1.80e+01,  9.10e+01, ...,  2.50e+02,  1.51e+01,\n",
       "         2.00e-01]])"
      ]
     },
     "execution_count": 31,
     "metadata": {},
     "output_type": "execute_result"
    }
   ],
   "source": [
    "test_X.values"
   ]
  },
  {
   "cell_type": "code",
   "execution_count": 32,
   "id": "fdd660fa",
   "metadata": {},
   "outputs": [],
   "source": [
    "y_pred = model.predict(test_X.values)\n",
    "#predictions = [np.round(value,1) for value in y_pred]"
   ]
  },
  {
   "cell_type": "code",
   "execution_count": 33,
   "id": "e1428fa0",
   "metadata": {},
   "outputs": [
    {
     "name": "stdout",
     "output_type": "stream",
     "text": [
      "(pred == y_test) score: 0.731\n"
     ]
    }
   ],
   "source": [
    "print(\"(pred == y_test) score: {0:.3f}\".format((y_pred==test_Y['위험도'].values).mean()))"
   ]
  },
  {
   "cell_type": "code",
   "execution_count": 34,
   "id": "37139c80",
   "metadata": {},
   "outputs": [
    {
     "data": {
      "text/plain": [
       "['model/xgboost.pkl']"
      ]
     },
     "execution_count": 34,
     "metadata": {},
     "output_type": "execute_result"
    }
   ],
   "source": [
    "# 모델 저장\n",
    "import joblib\n",
    "joblib.dump(model, 'model/xgboost.pkl')"
   ]
  },
  {
   "cell_type": "code",
   "execution_count": 35,
   "id": "3a8444fc",
   "metadata": {},
   "outputs": [],
   "source": [
    "# 모델 불러오기\n",
    "xgb_model=joblib.load('model/xgboost.pkl')"
   ]
  },
  {
   "cell_type": "code",
   "execution_count": 41,
   "id": "be1f158f",
   "metadata": {},
   "outputs": [],
   "source": [
    "y_pred = xgb_model.predict(test_X.values)\n",
    "#predictions = [np.round(value,1) for value in y_pred]"
   ]
  },
  {
   "cell_type": "code",
   "execution_count": 42,
   "id": "4a139988",
   "metadata": {},
   "outputs": [
    {
     "name": "stdout",
     "output_type": "stream",
     "text": [
      "(pred == y_test) score: 0.731\n"
     ]
    }
   ],
   "source": [
    "print(\"(pred == y_test) score: {0:.3f}\".format((y_pred==test_Y['위험도'].values).mean()))"
   ]
  },
  {
   "cell_type": "code",
   "execution_count": 43,
   "id": "0c16e6ee",
   "metadata": {},
   "outputs": [
    {
     "data": {
      "text/plain": [
       "array(['5.6', '6.5', '3.9', ..., '7.1', '6.5', '0.0'], dtype=object)"
      ]
     },
     "execution_count": 43,
     "metadata": {},
     "output_type": "execute_result"
    }
   ],
   "source": [
    "y_pred"
   ]
  },
  {
   "cell_type": "code",
   "execution_count": 44,
   "id": "e70b4b98",
   "metadata": {},
   "outputs": [
    {
     "data": {
      "text/plain": [
       "array(['5.6', '6.5', '3.9', ..., '9.6', '6.5', '0.0'], dtype=object)"
      ]
     },
     "execution_count": 44,
     "metadata": {},
     "output_type": "execute_result"
    }
   ],
   "source": [
    "test_Y['위험도'].values"
   ]
  },
  {
   "cell_type": "markdown",
   "id": "9d093b90",
   "metadata": {},
   "source": [
    "### SVM 모델 적용"
   ]
  },
  {
   "cell_type": "code",
   "execution_count": 5,
   "id": "2cbe1b37",
   "metadata": {},
   "outputs": [],
   "source": [
    "train_data=total_df.drop(['위험도'], axis=1)\n",
    "target_data=total_df[['위험도']].astype('str')"
   ]
  },
  {
   "cell_type": "code",
   "execution_count": 6,
   "id": "d764f6d8",
   "metadata": {},
   "outputs": [
    {
     "data": {
      "text/html": [
       "<div>\n",
       "<style scoped>\n",
       "    .dataframe tbody tr th:only-of-type {\n",
       "        vertical-align: middle;\n",
       "    }\n",
       "\n",
       "    .dataframe tbody tr th {\n",
       "        vertical-align: top;\n",
       "    }\n",
       "\n",
       "    .dataframe thead th {\n",
       "        text-align: right;\n",
       "    }\n",
       "</style>\n",
       "<table border=\"1\" class=\"dataframe\">\n",
       "  <thead>\n",
       "    <tr style=\"text-align: right;\">\n",
       "      <th></th>\n",
       "      <th>month</th>\n",
       "      <th>day</th>\n",
       "      <th>시군구index</th>\n",
       "      <th>철새수</th>\n",
       "      <th>최초발생거리</th>\n",
       "      <th>평균온도</th>\n",
       "      <th>일강수량</th>\n",
       "    </tr>\n",
       "  </thead>\n",
       "  <tbody>\n",
       "    <tr>\n",
       "      <th>0</th>\n",
       "      <td>1</td>\n",
       "      <td>1</td>\n",
       "      <td>0</td>\n",
       "      <td>126690</td>\n",
       "      <td>0</td>\n",
       "      <td>-1.8</td>\n",
       "      <td>0.0</td>\n",
       "    </tr>\n",
       "    <tr>\n",
       "      <th>1</th>\n",
       "      <td>1</td>\n",
       "      <td>1</td>\n",
       "      <td>0</td>\n",
       "      <td>126690</td>\n",
       "      <td>10</td>\n",
       "      <td>-1.8</td>\n",
       "      <td>0.0</td>\n",
       "    </tr>\n",
       "    <tr>\n",
       "      <th>2</th>\n",
       "      <td>1</td>\n",
       "      <td>1</td>\n",
       "      <td>0</td>\n",
       "      <td>126690</td>\n",
       "      <td>20</td>\n",
       "      <td>-1.8</td>\n",
       "      <td>0.0</td>\n",
       "    </tr>\n",
       "    <tr>\n",
       "      <th>3</th>\n",
       "      <td>1</td>\n",
       "      <td>1</td>\n",
       "      <td>0</td>\n",
       "      <td>126690</td>\n",
       "      <td>30</td>\n",
       "      <td>-1.8</td>\n",
       "      <td>0.0</td>\n",
       "    </tr>\n",
       "    <tr>\n",
       "      <th>4</th>\n",
       "      <td>1</td>\n",
       "      <td>1</td>\n",
       "      <td>0</td>\n",
       "      <td>126690</td>\n",
       "      <td>40</td>\n",
       "      <td>-1.8</td>\n",
       "      <td>0.0</td>\n",
       "    </tr>\n",
       "  </tbody>\n",
       "</table>\n",
       "</div>"
      ],
      "text/plain": [
       "   month  day  시군구index     철새수  최초발생거리  평균온도  일강수량\n",
       "0      1    1         0  126690       0  -1.8   0.0\n",
       "1      1    1         0  126690      10  -1.8   0.0\n",
       "2      1    1         0  126690      20  -1.8   0.0\n",
       "3      1    1         0  126690      30  -1.8   0.0\n",
       "4      1    1         0  126690      40  -1.8   0.0"
      ]
     },
     "execution_count": 6,
     "metadata": {},
     "output_type": "execute_result"
    }
   ],
   "source": [
    "train_data.head()"
   ]
  },
  {
   "cell_type": "code",
   "execution_count": 7,
   "id": "5b65f5b6",
   "metadata": {},
   "outputs": [],
   "source": [
    "from sklearn.preprocessing import StandardScaler"
   ]
  },
  {
   "cell_type": "code",
   "execution_count": 8,
   "id": "5abd6f44",
   "metadata": {},
   "outputs": [],
   "source": [
    "scaler = StandardScaler()\n",
    "scaler.fit(train_data)\n",
    "X_scaled = scaler.transform(train_data)"
   ]
  },
  {
   "cell_type": "code",
   "execution_count": 9,
   "id": "cc4aad74",
   "metadata": {},
   "outputs": [],
   "source": [
    "X_train, X_test, Y_train, Y_test = train_test_split(X_scaled, target_data, test_size = 0.2, random_state = 100)"
   ]
  },
  {
   "cell_type": "code",
   "execution_count": 10,
   "id": "66673278",
   "metadata": {},
   "outputs": [],
   "source": [
    "import sklearn.svm as svm\n",
    "from sklearn.model_selection import cross_val_score, cross_validate"
   ]
  },
  {
   "cell_type": "code",
   "execution_count": 11,
   "id": "bbe08197",
   "metadata": {},
   "outputs": [],
   "source": [
    "svm_clf =svm.SVC(kernel = 'rbf', random_state=100)"
   ]
  },
  {
   "cell_type": "code",
   "execution_count": 12,
   "id": "7d244f65",
   "metadata": {},
   "outputs": [],
   "source": [
    "from sklearn.model_selection import GridSearchCV"
   ]
  },
  {
   "cell_type": "code",
   "execution_count": 13,
   "id": "eda942ee",
   "metadata": {},
   "outputs": [],
   "source": [
    "parameters = {'C': [0.001, 0.01, 0.1],\n",
    "             'gamma':[0.001, 0.01, 0.1]}"
   ]
  },
  {
   "cell_type": "code",
   "execution_count": 14,
   "id": "20297723",
   "metadata": {},
   "outputs": [],
   "source": [
    "grid_svm = GridSearchCV(svm_clf,\n",
    "                      param_grid = parameters, cv = 5)"
   ]
  },
  {
   "cell_type": "code",
   "execution_count": null,
   "id": "828a1b3d",
   "metadata": {},
   "outputs": [],
   "source": [
    "grid_svm.fit(X_train, np.ravel(Y_train))"
   ]
  },
  {
   "cell_type": "code",
   "execution_count": null,
   "id": "d5b9987d",
   "metadata": {},
   "outputs": [],
   "source": [
    "result = pd.DataFrame(grid_svm.cv_results_['params'])\n",
    "result['mean_test_score'] = grid_svm.cv_results_['mean_test_score']\n",
    "result.sort_values(by='mean_test_score', ascending=False)"
   ]
  },
  {
   "cell_type": "code",
   "execution_count": null,
   "id": "740dafb3",
   "metadata": {},
   "outputs": [],
   "source": []
  }
 ],
 "metadata": {
  "kernelspec": {
   "display_name": "Python 3 (ipykernel)",
   "language": "python",
   "name": "python3"
  },
  "language_info": {
   "codemirror_mode": {
    "name": "ipython",
    "version": 3
   },
   "file_extension": ".py",
   "mimetype": "text/x-python",
   "name": "python",
   "nbconvert_exporter": "python",
   "pygments_lexer": "ipython3",
   "version": "3.8.11"
  }
 },
 "nbformat": 4,
 "nbformat_minor": 5
}
