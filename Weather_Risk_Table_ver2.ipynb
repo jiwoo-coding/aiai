{
 "cells": [
  {
   "cell_type": "code",
   "execution_count": 1,
   "id": "1a36a749",
   "metadata": {},
   "outputs": [],
   "source": [
    "import pandas as pd\n",
    "import numpy as np\n",
    "import datetime   # datetime 내 timedelta는 몇주전후 까지만 나와 있음\n",
    "from dateutil.relativedelta import relativedelta # 몇달전후, 몇년전후를 구하기 위함\n",
    "from tqdm import tqdm\n",
    "from scipy import stats"
   ]
  },
  {
   "cell_type": "code",
   "execution_count": 2,
   "id": "37a0ae20",
   "metadata": {},
   "outputs": [],
   "source": [
    "import weatherAPI "
   ]
  },
  {
   "cell_type": "code",
   "execution_count": 7,
   "id": "fe2ab48b",
   "metadata": {},
   "outputs": [],
   "source": [
    "other=pd.read_csv(\"month_other_weather.csv\", encoding='utf-8-sig')"
   ]
  },
  {
   "cell_type": "code",
   "execution_count": 10,
   "id": "19ede1f6",
   "metadata": {},
   "outputs": [
    {
     "data": {
      "text/html": [
       "<div>\n",
       "<style scoped>\n",
       "    .dataframe tbody tr th:only-of-type {\n",
       "        vertical-align: middle;\n",
       "    }\n",
       "\n",
       "    .dataframe tbody tr th {\n",
       "        vertical-align: top;\n",
       "    }\n",
       "\n",
       "    .dataframe thead th {\n",
       "        text-align: right;\n",
       "    }\n",
       "</style>\n",
       "<table border=\"1\" class=\"dataframe\">\n",
       "  <thead>\n",
       "    <tr style=\"text-align: right;\">\n",
       "      <th></th>\n",
       "      <th>month</th>\n",
       "      <th>시도</th>\n",
       "      <th>avg_temp(C)</th>\n",
       "      <th>daily_rain(mm)</th>\n",
       "      <th>avg_wind(m/s)</th>\n",
       "      <th>avg_r_humidity(%)</th>\n",
       "    </tr>\n",
       "  </thead>\n",
       "  <tbody>\n",
       "    <tr>\n",
       "      <th>0</th>\n",
       "      <td>1</td>\n",
       "      <td>강원도</td>\n",
       "      <td>-4.4</td>\n",
       "      <td>0.2</td>\n",
       "      <td>1.4</td>\n",
       "      <td>60.0</td>\n",
       "    </tr>\n",
       "    <tr>\n",
       "      <th>1</th>\n",
       "      <td>1</td>\n",
       "      <td>경기도</td>\n",
       "      <td>-3.3</td>\n",
       "      <td>0.3</td>\n",
       "      <td>1.6</td>\n",
       "      <td>58.9</td>\n",
       "    </tr>\n",
       "    <tr>\n",
       "      <th>2</th>\n",
       "      <td>1</td>\n",
       "      <td>경상남도</td>\n",
       "      <td>0.1</td>\n",
       "      <td>0.4</td>\n",
       "      <td>1.6</td>\n",
       "      <td>54.5</td>\n",
       "    </tr>\n",
       "    <tr>\n",
       "      <th>3</th>\n",
       "      <td>1</td>\n",
       "      <td>경상북도</td>\n",
       "      <td>-0.3</td>\n",
       "      <td>0.6</td>\n",
       "      <td>2.3</td>\n",
       "      <td>50.7</td>\n",
       "    </tr>\n",
       "    <tr>\n",
       "      <th>4</th>\n",
       "      <td>1</td>\n",
       "      <td>부산광역시</td>\n",
       "      <td>3.1</td>\n",
       "      <td>0.5</td>\n",
       "      <td>3.3</td>\n",
       "      <td>41.8</td>\n",
       "    </tr>\n",
       "  </tbody>\n",
       "</table>\n",
       "</div>"
      ],
      "text/plain": [
       "   month     시도  avg_temp(C)  daily_rain(mm)  avg_wind(m/s)  avg_r_humidity(%)\n",
       "0      1    강원도         -4.4             0.2            1.4               60.0\n",
       "1      1    경기도         -3.3             0.3            1.6               58.9\n",
       "2      1   경상남도          0.1             0.4            1.6               54.5\n",
       "3      1   경상북도         -0.3             0.6            2.3               50.7\n",
       "4      1  부산광역시          3.1             0.5            3.3               41.8"
      ]
     },
     "execution_count": 10,
     "metadata": {},
     "output_type": "execute_result"
    }
   ],
   "source": [
    "other.head()"
   ]
  },
  {
   "cell_type": "code",
   "execution_count": 8,
   "id": "316e12c0",
   "metadata": {},
   "outputs": [],
   "source": [
    "occur=pd.read_csv(\"month_occur_weather.csv\", encoding='utf-8-sig')"
   ]
  },
  {
   "cell_type": "code",
   "execution_count": 11,
   "id": "24ce52c1",
   "metadata": {},
   "outputs": [
    {
     "data": {
      "text/html": [
       "<div>\n",
       "<style scoped>\n",
       "    .dataframe tbody tr th:only-of-type {\n",
       "        vertical-align: middle;\n",
       "    }\n",
       "\n",
       "    .dataframe tbody tr th {\n",
       "        vertical-align: top;\n",
       "    }\n",
       "\n",
       "    .dataframe thead th {\n",
       "        text-align: right;\n",
       "    }\n",
       "</style>\n",
       "<table border=\"1\" class=\"dataframe\">\n",
       "  <thead>\n",
       "    <tr style=\"text-align: right;\">\n",
       "      <th></th>\n",
       "      <th>month</th>\n",
       "      <th>시도</th>\n",
       "      <th>avg_temp(C)</th>\n",
       "      <th>daily_rain(mm)</th>\n",
       "      <th>avg_wind(m/s)</th>\n",
       "      <th>avg_r_humidity(%)</th>\n",
       "      <th>cnt</th>\n",
       "    </tr>\n",
       "  </thead>\n",
       "  <tbody>\n",
       "    <tr>\n",
       "      <th>0</th>\n",
       "      <td>1</td>\n",
       "      <td>강원도</td>\n",
       "      <td>2.6</td>\n",
       "      <td>0.0</td>\n",
       "      <td>1.4</td>\n",
       "      <td>62.5</td>\n",
       "      <td>2</td>\n",
       "    </tr>\n",
       "    <tr>\n",
       "      <th>1</th>\n",
       "      <td>1</td>\n",
       "      <td>경기도</td>\n",
       "      <td>-3.4</td>\n",
       "      <td>0.6</td>\n",
       "      <td>1.6</td>\n",
       "      <td>63.2</td>\n",
       "      <td>66</td>\n",
       "    </tr>\n",
       "    <tr>\n",
       "      <th>2</th>\n",
       "      <td>1</td>\n",
       "      <td>경상남도</td>\n",
       "      <td>-1.0</td>\n",
       "      <td>0.0</td>\n",
       "      <td>1.8</td>\n",
       "      <td>54.0</td>\n",
       "      <td>12</td>\n",
       "    </tr>\n",
       "    <tr>\n",
       "      <th>3</th>\n",
       "      <td>1</td>\n",
       "      <td>경상북도</td>\n",
       "      <td>-0.9</td>\n",
       "      <td>0.1</td>\n",
       "      <td>1.7</td>\n",
       "      <td>50.2</td>\n",
       "      <td>3</td>\n",
       "    </tr>\n",
       "    <tr>\n",
       "      <th>4</th>\n",
       "      <td>1</td>\n",
       "      <td>부산광역시</td>\n",
       "      <td>6.1</td>\n",
       "      <td>0.0</td>\n",
       "      <td>1.1</td>\n",
       "      <td>58.0</td>\n",
       "      <td>2</td>\n",
       "    </tr>\n",
       "  </tbody>\n",
       "</table>\n",
       "</div>"
      ],
      "text/plain": [
       "   month     시도  avg_temp(C)  daily_rain(mm)  avg_wind(m/s)  \\\n",
       "0      1    강원도          2.6             0.0            1.4   \n",
       "1      1    경기도         -3.4             0.6            1.6   \n",
       "2      1   경상남도         -1.0             0.0            1.8   \n",
       "3      1   경상북도         -0.9             0.1            1.7   \n",
       "4      1  부산광역시          6.1             0.0            1.1   \n",
       "\n",
       "   avg_r_humidity(%)  cnt  \n",
       "0               62.5    2  \n",
       "1               63.2   66  \n",
       "2               54.0   12  \n",
       "3               50.2    3  \n",
       "4               58.0    2  "
      ]
     },
     "execution_count": 11,
     "metadata": {},
     "output_type": "execute_result"
    }
   ],
   "source": [
    "occur.head()"
   ]
  },
  {
   "cell_type": "markdown",
   "id": "5140936e",
   "metadata": {},
   "source": [
    "#### RISK TABLE SET 제작\n",
    "    1. occur과 non_occur과의 관계성이 나와있는 것만으로 table을 제작함\n",
    "    2. 여름 5-9월 까지는 상대적으로 낮은 온도에서 발생하는 경향이 있음. (7~9월은 data 부족으로 판단)\n",
    "       반면에 겨울에는 겨울 평상시 온도보다 약간 더 높은 온도에서 발생하는 경향이 있음 (12~2월) \n",
    "    3. 여름 5-9월 까지는 상대적으로 낮은 강수량일 경우 발생하는 경향이 있음. (7~9월은 data 부족으로 판단)\n",
    "    4. 즉 12~2월은 온도가 겨울 평균온도보다 차이별로 높을경우 적용, 5~9월은 여름 평균온도보다 차이별로 낮을경우 적용"
   ]
  },
  {
   "cell_type": "code",
   "execution_count": 29,
   "id": "dabe3667",
   "metadata": {},
   "outputs": [
    {
     "data": {
      "text/plain": [
       "3.227272727272728"
      ]
     },
     "execution_count": 29,
     "metadata": {},
     "output_type": "execute_result"
    }
   ],
   "source": [
    "# 예시\n",
    "occur.query(\"month==2\")['avg_temp(C)'].mean()"
   ]
  },
  {
   "cell_type": "code",
   "execution_count": 30,
   "id": "def0c39a",
   "metadata": {},
   "outputs": [
    {
     "data": {
      "text/plain": [
       "1.4363636363636363"
      ]
     },
     "execution_count": 30,
     "metadata": {},
     "output_type": "execute_result"
    }
   ],
   "source": [
    "other.query(\"month==2\")['avg_temp(C)'].mean()"
   ]
  },
  {
   "cell_type": "code",
   "execution_count": 37,
   "id": "0de5f143",
   "metadata": {},
   "outputs": [],
   "source": [
    "month=[1,2,5,6,7,9,12]\n",
    "cols_name=['month','avg_temp(C)','daily_rain(mm)','risk']\n",
    "data=pd.DataFrame(columns=cols_name)\n",
    "for mon in month:\n",
    "    dic={}\n",
    "    dic['month']=[mon,mon]\n",
    "    avg_temp=np.round(other.query(\"month==@mon\")['avg_temp(C)'].mean(),2)\n",
    "    if mon in [5,6,7,9]:\n",
    "        avg_rain=np.round(other.query(\"month==@mon\")['daily_rain(mm)'].mean(),2)\n",
    "        diff_temp=np.round(occur.query(\"month==@mon\")['avg_temp(C)'].mean(),2)\n",
    "        diff_rain=np.round(occur.query(\"month==@mon\")['daily_rain(mm)'].mean(),2)\n",
    "        dic['avg_temp(C)']=[avg_temp,diff_temp]\n",
    "        dic['daily_rain(mm)']=[avg_rain, diff_rain]\n",
    "    else:\n",
    "        avg_rain=np.nan\n",
    "        diff_temp=np.round(occur.query(\"month==@mon\")['avg_temp(C)'].mean(),2)\n",
    "        dic['avg_temp(C)']=[avg_temp,diff_temp]\n",
    "        dic['daily_rain(mm)']=[avg_rain,avg_rain]\n",
    "    dic['risk']=[0,10]\n",
    "    temp=pd.DataFrame.from_dict(dic)\n",
    "    data=pd.concat([data, temp], axis=0)\n",
    "    data.reset_index(inplace=True, drop=True)"
   ]
  },
  {
   "cell_type": "code",
   "execution_count": 38,
   "id": "ef090cd5",
   "metadata": {},
   "outputs": [
    {
     "data": {
      "text/html": [
       "<div>\n",
       "<style scoped>\n",
       "    .dataframe tbody tr th:only-of-type {\n",
       "        vertical-align: middle;\n",
       "    }\n",
       "\n",
       "    .dataframe tbody tr th {\n",
       "        vertical-align: top;\n",
       "    }\n",
       "\n",
       "    .dataframe thead th {\n",
       "        text-align: right;\n",
       "    }\n",
       "</style>\n",
       "<table border=\"1\" class=\"dataframe\">\n",
       "  <thead>\n",
       "    <tr style=\"text-align: right;\">\n",
       "      <th></th>\n",
       "      <th>month</th>\n",
       "      <th>avg_temp(C)</th>\n",
       "      <th>daily_rain(mm)</th>\n",
       "      <th>risk</th>\n",
       "    </tr>\n",
       "  </thead>\n",
       "  <tbody>\n",
       "    <tr>\n",
       "      <th>0</th>\n",
       "      <td>1</td>\n",
       "      <td>-1.07</td>\n",
       "      <td>NaN</td>\n",
       "      <td>0</td>\n",
       "    </tr>\n",
       "    <tr>\n",
       "      <th>1</th>\n",
       "      <td>1</td>\n",
       "      <td>0.48</td>\n",
       "      <td>NaN</td>\n",
       "      <td>10</td>\n",
       "    </tr>\n",
       "    <tr>\n",
       "      <th>2</th>\n",
       "      <td>2</td>\n",
       "      <td>1.44</td>\n",
       "      <td>NaN</td>\n",
       "      <td>0</td>\n",
       "    </tr>\n",
       "    <tr>\n",
       "      <th>3</th>\n",
       "      <td>2</td>\n",
       "      <td>3.23</td>\n",
       "      <td>NaN</td>\n",
       "      <td>10</td>\n",
       "    </tr>\n",
       "    <tr>\n",
       "      <th>4</th>\n",
       "      <td>5</td>\n",
       "      <td>18.56</td>\n",
       "      <td>2.66</td>\n",
       "      <td>0</td>\n",
       "    </tr>\n",
       "    <tr>\n",
       "      <th>5</th>\n",
       "      <td>5</td>\n",
       "      <td>16.61</td>\n",
       "      <td>3.00</td>\n",
       "      <td>10</td>\n",
       "    </tr>\n",
       "    <tr>\n",
       "      <th>6</th>\n",
       "      <td>6</td>\n",
       "      <td>22.32</td>\n",
       "      <td>4.52</td>\n",
       "      <td>0</td>\n",
       "    </tr>\n",
       "    <tr>\n",
       "      <th>7</th>\n",
       "      <td>6</td>\n",
       "      <td>20.79</td>\n",
       "      <td>1.32</td>\n",
       "      <td>10</td>\n",
       "    </tr>\n",
       "    <tr>\n",
       "      <th>8</th>\n",
       "      <td>7</td>\n",
       "      <td>25.10</td>\n",
       "      <td>10.40</td>\n",
       "      <td>0</td>\n",
       "    </tr>\n",
       "    <tr>\n",
       "      <th>9</th>\n",
       "      <td>7</td>\n",
       "      <td>27.20</td>\n",
       "      <td>5.10</td>\n",
       "      <td>10</td>\n",
       "    </tr>\n",
       "    <tr>\n",
       "      <th>10</th>\n",
       "      <td>9</td>\n",
       "      <td>22.35</td>\n",
       "      <td>4.95</td>\n",
       "      <td>0</td>\n",
       "    </tr>\n",
       "    <tr>\n",
       "      <th>11</th>\n",
       "      <td>9</td>\n",
       "      <td>21.05</td>\n",
       "      <td>6.10</td>\n",
       "      <td>10</td>\n",
       "    </tr>\n",
       "    <tr>\n",
       "      <th>12</th>\n",
       "      <td>12</td>\n",
       "      <td>0.28</td>\n",
       "      <td>NaN</td>\n",
       "      <td>0</td>\n",
       "    </tr>\n",
       "    <tr>\n",
       "      <th>13</th>\n",
       "      <td>12</td>\n",
       "      <td>1.89</td>\n",
       "      <td>NaN</td>\n",
       "      <td>10</td>\n",
       "    </tr>\n",
       "  </tbody>\n",
       "</table>\n",
       "</div>"
      ],
      "text/plain": [
       "   month  avg_temp(C)  daily_rain(mm) risk\n",
       "0      1        -1.07             NaN    0\n",
       "1      1         0.48             NaN   10\n",
       "2      2         1.44             NaN    0\n",
       "3      2         3.23             NaN   10\n",
       "4      5        18.56            2.66    0\n",
       "5      5        16.61            3.00   10\n",
       "6      6        22.32            4.52    0\n",
       "7      6        20.79            1.32   10\n",
       "8      7        25.10           10.40    0\n",
       "9      7        27.20            5.10   10\n",
       "10     9        22.35            4.95    0\n",
       "11     9        21.05            6.10   10\n",
       "12    12         0.28             NaN    0\n",
       "13    12         1.89             NaN   10"
      ]
     },
     "execution_count": 38,
     "metadata": {},
     "output_type": "execute_result"
    }
   ],
   "source": [
    "data"
   ]
  },
  {
   "cell_type": "code",
   "execution_count": null,
   "id": "261f84bf",
   "metadata": {},
   "outputs": [],
   "source": []
  },
  {
   "cell_type": "code",
   "execution_count": null,
   "id": "3ee4a4ab",
   "metadata": {},
   "outputs": [],
   "source": []
  },
  {
   "cell_type": "code",
   "execution_count": null,
   "id": "478b7776",
   "metadata": {},
   "outputs": [],
   "source": []
  },
  {
   "cell_type": "code",
   "execution_count": 243,
   "id": "3913b76a",
   "metadata": {},
   "outputs": [
    {
     "name": "stderr",
     "output_type": "stream",
     "text": [
      "100%|████████████████████████████████████████████████████████████████████████████████| 204/204 [00:04<00:00, 50.83it/s]\n"
     ]
    }
   ],
   "source": [
    "# 등분 기준 만들기\n",
    "for n, group in tqdm(table.groupby(['month','시도'])):\n",
    "    mon=n[0]\n",
    "    sido=n[1]\n",
    "    if sido=='대전광역시':  # 아예 없는 data\n",
    "        sido='충청남도'\n",
    "    occ=occur.query('month==@mon and 시도==@sido').reset_index(drop=True)\n",
    "    oth=other.query('month==@mon and 시도==@sido').reset_index(drop=True)\n",
    "    for col in cols_weather:\n",
    "        if len(occ)!=0: # data가 있는 경우만..\n",
    "            max_val=occ.loc[0,col]  # occur에 가까울수록 최고 점수\n",
    "            min_val=oth.loc[0,col] # other에 가까울수록 최저 점수\n",
    "            if max_val!=min_val:  # 두 data가 서로 같은 값이 아닌 경우\n",
    "                table.loc[group.index[0],'index_'+col]= 10 # 최고 점수\n",
    "                table.loc[group.index[0],col]=max_val\n",
    "                table.loc[group.index[-1],'index_'+col]=0  # 최저 점수\n",
    "                table.loc[group.index[-1],col]=min_val\n",
    "                for index in group.index[1:-1]:\n",
    "                    table.loc[index,'index_'+col]=table.loc[index-1,'index_'+col]-1\n",
    "                    temp=np.round(table.loc[index-1,col]-((max_val-min_val)/len(group.index)), 3)  # 소수 셋째자리까지 등분\n",
    "                    table.loc[index,col]=temp\n",
    "            else: # 두 데이터 값이 서로 같은 경우는 가중치 0점 부여\n",
    "                for index in group.index:\n",
    "                    table.loc[index,'index_'+col]=0\n",
    "                    table.loc[index,col]=max_val\n",
    "    \n",
    "        else: # data가 없는 경우.. 발생하지 않는다라고 가정!, 가중치 0점 부여\n",
    "            for index in group.index:\n",
    "                table.loc[index,'index_'+col]=0\n",
    "                table.loc[index,col]=0  # 실제 값도 0으로 일단 제작"
   ]
  },
  {
   "cell_type": "code",
   "execution_count": 244,
   "id": "88e1f8ec",
   "metadata": {
    "scrolled": true
   },
   "outputs": [],
   "source": [
    "# Risk 값 부여\n",
    "for i in range(len(table)):\n",
    "    cnt=0\n",
    "    for col in cols_weight.keys():\n",
    "        cnt+=table.loc[i,col]*cols_weight[col]\n",
    "    table.loc[i,'Risk']=cnt"
   ]
  },
  {
   "cell_type": "code",
   "execution_count": 245,
   "id": "cd28a3e8",
   "metadata": {},
   "outputs": [],
   "source": [
    "table.to_csv(\"Weather_Risk_table.csv\", encoding='utf-8-sig', index=False)"
   ]
  },
  {
   "cell_type": "code",
   "execution_count": null,
   "id": "e1652df7",
   "metadata": {},
   "outputs": [],
   "source": []
  }
 ],
 "metadata": {
  "kernelspec": {
   "display_name": "Python 3",
   "language": "python",
   "name": "python3"
  },
  "language_info": {
   "codemirror_mode": {
    "name": "ipython",
    "version": 3
   },
   "file_extension": ".py",
   "mimetype": "text/x-python",
   "name": "python",
   "nbconvert_exporter": "python",
   "pygments_lexer": "ipython3",
   "version": "3.8.10"
  }
 },
 "nbformat": 4,
 "nbformat_minor": 5
}
