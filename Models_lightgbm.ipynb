{
 "cells": [
  {
   "cell_type": "code",
   "execution_count": 1,
   "metadata": {},
   "outputs": [],
   "source": [
    "from lightgbm import LGBMClassifier\n",
    "from sklearn.model_selection import train_test_split\n",
    "from sklearn.ensemble import RandomForestClassifier\n",
    "from sklearn.metrics import accuracy_score\n",
    "from tensorflow.keras.utils import to_categorical\n",
    "import pandas as pd\n",
    "import numpy as np\n",
    "from sklearn.datasets import load_breast_cancer\n",
    "from sklearn.model_selection import train_test_split\n",
    "from sklearn.preprocessing import StandardScaler"
   ]
  },
  {
   "cell_type": "code",
   "execution_count": 2,
   "metadata": {},
   "outputs": [],
   "source": [
    "total_df=pd.read_csv(\"risk_data/Train_data_set.csv\", encoding='utf-8-sig')"
   ]
  },
  {
   "cell_type": "code",
   "execution_count": 3,
   "metadata": {},
   "outputs": [
    {
     "data": {
      "text/html": [
       "<div>\n",
       "<style scoped>\n",
       "    .dataframe tbody tr th:only-of-type {\n",
       "        vertical-align: middle;\n",
       "    }\n",
       "\n",
       "    .dataframe tbody tr th {\n",
       "        vertical-align: top;\n",
       "    }\n",
       "\n",
       "    .dataframe thead th {\n",
       "        text-align: right;\n",
       "    }\n",
       "</style>\n",
       "<table border=\"1\" class=\"dataframe\">\n",
       "  <thead>\n",
       "    <tr style=\"text-align: right;\">\n",
       "      <th></th>\n",
       "      <th>month</th>\n",
       "      <th>day</th>\n",
       "      <th>시군구index</th>\n",
       "      <th>철새수</th>\n",
       "      <th>최초발생거리</th>\n",
       "      <th>평균온도</th>\n",
       "      <th>일강수량</th>\n",
       "      <th>위험도</th>\n",
       "    </tr>\n",
       "  </thead>\n",
       "  <tbody>\n",
       "    <tr>\n",
       "      <th>0</th>\n",
       "      <td>1</td>\n",
       "      <td>1</td>\n",
       "      <td>0</td>\n",
       "      <td>2262</td>\n",
       "      <td>0</td>\n",
       "      <td>-1.8</td>\n",
       "      <td>0.0</td>\n",
       "      <td>8.4</td>\n",
       "    </tr>\n",
       "    <tr>\n",
       "      <th>1</th>\n",
       "      <td>1</td>\n",
       "      <td>1</td>\n",
       "      <td>0</td>\n",
       "      <td>2262</td>\n",
       "      <td>10</td>\n",
       "      <td>-1.8</td>\n",
       "      <td>0.0</td>\n",
       "      <td>8.4</td>\n",
       "    </tr>\n",
       "    <tr>\n",
       "      <th>2</th>\n",
       "      <td>1</td>\n",
       "      <td>1</td>\n",
       "      <td>0</td>\n",
       "      <td>2262</td>\n",
       "      <td>20</td>\n",
       "      <td>-1.8</td>\n",
       "      <td>0.0</td>\n",
       "      <td>8.4</td>\n",
       "    </tr>\n",
       "    <tr>\n",
       "      <th>3</th>\n",
       "      <td>1</td>\n",
       "      <td>1</td>\n",
       "      <td>0</td>\n",
       "      <td>2262</td>\n",
       "      <td>30</td>\n",
       "      <td>-1.8</td>\n",
       "      <td>0.0</td>\n",
       "      <td>8.4</td>\n",
       "    </tr>\n",
       "    <tr>\n",
       "      <th>4</th>\n",
       "      <td>1</td>\n",
       "      <td>1</td>\n",
       "      <td>0</td>\n",
       "      <td>2262</td>\n",
       "      <td>40</td>\n",
       "      <td>-1.8</td>\n",
       "      <td>0.0</td>\n",
       "      <td>8.4</td>\n",
       "    </tr>\n",
       "  </tbody>\n",
       "</table>\n",
       "</div>"
      ],
      "text/plain": [
       "   month  day  시군구index   철새수  최초발생거리  평균온도  일강수량  위험도\n",
       "0      1    1         0  2262       0  -1.8   0.0  8.4\n",
       "1      1    1         0  2262      10  -1.8   0.0  8.4\n",
       "2      1    1         0  2262      20  -1.8   0.0  8.4\n",
       "3      1    1         0  2262      30  -1.8   0.0  8.4\n",
       "4      1    1         0  2262      40  -1.8   0.0  8.4"
      ]
     },
     "execution_count": 3,
     "metadata": {},
     "output_type": "execute_result"
    }
   ],
   "source": [
    "total_df.head()"
   ]
  },
  {
   "cell_type": "code",
   "execution_count": 4,
   "metadata": {},
   "outputs": [],
   "source": [
    "train_data=total_df.drop(['위험도'], axis=1)\n",
    "target_data=total_df[['위험도']].astype('str')"
   ]
  },
  {
   "cell_type": "code",
   "execution_count": 5,
   "metadata": {},
   "outputs": [],
   "source": [
    "x_train, x_test, y_train, y_test = train_test_split(train_data, target_data, test_size = 0.2, random_state = 156)"
   ]
  },
  {
   "cell_type": "code",
   "execution_count": 6,
   "metadata": {},
   "outputs": [],
   "source": [
    "lgbm_wrapper = LGBMClassifier()"
   ]
  },
  {
   "cell_type": "code",
   "execution_count": 7,
   "metadata": {},
   "outputs": [
    {
     "name": "stderr",
     "output_type": "stream",
     "text": [
      "C:\\Users\\user\\.conda\\envs\\my_env\\lib\\site-packages\\sklearn\\utils\\validation.py:72: DataConversionWarning: A column-vector y was passed when a 1d array was expected. Please change the shape of y to (n_samples, ), for example using ravel().\n",
      "  return f(**kwargs)\n"
     ]
    },
    {
     "name": "stdout",
     "output_type": "stream",
     "text": [
      "[1]\tvalid_0's multi_logloss: 2.00783\n",
      "Training until validation scores don't improve for 50 rounds\n",
      "[2]\tvalid_0's multi_logloss: 1.96269\n",
      "[3]\tvalid_0's multi_logloss: 2.03468\n",
      "[4]\tvalid_0's multi_logloss: 2.37121\n",
      "[5]\tvalid_0's multi_logloss: 2.61531\n",
      "[6]\tvalid_0's multi_logloss: 2.82635\n",
      "[7]\tvalid_0's multi_logloss: 2.98623\n",
      "[8]\tvalid_0's multi_logloss: 3.08569\n",
      "[9]\tvalid_0's multi_logloss: 3.22992\n",
      "[10]\tvalid_0's multi_logloss: 3.28553\n",
      "[11]\tvalid_0's multi_logloss: 3.71345\n",
      "[12]\tvalid_0's multi_logloss: 3.97804\n",
      "[13]\tvalid_0's multi_logloss: 4.08862\n",
      "[14]\tvalid_0's multi_logloss: 4.47559\n",
      "[15]\tvalid_0's multi_logloss: 4.56681\n",
      "[16]\tvalid_0's multi_logloss: 4.76155\n",
      "[17]\tvalid_0's multi_logloss: 4.6412\n",
      "[18]\tvalid_0's multi_logloss: 5.00382\n",
      "[19]\tvalid_0's multi_logloss: 5.29192\n",
      "[20]\tvalid_0's multi_logloss: 5.6317\n",
      "[21]\tvalid_0's multi_logloss: 5.70286\n",
      "[22]\tvalid_0's multi_logloss: 6.01653\n",
      "[23]\tvalid_0's multi_logloss: 6.53708\n",
      "[24]\tvalid_0's multi_logloss: 7.08908\n",
      "[25]\tvalid_0's multi_logloss: 7.76228\n",
      "[26]\tvalid_0's multi_logloss: 7.57538\n",
      "[27]\tvalid_0's multi_logloss: 7.93932\n",
      "[28]\tvalid_0's multi_logloss: 8.09335\n",
      "[29]\tvalid_0's multi_logloss: 8.80994\n",
      "[30]\tvalid_0's multi_logloss: 9.97161\n",
      "[31]\tvalid_0's multi_logloss: 11.0115\n",
      "[32]\tvalid_0's multi_logloss: 11.3969\n",
      "[33]\tvalid_0's multi_logloss: 11.9239\n",
      "[34]\tvalid_0's multi_logloss: 12.2277\n",
      "[35]\tvalid_0's multi_logloss: 13.0279\n",
      "[36]\tvalid_0's multi_logloss: 14.2747\n",
      "[37]\tvalid_0's multi_logloss: 15.108\n",
      "[38]\tvalid_0's multi_logloss: 16.6368\n",
      "[39]\tvalid_0's multi_logloss: 17.3465\n",
      "[40]\tvalid_0's multi_logloss: 17.7697\n",
      "[41]\tvalid_0's multi_logloss: 18.4733\n",
      "[42]\tvalid_0's multi_logloss: 19.5669\n",
      "[43]\tvalid_0's multi_logloss: 20.0572\n",
      "[44]\tvalid_0's multi_logloss: 20.952\n",
      "[45]\tvalid_0's multi_logloss: 22.9408\n",
      "[46]\tvalid_0's multi_logloss: 24.0994\n",
      "[47]\tvalid_0's multi_logloss: 26.4713\n",
      "[48]\tvalid_0's multi_logloss: 28.0839\n",
      "[49]\tvalid_0's multi_logloss: 30.8514\n",
      "[50]\tvalid_0's multi_logloss: 31.3359\n",
      "[51]\tvalid_0's multi_logloss: 31.2686\n",
      "[52]\tvalid_0's multi_logloss: 32.0795\n",
      "Early stopping, best iteration is:\n",
      "[2]\tvalid_0's multi_logloss: 1.96269\n"
     ]
    },
    {
     "data": {
      "text/plain": [
       "LGBMClassifier()"
      ]
     },
     "execution_count": 7,
     "metadata": {},
     "output_type": "execute_result"
    }
   ],
   "source": [
    "evals = [(x_test, y_test)]\n",
    "lgbm_wrapper.fit(x_train, np.ravel(y_train), early_stopping_rounds=50, eval_metric='logloss', eval_set=evals, verbose=True)"
   ]
  },
  {
   "cell_type": "code",
   "execution_count": 8,
   "metadata": {},
   "outputs": [],
   "source": [
    "preds = lgbm_wrapper.predict(x_test) \n",
    "pred_proba = lgbm_wrapper.predict_proba(x_test)[:,1]"
   ]
  },
  {
   "cell_type": "code",
   "execution_count": 9,
   "metadata": {},
   "outputs": [],
   "source": [
    "# get_clf_eval 활용 \n",
    "\n",
    "# XGB 모델 예측 성능 평가 \n",
    "\n",
    "from sklearn.metrics import confusion_matrix, accuracy_score \n",
    "from sklearn.metrics import precision_score, recall_score \n",
    "from sklearn.metrics import f1_score, roc_auc_score"
   ]
  },
  {
   "cell_type": "code",
   "execution_count": 10,
   "metadata": {},
   "outputs": [
    {
     "name": "stdout",
     "output_type": "stream",
     "text": [
      "오차 행렬\n",
      "[[54128     0     0 ...     0     0     0]\n",
      " [  634  5591     0 ...     0     0     0]\n",
      " [    0     0 11085 ...     0     0     0]\n",
      " ...\n",
      " [    2     0     0 ...   114     0     0]\n",
      " [    0     0     0 ...    20   251     0]\n",
      " [    0     0     0 ...    20     0   129]]\n",
      "정확도: 0.7211, 정밀도: 0.7211, 재현율: 0.7211,\\ F1: 0.7211\n"
     ]
    }
   ],
   "source": [
    "def get_clf_eval(y_test , pred): \n",
    "    confusion = confusion_matrix(y_test, pred) \n",
    "    accuracy = accuracy_score(y_test , pred) \n",
    "    precision = precision_score(y_test , pred, average='micro') \n",
    "    recall = recall_score(y_test , pred, average='micro') \n",
    "    f1 = f1_score(y_test,pred, average='micro') \n",
    "    #print(y_test.shape)\n",
    "    #print(pred.shape)\n",
    "    print('오차 행렬') \n",
    "    print(confusion) \n",
    "    print('정확도: {0:.4f}, 정밀도: {1:.4f}, 재현율: {2:.4f},\\ F1: {3:.4f}'.format(accuracy, precision, recall, f1)) \n",
    "    \n",
    "get_clf_eval(y_test, preds)"
   ]
  },
  {
   "cell_type": "code",
   "execution_count": null,
   "metadata": {},
   "outputs": [],
   "source": [
    "# 모델 저장\n",
    "import joblib\n",
    "joblib.dump(lgbm_wrapper, 'model/lightgbm2.pkl')"
   ]
  }
 ],
 "metadata": {
  "kernelspec": {
   "display_name": "Python 3",
   "language": "python",
   "name": "python3"
  },
  "language_info": {
   "codemirror_mode": {
    "name": "ipython",
    "version": 3
   },
   "file_extension": ".py",
   "mimetype": "text/x-python",
   "name": "python",
   "nbconvert_exporter": "python",
   "pygments_lexer": "ipython3",
   "version": "3.8.5"
  }
 },
 "nbformat": 4,
 "nbformat_minor": 4
}
