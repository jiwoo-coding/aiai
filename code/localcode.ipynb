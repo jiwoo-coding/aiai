{
 "cells": [
  {
   "cell_type": "code",
   "execution_count": 129,
   "id": "a7cf1a43",
   "metadata": {},
   "outputs": [],
   "source": [
    "import pandas as pd"
   ]
  },
  {
   "cell_type": "code",
   "execution_count": 130,
   "id": "794a7c8b",
   "metadata": {},
   "outputs": [],
   "source": [
    "temp = pd.read_csv(\"C:/Users/tlsgh/문서/code/aiai/data/hpaiOccurlist.csv\")"
   ]
  },
  {
   "cell_type": "code",
   "execution_count": 131,
   "id": "973db075",
   "metadata": {},
   "outputs": [],
   "source": [
    "hpai = temp.copy()"
   ]
  },
  {
   "cell_type": "code",
   "execution_count": 132,
   "id": "52194e27",
   "metadata": {
    "scrolled": true
   },
   "outputs": [],
   "source": [
    "temp = pd.read_excel(\"C:/Users/tlsgh/문서/code/aiai/data/localcode.xlsx\")"
   ]
  },
  {
   "cell_type": "code",
   "execution_count": 133,
   "id": "1eeffded",
   "metadata": {},
   "outputs": [],
   "source": [
    "localcode = temp.copy()"
   ]
  },
  {
   "cell_type": "code",
   "execution_count": 134,
   "id": "ee2a31c9",
   "metadata": {},
   "outputs": [],
   "source": [
    "hpai['지역코드']='\\0'"
   ]
  },
  {
   "cell_type": "code",
   "execution_count": 135,
   "id": "498f08f0",
   "metadata": {},
   "outputs": [
    {
     "data": {
      "text/plain": [
       "'\\x00'"
      ]
     },
     "execution_count": 135,
     "metadata": {},
     "output_type": "execute_result"
    }
   ],
   "source": [
    "hpai.iloc[0]['지역코드']"
   ]
  },
  {
   "cell_type": "code",
   "execution_count": 136,
   "id": "f8451830",
   "metadata": {},
   "outputs": [
    {
     "data": {
      "text/plain": [
       "{}"
      ]
     },
     "execution_count": 136,
     "metadata": {},
     "output_type": "execute_result"
    }
   ],
   "source": [
    "code_dict = {}\n",
    "code_dict"
   ]
  },
  {
   "cell_type": "code",
   "execution_count": 137,
   "id": "4d02dd2c",
   "metadata": {},
   "outputs": [],
   "source": [
    "for x, y in zip(localcode['지점명'],localcode['지점']):\n",
    "    code_dict[x]=y"
   ]
  },
  {
   "cell_type": "code",
   "execution_count": 138,
   "id": "3a68dbfd",
   "metadata": {},
   "outputs": [
    {
     "name": "stdout",
     "output_type": "stream",
     "text": [
      "{'속초': 90, '북춘천': 93, '철원': 95, '동두천': 98, '파주': 99, '대관령': 100, '춘천': 101, '백령도': 102, '북강릉': 104, '강릉': 105, '동해': 106, '서울': 108, '인천': 112, '원주': 114, '울릉도': 115, '수원': 119, '영월': 121, '충주': 127, '서산': 129, '울진': 130, '청주': 131, '대전': 133, '추풍령': 135, '안동': 136, '상주': 137, '포항': 138, '군산': 140, '대구': 143, '전주': 146, '울산': 152, '창원': 155, '광주': 156, '부산': 159, '통영': 162, '목포': 165, '여수': 168, '흑산도': 169, '완도': 170, '고창': 172, '순천': 174, '홍성': 177, '제주': 184, '고산': 185, '성산': 188, '서귀포': 189, '진주': 192, '강화': 201, '양평': 202, '이천': 203, '인제': 211, '홍천': 212, '태백': 216, '정선군': 217, '제천': 221, '보은': 226, '천안': 232, '보령': 235, '부여': 236, '금산': 238, '세종': 239, '부안': 243, '임실': 244, '정읍': 245, '남원': 247, '장수': 248, '고창군': 251, '영광군': 252, '김해시': 253, '순창군': 254, '북창원': 255, '양산시': 257, '보성군': 258, '강진군': 259, '장흥': 260, '해남': 261, '고흥': 262, '의령군': 263, '함양군': 264, '광양시': 266, '진도군': 268, '봉화': 271, '영주': 272, '문경': 273, '청송군': 276, '영덕': 277, '의성': 278, '구미': 279, '영천': 281, '경주시': 283, '거창': 284, '합천': 285, '밀양': 288, '산청': 289, '거제': 294, '남해': 295}\n"
     ]
    }
   ],
   "source": [
    "print(code_dict)"
   ]
  },
  {
   "cell_type": "code",
   "execution_count": 139,
   "id": "661b544f",
   "metadata": {},
   "outputs": [],
   "source": [
    "hpai['지역코드']='\\0'\n",
    "for i, address in enumerate(hpai['주소']):\n",
    "    for split_address in address.split(' '):\n",
    "        for local_address in code_dict.keys():\n",
    "            if local_address in split_address:\n",
    "                hpai.loc[i,'지역코드'] =code_dict[local_address]\n",
    "    if hpai.loc[i,'지역코드'] =='\\0':\n",
    "        hpai.loc[i,'지역코드'] =address.split(' ')[1][:-1]"
   ]
  },
  {
   "cell_type": "code",
   "execution_count": 140,
   "id": "0efc8a64",
   "metadata": {},
   "outputs": [
    {
     "data": {
      "text/html": [
       "<div>\n",
       "<style scoped>\n",
       "    .dataframe tbody tr th:only-of-type {\n",
       "        vertical-align: middle;\n",
       "    }\n",
       "\n",
       "    .dataframe tbody tr th {\n",
       "        vertical-align: top;\n",
       "    }\n",
       "\n",
       "    .dataframe thead th {\n",
       "        text-align: right;\n",
       "    }\n",
       "</style>\n",
       "<table border=\"1\" class=\"dataframe\">\n",
       "  <thead>\n",
       "    <tr style=\"text-align: right;\">\n",
       "      <th></th>\n",
       "      <th>번호</th>\n",
       "      <th>주소</th>\n",
       "      <th>축종</th>\n",
       "      <th>사육\\r\\n두수</th>\n",
       "      <th>진단일</th>\n",
       "      <th>발생일</th>\n",
       "      <th>지역코드</th>\n",
       "    </tr>\n",
       "  </thead>\n",
       "  <tbody>\n",
       "    <tr>\n",
       "      <th>0</th>\n",
       "      <td>1</td>\n",
       "      <td>전라남도 장흥군 장평면 양촌리</td>\n",
       "      <td>오리-육용오리</td>\n",
       "      <td>9500</td>\n",
       "      <td>2021-04-07</td>\n",
       "      <td>2021-04-06</td>\n",
       "      <td>260</td>\n",
       "    </tr>\n",
       "    <tr>\n",
       "      <th>1</th>\n",
       "      <td>2</td>\n",
       "      <td>전라남도 장흥군 장평면 양촌리</td>\n",
       "      <td>오리-육용오리</td>\n",
       "      <td>15500</td>\n",
       "      <td>2021-04-07</td>\n",
       "      <td>2021-04-06</td>\n",
       "      <td>260</td>\n",
       "    </tr>\n",
       "    <tr>\n",
       "      <th>2</th>\n",
       "      <td>3</td>\n",
       "      <td>전라남도 나주시 산포면 등수리</td>\n",
       "      <td>오리-육용오리</td>\n",
       "      <td>19000</td>\n",
       "      <td>2021-03-24</td>\n",
       "      <td>2021-03-23</td>\n",
       "      <td>나주</td>\n",
       "    </tr>\n",
       "    <tr>\n",
       "      <th>3</th>\n",
       "      <td>4</td>\n",
       "      <td>전라남도 장흥군 장평면 기동리</td>\n",
       "      <td>오리-육용오리</td>\n",
       "      <td>11800</td>\n",
       "      <td>2021-03-23</td>\n",
       "      <td>2021-03-22</td>\n",
       "      <td>260</td>\n",
       "    </tr>\n",
       "    <tr>\n",
       "      <th>4</th>\n",
       "      <td>5</td>\n",
       "      <td>전라남도 장흥군 장평면 기동리</td>\n",
       "      <td>오리-육용오리</td>\n",
       "      <td>20000</td>\n",
       "      <td>2021-03-22</td>\n",
       "      <td>2021-03-21</td>\n",
       "      <td>260</td>\n",
       "    </tr>\n",
       "    <tr>\n",
       "      <th>...</th>\n",
       "      <td>...</td>\n",
       "      <td>...</td>\n",
       "      <td>...</td>\n",
       "      <td>...</td>\n",
       "      <td>...</td>\n",
       "      <td>...</td>\n",
       "      <td>...</td>\n",
       "    </tr>\n",
       "    <tr>\n",
       "      <th>95</th>\n",
       "      <td>96</td>\n",
       "      <td>전라남도 구례군 용방면 용정리</td>\n",
       "      <td>오리-육용오리</td>\n",
       "      <td>16500</td>\n",
       "      <td>2020-12-27</td>\n",
       "      <td>2020-12-23</td>\n",
       "      <td>구례</td>\n",
       "    </tr>\n",
       "    <tr>\n",
       "      <th>96</th>\n",
       "      <td>97</td>\n",
       "      <td>전라남도 구례군 용방면 신도리</td>\n",
       "      <td>오리-육용오리</td>\n",
       "      <td>16000</td>\n",
       "      <td>2020-12-25</td>\n",
       "      <td>2020-12-23</td>\n",
       "      <td>구례</td>\n",
       "    </tr>\n",
       "    <tr>\n",
       "      <th>97</th>\n",
       "      <td>98</td>\n",
       "      <td>충청북도 음성군 감곡면 문촌리</td>\n",
       "      <td>오리-종오리</td>\n",
       "      <td>6000</td>\n",
       "      <td>2020-12-23</td>\n",
       "      <td>2020-12-22</td>\n",
       "      <td>음성</td>\n",
       "    </tr>\n",
       "    <tr>\n",
       "      <th>98</th>\n",
       "      <td>99</td>\n",
       "      <td>경기도 화성시 향남읍 상신리</td>\n",
       "      <td>닭-산란계</td>\n",
       "      <td>310000</td>\n",
       "      <td>2020-12-23</td>\n",
       "      <td>2020-12-22</td>\n",
       "      <td>화성</td>\n",
       "    </tr>\n",
       "    <tr>\n",
       "      <th>99</th>\n",
       "      <td>100</td>\n",
       "      <td>경기도 용인시 처인구 원삼면 문촌리</td>\n",
       "      <td>오리-종오리</td>\n",
       "      <td>6000</td>\n",
       "      <td>2020-12-23</td>\n",
       "      <td>2020-12-20</td>\n",
       "      <td>용인</td>\n",
       "    </tr>\n",
       "  </tbody>\n",
       "</table>\n",
       "<p>100 rows × 7 columns</p>\n",
       "</div>"
      ],
      "text/plain": [
       "     번호                   주소       축종  사육\\r\\n두수         진단일         발생일 지역코드\n",
       "0     1     전라남도 장흥군 장평면 양촌리  오리-육용오리      9500  2021-04-07  2021-04-06  260\n",
       "1     2     전라남도 장흥군 장평면 양촌리  오리-육용오리     15500  2021-04-07  2021-04-06  260\n",
       "2     3     전라남도 나주시 산포면 등수리  오리-육용오리     19000  2021-03-24  2021-03-23   나주\n",
       "3     4     전라남도 장흥군 장평면 기동리  오리-육용오리     11800  2021-03-23  2021-03-22  260\n",
       "4     5     전라남도 장흥군 장평면 기동리  오리-육용오리     20000  2021-03-22  2021-03-21  260\n",
       "..  ...                  ...      ...       ...         ...         ...  ...\n",
       "95   96     전라남도 구례군 용방면 용정리  오리-육용오리     16500  2020-12-27  2020-12-23   구례\n",
       "96   97     전라남도 구례군 용방면 신도리  오리-육용오리     16000  2020-12-25  2020-12-23   구례\n",
       "97   98     충청북도 음성군 감곡면 문촌리   오리-종오리      6000  2020-12-23  2020-12-22   음성\n",
       "98   99      경기도 화성시 향남읍 상신리    닭-산란계    310000  2020-12-23  2020-12-22   화성\n",
       "99  100  경기도 용인시 처인구 원삼면 문촌리   오리-종오리      6000  2020-12-23  2020-12-20   용인\n",
       "\n",
       "[100 rows x 7 columns]"
      ]
     },
     "execution_count": 140,
     "metadata": {},
     "output_type": "execute_result"
    }
   ],
   "source": [
    "hpai.iloc[:100]"
   ]
  },
  {
   "cell_type": "code",
   "execution_count": 141,
   "id": "41cbc80e",
   "metadata": {},
   "outputs": [],
   "source": [
    "count = 0\n",
    "for number in hpai['지역코드']:\n",
    "    if str(number).isalpha():\n",
    "        count = count + 1"
   ]
  },
  {
   "cell_type": "code",
   "execution_count": 142,
   "id": "1027a412",
   "metadata": {},
   "outputs": [
    {
     "name": "stdout",
     "output_type": "stream",
     "text": [
      "693\n"
     ]
    }
   ],
   "source": [
    "print(count)"
   ]
  },
  {
   "cell_type": "code",
   "execution_count": 148,
   "id": "71ab0387",
   "metadata": {},
   "outputs": [],
   "source": [
    "hpai.to_excel(\"C:/Users/tlsgh/문서/code/aiai/data/temp.xlsx\")"
   ]
  },
  {
   "cell_type": "code",
   "execution_count": 149,
   "id": "15524203",
   "metadata": {},
   "outputs": [
    {
     "data": {
      "text/plain": [
       "{101,\n",
       " 108,\n",
       " 112,\n",
       " 114,\n",
       " 119,\n",
       " 127,\n",
       " 129,\n",
       " 131,\n",
       " 133,\n",
       " 137,\n",
       " 138,\n",
       " 140,\n",
       " 143,\n",
       " 146,\n",
       " 152,\n",
       " 156,\n",
       " 159,\n",
       " 162,\n",
       " 168,\n",
       " 172,\n",
       " 174,\n",
       " 177,\n",
       " 184,\n",
       " 188,\n",
       " 192,\n",
       " 202,\n",
       " 203,\n",
       " 211,\n",
       " 232,\n",
       " 236,\n",
       " 238,\n",
       " 239,\n",
       " 243,\n",
       " 244,\n",
       " 245,\n",
       " 247,\n",
       " 248,\n",
       " 251,\n",
       " 252,\n",
       " 254,\n",
       " 257,\n",
       " 258,\n",
       " 259,\n",
       " 260,\n",
       " 261,\n",
       " 262,\n",
       " 268,\n",
       " 273,\n",
       " 279,\n",
       " 281,\n",
       " 283,\n",
       " 284,\n",
       " 288,\n",
       " 95,\n",
       " 98,\n",
       " 99,\n",
       " '경산',\n",
       " '고성',\n",
       " '고양',\n",
       " '곡성',\n",
       " '공주',\n",
       " '과천',\n",
       " '괴산',\n",
       " '구례',\n",
       " '김제',\n",
       " '김포',\n",
       " '나주',\n",
       " '남양주',\n",
       " '논산',\n",
       " '담양',\n",
       " '당진',\n",
       " '무안',\n",
       " '서천',\n",
       " '성남',\n",
       " '성주',\n",
       " '신안',\n",
       " '아산',\n",
       " '안성',\n",
       " '양주',\n",
       " '여주',\n",
       " '연천',\n",
       " '영암',\n",
       " '예산',\n",
       " '옥천',\n",
       " '완주',\n",
       " '용인',\n",
       " '음성',\n",
       " '의정부',\n",
       " '익산',\n",
       " '장성',\n",
       " '증평',\n",
       " '진안',\n",
       " '진천',\n",
       " '청양',\n",
       " '청원',\n",
       " '평택',\n",
       " '포천',\n",
       " '하동',\n",
       " '함평',\n",
       " '화성',\n",
       " '화순',\n",
       " '횡성'}"
      ]
     },
     "execution_count": 149,
     "metadata": {},
     "output_type": "execute_result"
    }
   ],
   "source": [
    "set(hpai[\"지역코드\"])"
   ]
  },
  {
   "cell_type": "code",
   "execution_count": 145,
   "id": "ec02a700",
   "metadata": {},
   "outputs": [],
   "source": [
    "temp = pd.read_excel(\"C:/Users/tlsgh/문서/code/aiai/data/HPAIOccurlist_v2.xlsx\")"
   ]
  },
  {
   "cell_type": "code",
   "execution_count": 146,
   "id": "0ff6e1ae",
   "metadata": {},
   "outputs": [],
   "source": [
    "hpai2 = temp.copy()"
   ]
  },
  {
   "cell_type": "code",
   "execution_count": 147,
   "id": "95572da3",
   "metadata": {},
   "outputs": [
    {
     "data": {
      "text/plain": [
       "{95,\n",
       " 98,\n",
       " 99,\n",
       " 101,\n",
       " 108,\n",
       " 112,\n",
       " 114,\n",
       " 116,\n",
       " 119,\n",
       " 127,\n",
       " 129,\n",
       " 131,\n",
       " 133,\n",
       " 137,\n",
       " 138,\n",
       " 140,\n",
       " 143,\n",
       " 146,\n",
       " 152,\n",
       " 156,\n",
       " 159,\n",
       " 162,\n",
       " 164,\n",
       " 168,\n",
       " 172,\n",
       " 174,\n",
       " 176,\n",
       " 177,\n",
       " 184,\n",
       " 188,\n",
       " 192,\n",
       " 202,\n",
       " 203,\n",
       " 211,\n",
       " 232,\n",
       " 236,\n",
       " 238,\n",
       " 243,\n",
       " 244,\n",
       " 245,\n",
       " 248,\n",
       " 251,\n",
       " 252,\n",
       " 254,\n",
       " 257,\n",
       " 258,\n",
       " 259,\n",
       " 260,\n",
       " 261,\n",
       " 262,\n",
       " 268,\n",
       " 273,\n",
       " 279,\n",
       " 281,\n",
       " 283,\n",
       " 284,\n",
       " 288}"
      ]
     },
     "execution_count": 147,
     "metadata": {},
     "output_type": "execute_result"
    }
   ],
   "source": [
    "set(hpai2[\"지역코드\"])"
   ]
  },
  {
   "cell_type": "code",
   "execution_count": null,
   "id": "128e9f5a",
   "metadata": {},
   "outputs": [],
   "source": []
  }
 ],
 "metadata": {
  "kernelspec": {
   "display_name": "Python 3",
   "language": "python",
   "name": "python3"
  },
  "language_info": {
   "codemirror_mode": {
    "name": "ipython",
    "version": 3
   },
   "file_extension": ".py",
   "mimetype": "text/x-python",
   "name": "python",
   "nbconvert_exporter": "python",
   "pygments_lexer": "ipython3",
   "version": "3.8.8"
  }
 },
 "nbformat": 4,
 "nbformat_minor": 5
}
