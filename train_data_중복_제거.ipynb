{
 "cells": [
  {
   "cell_type": "code",
   "execution_count": 1,
   "metadata": {},
   "outputs": [],
   "source": [
    "import pandas as pd\n",
    "import numpy as np\n",
    "import datetime \n",
    "from dateutil.relativedelta import relativedelta\n",
    "from tqdm import tqdm\n",
    "from scipy import stats"
   ]
  },
  {
   "cell_type": "code",
   "execution_count": 2,
   "metadata": {},
   "outputs": [],
   "source": [
    "total_df=pd.read_csv(\"risk_data/Train_data_set.csv\", encoding='utf-8-sig')"
   ]
  },
  {
   "cell_type": "code",
   "execution_count": 3,
   "metadata": {},
   "outputs": [],
   "source": [
    "total_df=total_df.sort_values(['month','day','시군구index','철새수','최초발생거리','평균온도','일강수량']).reset_index(drop=True)"
   ]
  },
  {
   "cell_type": "code",
   "execution_count": 4,
   "metadata": {},
   "outputs": [
    {
     "data": {
      "text/plain": [
       "RangeIndex(start=0, stop=2454441, step=1)"
      ]
     },
     "execution_count": 4,
     "metadata": {},
     "output_type": "execute_result"
    }
   ],
   "source": [
    "total_df.index"
   ]
  },
  {
   "cell_type": "code",
   "execution_count": null,
   "metadata": {},
   "outputs": [],
   "source": [
    "temp={}\n",
    "for col in total_df.columns:\n",
    "    temp[col]=[total_df.loc[0,col]]\n",
    "for i in tqdm(range(1,len(total_df))):\n",
    "    if (total_df.loc[i-1,'month']==total_df.loc[i,'month'] and\n",
    "        total_df.loc[i-1,'day']==total_df.loc[i,'day'] and\n",
    "        total_df.loc[i-1,'시군구index']==total_df.loc[i,'시군구index'] and\n",
    "        total_df.loc[i-1,'철새수']==total_df.loc[i,'철새수'] and\n",
    "        total_df.loc[i-1,'최초발생거리']==total_df.loc[i,'최초발생거리'] and\n",
    "        total_df.loc[i-1,'평균온도']==total_df.loc[i,'평균온도'] and\n",
    "        total_df.loc[i-1,'일강수량']==total_df.loc[i,'일강수량']):\n",
    "        continue\n",
    "    for col in total_df.columns:\n",
    "        temp[col].append(total_df.loc[i,col])"
   ]
  },
  {
   "cell_type": "code",
   "execution_count": null,
   "metadata": {},
   "outputs": [],
   "source": [
    "total=pd.DataFrame.from_dict(temp)"
   ]
  },
  {
   "cell_type": "code",
   "execution_count": null,
   "metadata": {},
   "outputs": [],
   "source": [
    "for n1, group in tqdm(total.groupby(['month','day','시군구index','철새수','최초발생거리','평균온도','일강수량'])):\n",
    "    if len(group)>1:\n",
    "        display(group)"
   ]
  },
  {
   "cell_type": "code",
   "execution_count": null,
   "metadata": {},
   "outputs": [],
   "source": [
    "total.to_csv(\"risk_data/Train_data_set.csv\",encoding='utf-8-sig',index=False)"
   ]
  }
 ],
 "metadata": {
  "kernelspec": {
   "display_name": "Python 3",
   "language": "python",
   "name": "python3"
  },
  "language_info": {
   "codemirror_mode": {
    "name": "ipython",
    "version": 3
   },
   "file_extension": ".py",
   "mimetype": "text/x-python",
   "name": "python",
   "nbconvert_exporter": "python",
   "pygments_lexer": "ipython3",
   "version": "3.8.5"
  }
 },
 "nbformat": 4,
 "nbformat_minor": 4
}
