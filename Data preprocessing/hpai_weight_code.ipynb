{
 "cells": [
  {
   "cell_type": "code",
   "execution_count": 1,
   "id": "07c6c82b",
   "metadata": {},
   "outputs": [],
   "source": [
    "import pandas as pd\n",
    "import numpy as np"
   ]
  },
  {
   "cell_type": "code",
   "execution_count": 2,
   "id": "e04be021",
   "metadata": {},
   "outputs": [],
   "source": [
    "data=pd.read_csv(\"HPAIOccurlist_final_v2.csv\", encoding='utf-8-sig')"
   ]
  },
  {
   "cell_type": "code",
   "execution_count": 3,
   "id": "83aec169",
   "metadata": {},
   "outputs": [
    {
     "data": {
      "text/html": [
       "<div>\n",
       "<style scoped>\n",
       "    .dataframe tbody tr th:only-of-type {\n",
       "        vertical-align: middle;\n",
       "    }\n",
       "\n",
       "    .dataframe tbody tr th {\n",
       "        vertical-align: top;\n",
       "    }\n",
       "\n",
       "    .dataframe thead th {\n",
       "        text-align: right;\n",
       "    }\n",
       "</style>\n",
       "<table border=\"1\" class=\"dataframe\">\n",
       "  <thead>\n",
       "    <tr style=\"text-align: right;\">\n",
       "      <th></th>\n",
       "      <th>발생일</th>\n",
       "      <th>지역코드</th>\n",
       "      <th>시도</th>\n",
       "      <th>시군구</th>\n",
       "      <th>year</th>\n",
       "      <th>month</th>\n",
       "      <th>day</th>\n",
       "    </tr>\n",
       "  </thead>\n",
       "  <tbody>\n",
       "    <tr>\n",
       "      <th>0</th>\n",
       "      <td>20210223</td>\n",
       "      <td>114</td>\n",
       "      <td>강원도</td>\n",
       "      <td>원주시</td>\n",
       "      <td>2021</td>\n",
       "      <td>2</td>\n",
       "      <td>23</td>\n",
       "    </tr>\n",
       "    <tr>\n",
       "      <th>1</th>\n",
       "      <td>20170103</td>\n",
       "      <td>211</td>\n",
       "      <td>강원도</td>\n",
       "      <td>인제군</td>\n",
       "      <td>2017</td>\n",
       "      <td>1</td>\n",
       "      <td>3</td>\n",
       "    </tr>\n",
       "    <tr>\n",
       "      <th>2</th>\n",
       "      <td>20161209</td>\n",
       "      <td>95</td>\n",
       "      <td>강원도</td>\n",
       "      <td>철원군</td>\n",
       "      <td>2016</td>\n",
       "      <td>12</td>\n",
       "      <td>9</td>\n",
       "    </tr>\n",
       "    <tr>\n",
       "      <th>3</th>\n",
       "      <td>20161130</td>\n",
       "      <td>95</td>\n",
       "      <td>강원도</td>\n",
       "      <td>철원군</td>\n",
       "      <td>2016</td>\n",
       "      <td>11</td>\n",
       "      <td>30</td>\n",
       "    </tr>\n",
       "    <tr>\n",
       "      <th>4</th>\n",
       "      <td>20080507</td>\n",
       "      <td>101</td>\n",
       "      <td>강원도</td>\n",
       "      <td>춘천시</td>\n",
       "      <td>2008</td>\n",
       "      <td>5</td>\n",
       "      <td>7</td>\n",
       "    </tr>\n",
       "  </tbody>\n",
       "</table>\n",
       "</div>"
      ],
      "text/plain": [
       "        발생일  지역코드   시도  시군구  year  month  day\n",
       "0  20210223   114  강원도  원주시  2021      2   23\n",
       "1  20170103   211  강원도  인제군  2017      1    3\n",
       "2  20161209    95  강원도  철원군  2016     12    9\n",
       "3  20161130    95  강원도  철원군  2016     11   30\n",
       "4  20080507   101  강원도  춘천시  2008      5    7"
      ]
     },
     "execution_count": 3,
     "metadata": {},
     "output_type": "execute_result"
    }
   ],
   "source": [
    "data.head()"
   ]
  },
  {
   "cell_type": "code",
   "execution_count": 4,
   "id": "fc768783",
   "metadata": {},
   "outputs": [],
   "source": [
    "# 21년 데이터 제외\n",
    "data=data[data['year']<2021]"
   ]
  },
  {
   "cell_type": "code",
   "execution_count": 5,
   "id": "6b4f985e",
   "metadata": {},
   "outputs": [
    {
     "data": {
      "text/html": [
       "<div>\n",
       "<style scoped>\n",
       "    .dataframe tbody tr th:only-of-type {\n",
       "        vertical-align: middle;\n",
       "    }\n",
       "\n",
       "    .dataframe tbody tr th {\n",
       "        vertical-align: top;\n",
       "    }\n",
       "\n",
       "    .dataframe thead th {\n",
       "        text-align: right;\n",
       "    }\n",
       "</style>\n",
       "<table border=\"1\" class=\"dataframe\">\n",
       "  <thead>\n",
       "    <tr style=\"text-align: right;\">\n",
       "      <th></th>\n",
       "      <th>발생일</th>\n",
       "      <th>지역코드</th>\n",
       "      <th>시도</th>\n",
       "      <th>시군구</th>\n",
       "      <th>year</th>\n",
       "      <th>month</th>\n",
       "      <th>day</th>\n",
       "    </tr>\n",
       "  </thead>\n",
       "  <tbody>\n",
       "    <tr>\n",
       "      <th>1</th>\n",
       "      <td>20170103</td>\n",
       "      <td>211</td>\n",
       "      <td>강원도</td>\n",
       "      <td>인제군</td>\n",
       "      <td>2017</td>\n",
       "      <td>1</td>\n",
       "      <td>3</td>\n",
       "    </tr>\n",
       "    <tr>\n",
       "      <th>2</th>\n",
       "      <td>20161209</td>\n",
       "      <td>95</td>\n",
       "      <td>강원도</td>\n",
       "      <td>철원군</td>\n",
       "      <td>2016</td>\n",
       "      <td>12</td>\n",
       "      <td>9</td>\n",
       "    </tr>\n",
       "    <tr>\n",
       "      <th>3</th>\n",
       "      <td>20161130</td>\n",
       "      <td>95</td>\n",
       "      <td>강원도</td>\n",
       "      <td>철원군</td>\n",
       "      <td>2016</td>\n",
       "      <td>11</td>\n",
       "      <td>30</td>\n",
       "    </tr>\n",
       "    <tr>\n",
       "      <th>4</th>\n",
       "      <td>20080507</td>\n",
       "      <td>101</td>\n",
       "      <td>강원도</td>\n",
       "      <td>춘천시</td>\n",
       "      <td>2008</td>\n",
       "      <td>5</td>\n",
       "      <td>7</td>\n",
       "    </tr>\n",
       "    <tr>\n",
       "      <th>5</th>\n",
       "      <td>20080507</td>\n",
       "      <td>101</td>\n",
       "      <td>강원도</td>\n",
       "      <td>춘천시</td>\n",
       "      <td>2008</td>\n",
       "      <td>5</td>\n",
       "      <td>7</td>\n",
       "    </tr>\n",
       "  </tbody>\n",
       "</table>\n",
       "</div>"
      ],
      "text/plain": [
       "        발생일  지역코드   시도  시군구  year  month  day\n",
       "1  20170103   211  강원도  인제군  2017      1    3\n",
       "2  20161209    95  강원도  철원군  2016     12    9\n",
       "3  20161130    95  강원도  철원군  2016     11   30\n",
       "4  20080507   101  강원도  춘천시  2008      5    7\n",
       "5  20080507   101  강원도  춘천시  2008      5    7"
      ]
     },
     "execution_count": 5,
     "metadata": {},
     "output_type": "execute_result"
    }
   ],
   "source": [
    "data.head()"
   ]
  },
  {
   "cell_type": "code",
   "execution_count": 6,
   "id": "3051ae23",
   "metadata": {},
   "outputs": [],
   "source": [
    "df=pd.DataFrame(columns=['시도','시군구','month','발생수'])\n",
    "for n1, group in data.groupby(['시도','시군구','month']):\n",
    "    df=df.append({\"시도\":n1[0],\"시군구\":n1[1],\"month\":n1[2],\"발생수\":len(group)}, ignore_index=True)"
   ]
  },
  {
   "cell_type": "code",
   "execution_count": 7,
   "id": "9589e146",
   "metadata": {},
   "outputs": [],
   "source": [
    "df['rank']=df['발생수'].rank(method='dense')"
   ]
  },
  {
   "cell_type": "code",
   "execution_count": 8,
   "id": "cecc4a54",
   "metadata": {},
   "outputs": [
    {
     "name": "stdout",
     "output_type": "stream",
     "text": [
      "평균:  3.6259541984732824\n",
      "큰 수: 25.0\n",
      "개수: 262\n"
     ]
    }
   ],
   "source": [
    "print(\"평균: \",np.mean(df['rank']))\n",
    "print(\"큰 수:\",max(df['rank']))\n",
    "print(\"개수:\", len(df['rank']))"
   ]
  },
  {
   "cell_type": "code",
   "execution_count": 21,
   "id": "6a749a24",
   "metadata": {},
   "outputs": [
    {
     "data": {
      "text/html": [
       "<div>\n",
       "<style scoped>\n",
       "    .dataframe tbody tr th:only-of-type {\n",
       "        vertical-align: middle;\n",
       "    }\n",
       "\n",
       "    .dataframe tbody tr th {\n",
       "        vertical-align: top;\n",
       "    }\n",
       "\n",
       "    .dataframe thead th {\n",
       "        text-align: right;\n",
       "    }\n",
       "</style>\n",
       "<table border=\"1\" class=\"dataframe\">\n",
       "  <thead>\n",
       "    <tr style=\"text-align: right;\">\n",
       "      <th></th>\n",
       "      <th>시도</th>\n",
       "      <th>시군구</th>\n",
       "      <th>month</th>\n",
       "      <th>발생수</th>\n",
       "      <th>rank</th>\n",
       "    </tr>\n",
       "  </thead>\n",
       "  <tbody>\n",
       "    <tr>\n",
       "      <th>160</th>\n",
       "      <td>전라남도</td>\n",
       "      <td>영암군</td>\n",
       "      <td>12</td>\n",
       "      <td>9</td>\n",
       "      <td>9.0</td>\n",
       "    </tr>\n",
       "    <tr>\n",
       "      <th>208</th>\n",
       "      <td>전라북도</td>\n",
       "      <td>정읍시</td>\n",
       "      <td>1</td>\n",
       "      <td>9</td>\n",
       "      <td>9.0</td>\n",
       "    </tr>\n",
       "    <tr>\n",
       "      <th>235</th>\n",
       "      <td>충청남도</td>\n",
       "      <td>천안시</td>\n",
       "      <td>2</td>\n",
       "      <td>9</td>\n",
       "      <td>9.0</td>\n",
       "    </tr>\n",
       "  </tbody>\n",
       "</table>\n",
       "</div>"
      ],
      "text/plain": [
       "       시도  시군구 month 발생수  rank\n",
       "160  전라남도  영암군    12   9   9.0\n",
       "208  전라북도  정읍시     1   9   9.0\n",
       "235  충청남도  천안시     2   9   9.0"
      ]
     },
     "execution_count": 21,
     "metadata": {},
     "output_type": "execute_result"
    }
   ],
   "source": [
    "df.query(\"rank==9\")"
   ]
  },
  {
   "cell_type": "code",
   "execution_count": 24,
   "id": "d5c3b128",
   "metadata": {},
   "outputs": [],
   "source": [
    "df.to_csv(\"risk_data/weight_variable/Period_weight.csv\", index=False, encoding='utf-8-sig')"
   ]
  },
  {
   "cell_type": "code",
   "execution_count": null,
   "id": "264aa118",
   "metadata": {},
   "outputs": [],
   "source": []
  }
 ],
 "metadata": {
  "kernelspec": {
   "display_name": "Python 3 (ipykernel)",
   "language": "python",
   "name": "python3"
  },
  "language_info": {
   "codemirror_mode": {
    "name": "ipython",
    "version": 3
   },
   "file_extension": ".py",
   "mimetype": "text/x-python",
   "name": "python",
   "nbconvert_exporter": "python",
   "pygments_lexer": "ipython3",
   "version": "3.8.11"
  }
 },
 "nbformat": 4,
 "nbformat_minor": 5
}
