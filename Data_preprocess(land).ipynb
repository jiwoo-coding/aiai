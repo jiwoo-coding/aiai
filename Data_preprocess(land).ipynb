{
 "cells": [
  {
   "cell_type": "code",
   "execution_count": 1,
   "id": "35bc00a5",
   "metadata": {},
   "outputs": [],
   "source": [
    "import pandas as pd"
   ]
  },
  {
   "cell_type": "code",
   "execution_count": 30,
   "id": "fa573955",
   "metadata": {},
   "outputs": [],
   "source": [
    "with open('농업경영체_시군구_지목현황.txt', 'r', encoding='utf-8-sig') as f:\n",
    "    start=0\n",
    "    for line in f.readlines():\n",
    "        if start==0:\n",
    "            cols=line.rstrip().split(',')\n",
    "            total=pd.DataFrame(columns=cols)\n",
    "            start+=1\n",
    "            dic={}\n",
    "            for col in cols:\n",
    "                dic[col]=[]\n",
    "        else:\n",
    "            datas=line.rstrip()\n",
    "            temp=''\n",
    "            k=0\n",
    "            for s in datas:\n",
    "                if s=='\"' and k==0:\n",
    "                    k=1\n",
    "                elif k==1 and s!='\"':\n",
    "                    if s!=',':\n",
    "                        temp+=s\n",
    "                elif s=='\"' and k==1:\n",
    "                    k=0\n",
    "                else:\n",
    "                    temp+=s\n",
    "            datas=temp.split(',')\n",
    "            for i in range(len(cols)):\n",
    "                dic[cols[i]].append(datas[i])\n",
    "    f.close()"
   ]
  },
  {
   "cell_type": "code",
   "execution_count": 31,
   "id": "81a6c930",
   "metadata": {},
   "outputs": [],
   "source": [
    "for col in cols:\n",
    "    total[col]=dic[col]"
   ]
  },
  {
   "cell_type": "code",
   "execution_count": 36,
   "id": "6657627f",
   "metadata": {},
   "outputs": [],
   "source": [
    "total['지급필지수(개)']=total['지급필지수(개)'].astype('int')\n",
    "total['지급면적(ha)']=total['지급면적(ha)'].astype('float')"
   ]
  },
  {
   "cell_type": "code",
   "execution_count": 38,
   "id": "e73755d7",
   "metadata": {},
   "outputs": [
    {
     "data": {
      "text/html": [
       "<div>\n",
       "<style scoped>\n",
       "    .dataframe tbody tr th:only-of-type {\n",
       "        vertical-align: middle;\n",
       "    }\n",
       "\n",
       "    .dataframe tbody tr th {\n",
       "        vertical-align: top;\n",
       "    }\n",
       "\n",
       "    .dataframe thead th {\n",
       "        text-align: right;\n",
       "    }\n",
       "</style>\n",
       "<table border=\"1\" class=\"dataframe\">\n",
       "  <thead>\n",
       "    <tr style=\"text-align: right;\">\n",
       "      <th></th>\n",
       "      <th>시도</th>\n",
       "      <th>시군</th>\n",
       "      <th>실제지목 구분</th>\n",
       "      <th>지급필지수(개)</th>\n",
       "      <th>지급면적(ha)</th>\n",
       "    </tr>\n",
       "  </thead>\n",
       "  <tbody>\n",
       "    <tr>\n",
       "      <th>0</th>\n",
       "      <td>서울특별시</td>\n",
       "      <td>중랑구</td>\n",
       "      <td>과수</td>\n",
       "      <td>2</td>\n",
       "      <td>0.52</td>\n",
       "    </tr>\n",
       "    <tr>\n",
       "      <th>1</th>\n",
       "      <td>서울특별시</td>\n",
       "      <td>도봉구</td>\n",
       "      <td>밭</td>\n",
       "      <td>1</td>\n",
       "      <td>0.10</td>\n",
       "    </tr>\n",
       "    <tr>\n",
       "      <th>2</th>\n",
       "      <td>서울특별시</td>\n",
       "      <td>노원구</td>\n",
       "      <td>기타</td>\n",
       "      <td>1</td>\n",
       "      <td>0.60</td>\n",
       "    </tr>\n",
       "    <tr>\n",
       "      <th>3</th>\n",
       "      <td>서울특별시</td>\n",
       "      <td>강서구</td>\n",
       "      <td>밭</td>\n",
       "      <td>49</td>\n",
       "      <td>9.65</td>\n",
       "    </tr>\n",
       "    <tr>\n",
       "      <th>4</th>\n",
       "      <td>서울특별시</td>\n",
       "      <td>강서구</td>\n",
       "      <td>논</td>\n",
       "      <td>224</td>\n",
       "      <td>65.63</td>\n",
       "    </tr>\n",
       "  </tbody>\n",
       "</table>\n",
       "</div>"
      ],
      "text/plain": [
       "      시도   시군 실제지목 구분  지급필지수(개)  지급면적(ha)\n",
       "0  서울특별시  중랑구      과수         2      0.52\n",
       "1  서울특별시  도봉구       밭         1      0.10\n",
       "2  서울특별시  노원구      기타         1      0.60\n",
       "3  서울특별시  강서구       밭        49      9.65\n",
       "4  서울특별시  강서구       논       224     65.63"
      ]
     },
     "execution_count": 38,
     "metadata": {},
     "output_type": "execute_result"
    }
   ],
   "source": [
    "total.head()"
   ]
  },
  {
   "cell_type": "code",
   "execution_count": 39,
   "id": "9d1d1b62",
   "metadata": {},
   "outputs": [
    {
     "name": "stdout",
     "output_type": "stream",
     "text": [
      "<class 'pandas.core.frame.DataFrame'>\n",
      "RangeIndex: 927 entries, 0 to 926\n",
      "Data columns (total 5 columns):\n",
      " #   Column    Non-Null Count  Dtype  \n",
      "---  ------    --------------  -----  \n",
      " 0   시도        927 non-null    object \n",
      " 1   시군        927 non-null    object \n",
      " 2   실제지목 구분   927 non-null    object \n",
      " 3   지급필지수(개)  927 non-null    int32  \n",
      " 4   지급면적(ha)  927 non-null    float64\n",
      "dtypes: float64(1), int32(1), object(3)\n",
      "memory usage: 32.7+ KB\n"
     ]
    }
   ],
   "source": [
    "total.info()"
   ]
  },
  {
   "cell_type": "code",
   "execution_count": 47,
   "id": "c8c03880",
   "metadata": {},
   "outputs": [
    {
     "data": {
      "text/plain": [
       "{'과수', '기타', '논', '밭', '임야', '초지'}"
      ]
     },
     "execution_count": 47,
     "metadata": {},
     "output_type": "execute_result"
    }
   ],
   "source": [
    "# 실제지목 구분 종류\n",
    "set(total['실제지목 구분'])"
   ]
  },
  {
   "cell_type": "code",
   "execution_count": 40,
   "id": "58e8989d",
   "metadata": {},
   "outputs": [],
   "source": [
    "# 시군별로 농경지 합치기\n",
    "data_df=total.groupby(['시도','시군']).sum()"
   ]
  },
  {
   "cell_type": "code",
   "execution_count": 46,
   "id": "2f2addf4",
   "metadata": {},
   "outputs": [
    {
     "data": {
      "text/html": [
       "<div>\n",
       "<style scoped>\n",
       "    .dataframe tbody tr th:only-of-type {\n",
       "        vertical-align: middle;\n",
       "    }\n",
       "\n",
       "    .dataframe tbody tr th {\n",
       "        vertical-align: top;\n",
       "    }\n",
       "\n",
       "    .dataframe thead th {\n",
       "        text-align: right;\n",
       "    }\n",
       "</style>\n",
       "<table border=\"1\" class=\"dataframe\">\n",
       "  <thead>\n",
       "    <tr style=\"text-align: right;\">\n",
       "      <th></th>\n",
       "      <th>시도</th>\n",
       "      <th>시군</th>\n",
       "      <th>실제지목 구분</th>\n",
       "      <th>지급필지수(개)</th>\n",
       "      <th>지급면적(ha)</th>\n",
       "    </tr>\n",
       "  </thead>\n",
       "  <tbody>\n",
       "    <tr>\n",
       "      <th>271</th>\n",
       "      <td>강원도</td>\n",
       "      <td>강릉시</td>\n",
       "      <td>밭</td>\n",
       "      <td>18916</td>\n",
       "      <td>3092.30</td>\n",
       "    </tr>\n",
       "    <tr>\n",
       "      <th>272</th>\n",
       "      <td>강원도</td>\n",
       "      <td>강릉시</td>\n",
       "      <td>논</td>\n",
       "      <td>12146</td>\n",
       "      <td>2315.38</td>\n",
       "    </tr>\n",
       "    <tr>\n",
       "      <th>273</th>\n",
       "      <td>강원도</td>\n",
       "      <td>강릉시</td>\n",
       "      <td>과수</td>\n",
       "      <td>816</td>\n",
       "      <td>157.59</td>\n",
       "    </tr>\n",
       "    <tr>\n",
       "      <th>274</th>\n",
       "      <td>강원도</td>\n",
       "      <td>강릉시</td>\n",
       "      <td>임야</td>\n",
       "      <td>1</td>\n",
       "      <td>0.22</td>\n",
       "    </tr>\n",
       "    <tr>\n",
       "      <th>275</th>\n",
       "      <td>강원도</td>\n",
       "      <td>강릉시</td>\n",
       "      <td>초지</td>\n",
       "      <td>1</td>\n",
       "      <td>0.18</td>\n",
       "    </tr>\n",
       "    <tr>\n",
       "      <th>276</th>\n",
       "      <td>강원도</td>\n",
       "      <td>강릉시</td>\n",
       "      <td>기타</td>\n",
       "      <td>13</td>\n",
       "      <td>1.91</td>\n",
       "    </tr>\n",
       "  </tbody>\n",
       "</table>\n",
       "</div>"
      ],
      "text/plain": [
       "      시도   시군 실제지목 구분  지급필지수(개)  지급면적(ha)\n",
       "271  강원도  강릉시       밭     18916   3092.30\n",
       "272  강원도  강릉시       논     12146   2315.38\n",
       "273  강원도  강릉시      과수       816    157.59\n",
       "274  강원도  강릉시      임야         1      0.22\n",
       "275  강원도  강릉시      초지         1      0.18\n",
       "276  강원도  강릉시      기타        13      1.91"
      ]
     },
     "execution_count": 46,
     "metadata": {},
     "output_type": "execute_result"
    }
   ],
   "source": [
    "total.query(\"시군=='강릉시'\")"
   ]
  },
  {
   "cell_type": "code",
   "execution_count": 48,
   "id": "310fce7a",
   "metadata": {},
   "outputs": [],
   "source": [
    "data_df.reset_index(inplace=True)"
   ]
  },
  {
   "cell_type": "code",
   "execution_count": 49,
   "id": "5b323d0e",
   "metadata": {},
   "outputs": [
    {
     "data": {
      "text/html": [
       "<div>\n",
       "<style scoped>\n",
       "    .dataframe tbody tr th:only-of-type {\n",
       "        vertical-align: middle;\n",
       "    }\n",
       "\n",
       "    .dataframe tbody tr th {\n",
       "        vertical-align: top;\n",
       "    }\n",
       "\n",
       "    .dataframe thead th {\n",
       "        text-align: right;\n",
       "    }\n",
       "</style>\n",
       "<table border=\"1\" class=\"dataframe\">\n",
       "  <thead>\n",
       "    <tr style=\"text-align: right;\">\n",
       "      <th></th>\n",
       "      <th>시도</th>\n",
       "      <th>시군</th>\n",
       "      <th>지급필지수(개)</th>\n",
       "      <th>지급면적(ha)</th>\n",
       "    </tr>\n",
       "  </thead>\n",
       "  <tbody>\n",
       "    <tr>\n",
       "      <th>0</th>\n",
       "      <td>강원도</td>\n",
       "      <td>강릉시</td>\n",
       "      <td>31893</td>\n",
       "      <td>5567.58</td>\n",
       "    </tr>\n",
       "    <tr>\n",
       "      <th>1</th>\n",
       "      <td>강원도</td>\n",
       "      <td>고성군</td>\n",
       "      <td>17771</td>\n",
       "      <td>3640.29</td>\n",
       "    </tr>\n",
       "    <tr>\n",
       "      <th>2</th>\n",
       "      <td>강원도</td>\n",
       "      <td>동해시</td>\n",
       "      <td>3445</td>\n",
       "      <td>466.79</td>\n",
       "    </tr>\n",
       "    <tr>\n",
       "      <th>3</th>\n",
       "      <td>강원도</td>\n",
       "      <td>삼척시</td>\n",
       "      <td>14810</td>\n",
       "      <td>2756.34</td>\n",
       "    </tr>\n",
       "    <tr>\n",
       "      <th>4</th>\n",
       "      <td>강원도</td>\n",
       "      <td>속초시</td>\n",
       "      <td>1953</td>\n",
       "      <td>331.89</td>\n",
       "    </tr>\n",
       "  </tbody>\n",
       "</table>\n",
       "</div>"
      ],
      "text/plain": [
       "    시도   시군  지급필지수(개)  지급면적(ha)\n",
       "0  강원도  강릉시     31893   5567.58\n",
       "1  강원도  고성군     17771   3640.29\n",
       "2  강원도  동해시      3445    466.79\n",
       "3  강원도  삼척시     14810   2756.34\n",
       "4  강원도  속초시      1953    331.89"
      ]
     },
     "execution_count": 49,
     "metadata": {},
     "output_type": "execute_result"
    }
   ],
   "source": [
    "data_df.head()"
   ]
  },
  {
   "cell_type": "code",
   "execution_count": null,
   "id": "7d28d493",
   "metadata": {},
   "outputs": [],
   "source": []
  }
 ],
 "metadata": {
  "kernelspec": {
   "display_name": "Python 3",
   "language": "python",
   "name": "python3"
  },
  "language_info": {
   "codemirror_mode": {
    "name": "ipython",
    "version": 3
   },
   "file_extension": ".py",
   "mimetype": "text/x-python",
   "name": "python",
   "nbconvert_exporter": "python",
   "pygments_lexer": "ipython3",
   "version": "3.8.10"
  }
 },
 "nbformat": 4,
 "nbformat_minor": 5
}
